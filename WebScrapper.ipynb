{
 "cells": [
  {
   "cell_type": "code",
   "execution_count": 1,
   "id": "7753b64a",
   "metadata": {},
   "outputs": [],
   "source": [
    "import requests\n",
    "from bs4 import BeautifulSoup\n",
    "import urllib.request \n",
    "import csv\n",
    "import pandas as pd\n",
    "import numpy as np\n",
    "from tqdm.auto import tqdm"
   ]
  },
  {
   "cell_type": "code",
   "execution_count": 2,
   "id": "bab747c8",
   "metadata": {},
   "outputs": [
    {
     "data": {
      "text/html": [
       "<div>\n",
       "<style scoped>\n",
       "    .dataframe tbody tr th:only-of-type {\n",
       "        vertical-align: middle;\n",
       "    }\n",
       "\n",
       "    .dataframe tbody tr th {\n",
       "        vertical-align: top;\n",
       "    }\n",
       "\n",
       "    .dataframe thead th {\n",
       "        text-align: right;\n",
       "    }\n",
       "</style>\n",
       "<table border=\"1\" class=\"dataframe\">\n",
       "  <thead>\n",
       "    <tr style=\"text-align: right;\">\n",
       "      <th></th>\n",
       "      <th>Id</th>\n",
       "      <th>Character</th>\n",
       "      <th>Game</th>\n",
       "      <th>Description</th>\n",
       "    </tr>\n",
       "  </thead>\n",
       "  <tbody>\n",
       "    <tr>\n",
       "      <th>0</th>\n",
       "      <td>1</td>\n",
       "      <td>Brimstone</td>\n",
       "      <td>Valorant</td>\n",
       "      <td>NaN</td>\n",
       "    </tr>\n",
       "    <tr>\n",
       "      <th>1</th>\n",
       "      <td>2</td>\n",
       "      <td>Viper</td>\n",
       "      <td>Valorant</td>\n",
       "      <td>NaN</td>\n",
       "    </tr>\n",
       "    <tr>\n",
       "      <th>2</th>\n",
       "      <td>3</td>\n",
       "      <td>Omen</td>\n",
       "      <td>Valorant</td>\n",
       "      <td>NaN</td>\n",
       "    </tr>\n",
       "    <tr>\n",
       "      <th>3</th>\n",
       "      <td>4</td>\n",
       "      <td>Killjoy</td>\n",
       "      <td>Valorant</td>\n",
       "      <td>NaN</td>\n",
       "    </tr>\n",
       "    <tr>\n",
       "      <th>4</th>\n",
       "      <td>5</td>\n",
       "      <td>Cypher</td>\n",
       "      <td>Valorant</td>\n",
       "      <td>NaN</td>\n",
       "    </tr>\n",
       "  </tbody>\n",
       "</table>\n",
       "</div>"
      ],
      "text/plain": [
       "   Id  Character      Game  Description\n",
       "0   1  Brimstone  Valorant          NaN\n",
       "1   2      Viper  Valorant          NaN\n",
       "2   3       Omen  Valorant          NaN\n",
       "3   4    Killjoy  Valorant          NaN\n",
       "4   5     Cypher  Valorant          NaN"
      ]
     },
     "execution_count": 2,
     "metadata": {},
     "output_type": "execute_result"
    }
   ],
   "source": [
    "try:\n",
    "    df = pd.read_csv('character_names.csv', encoding='utf-8')\n",
    "except UnicodeDecodeError:\n",
    "    try:\n",
    "        df = pd.read_csv('character_names.csv', encoding='ISO-8859-1')\n",
    "    except UnicodeDecodeError:\n",
    "        df = pd.read_csv('character_names.csv', encoding='cp1252')\n",
    "\n",
    "df.head()"
   ]
  },
  {
   "cell_type": "code",
   "execution_count": 3,
   "id": "4ee38fa3",
   "metadata": {},
   "outputs": [
    {
     "data": {
      "text/html": [
       "<div>\n",
       "<style scoped>\n",
       "    .dataframe tbody tr th:only-of-type {\n",
       "        vertical-align: middle;\n",
       "    }\n",
       "\n",
       "    .dataframe tbody tr th {\n",
       "        vertical-align: top;\n",
       "    }\n",
       "\n",
       "    .dataframe thead th {\n",
       "        text-align: right;\n",
       "    }\n",
       "</style>\n",
       "<table border=\"1\" class=\"dataframe\">\n",
       "  <thead>\n",
       "    <tr style=\"text-align: right;\">\n",
       "      <th></th>\n",
       "      <th>Id</th>\n",
       "      <th>Character</th>\n",
       "      <th>Game</th>\n",
       "      <th>Description</th>\n",
       "      <th>base_query</th>\n",
       "    </tr>\n",
       "  </thead>\n",
       "  <tbody>\n",
       "    <tr>\n",
       "      <th>0</th>\n",
       "      <td>1</td>\n",
       "      <td>Brimstone</td>\n",
       "      <td>Valorant</td>\n",
       "      <td>NaN</td>\n",
       "      <td>Valorant Brimstone</td>\n",
       "    </tr>\n",
       "    <tr>\n",
       "      <th>1</th>\n",
       "      <td>2</td>\n",
       "      <td>Viper</td>\n",
       "      <td>Valorant</td>\n",
       "      <td>NaN</td>\n",
       "      <td>Valorant Viper</td>\n",
       "    </tr>\n",
       "    <tr>\n",
       "      <th>2</th>\n",
       "      <td>3</td>\n",
       "      <td>Omen</td>\n",
       "      <td>Valorant</td>\n",
       "      <td>NaN</td>\n",
       "      <td>Valorant Omen</td>\n",
       "    </tr>\n",
       "    <tr>\n",
       "      <th>3</th>\n",
       "      <td>4</td>\n",
       "      <td>Killjoy</td>\n",
       "      <td>Valorant</td>\n",
       "      <td>NaN</td>\n",
       "      <td>Valorant Killjoy</td>\n",
       "    </tr>\n",
       "    <tr>\n",
       "      <th>4</th>\n",
       "      <td>5</td>\n",
       "      <td>Cypher</td>\n",
       "      <td>Valorant</td>\n",
       "      <td>NaN</td>\n",
       "      <td>Valorant Cypher</td>\n",
       "    </tr>\n",
       "  </tbody>\n",
       "</table>\n",
       "</div>"
      ],
      "text/plain": [
       "   Id  Character      Game  Description          base_query\n",
       "0   1  Brimstone  Valorant          NaN  Valorant Brimstone\n",
       "1   2      Viper  Valorant          NaN      Valorant Viper\n",
       "2   3       Omen  Valorant          NaN       Valorant Omen\n",
       "3   4    Killjoy  Valorant          NaN    Valorant Killjoy\n",
       "4   5     Cypher  Valorant          NaN     Valorant Cypher"
      ]
     },
     "execution_count": 3,
     "metadata": {},
     "output_type": "execute_result"
    }
   ],
   "source": [
    "df['base_query'] = df['Game'] + ' ' + df['Character']\n",
    "df.head()"
   ]
  },
  {
   "cell_type": "code",
   "execution_count": 4,
   "id": "9f4f5c76",
   "metadata": {},
   "outputs": [
    {
     "data": {
      "text/html": [
       "<div>\n",
       "<style scoped>\n",
       "    .dataframe tbody tr th:only-of-type {\n",
       "        vertical-align: middle;\n",
       "    }\n",
       "\n",
       "    .dataframe tbody tr th {\n",
       "        vertical-align: top;\n",
       "    }\n",
       "\n",
       "    .dataframe thead th {\n",
       "        text-align: right;\n",
       "    }\n",
       "</style>\n",
       "<table border=\"1\" class=\"dataframe\">\n",
       "  <thead>\n",
       "    <tr style=\"text-align: right;\">\n",
       "      <th></th>\n",
       "      <th>Id</th>\n",
       "      <th>Character</th>\n",
       "      <th>Game</th>\n",
       "      <th>Description</th>\n",
       "      <th>base_query</th>\n",
       "      <th>base_query_fan art</th>\n",
       "      <th>base_query_art</th>\n",
       "      <th>base_query_wallpaper</th>\n",
       "    </tr>\n",
       "  </thead>\n",
       "  <tbody>\n",
       "    <tr>\n",
       "      <th>0</th>\n",
       "      <td>1</td>\n",
       "      <td>Brimstone</td>\n",
       "      <td>Valorant</td>\n",
       "      <td>NaN</td>\n",
       "      <td>Valorant Brimstone</td>\n",
       "      <td>Valorant Brimstone fan art</td>\n",
       "      <td>Valorant Brimstone art</td>\n",
       "      <td>Valorant Brimstone wallpaper</td>\n",
       "    </tr>\n",
       "    <tr>\n",
       "      <th>1</th>\n",
       "      <td>2</td>\n",
       "      <td>Viper</td>\n",
       "      <td>Valorant</td>\n",
       "      <td>NaN</td>\n",
       "      <td>Valorant Viper</td>\n",
       "      <td>Valorant Viper fan art</td>\n",
       "      <td>Valorant Viper art</td>\n",
       "      <td>Valorant Viper wallpaper</td>\n",
       "    </tr>\n",
       "    <tr>\n",
       "      <th>2</th>\n",
       "      <td>3</td>\n",
       "      <td>Omen</td>\n",
       "      <td>Valorant</td>\n",
       "      <td>NaN</td>\n",
       "      <td>Valorant Omen</td>\n",
       "      <td>Valorant Omen fan art</td>\n",
       "      <td>Valorant Omen art</td>\n",
       "      <td>Valorant Omen wallpaper</td>\n",
       "    </tr>\n",
       "    <tr>\n",
       "      <th>3</th>\n",
       "      <td>4</td>\n",
       "      <td>Killjoy</td>\n",
       "      <td>Valorant</td>\n",
       "      <td>NaN</td>\n",
       "      <td>Valorant Killjoy</td>\n",
       "      <td>Valorant Killjoy fan art</td>\n",
       "      <td>Valorant Killjoy art</td>\n",
       "      <td>Valorant Killjoy wallpaper</td>\n",
       "    </tr>\n",
       "    <tr>\n",
       "      <th>4</th>\n",
       "      <td>5</td>\n",
       "      <td>Cypher</td>\n",
       "      <td>Valorant</td>\n",
       "      <td>NaN</td>\n",
       "      <td>Valorant Cypher</td>\n",
       "      <td>Valorant Cypher fan art</td>\n",
       "      <td>Valorant Cypher art</td>\n",
       "      <td>Valorant Cypher wallpaper</td>\n",
       "    </tr>\n",
       "  </tbody>\n",
       "</table>\n",
       "</div>"
      ],
      "text/plain": [
       "   Id  Character      Game  Description          base_query  \\\n",
       "0   1  Brimstone  Valorant          NaN  Valorant Brimstone   \n",
       "1   2      Viper  Valorant          NaN      Valorant Viper   \n",
       "2   3       Omen  Valorant          NaN       Valorant Omen   \n",
       "3   4    Killjoy  Valorant          NaN    Valorant Killjoy   \n",
       "4   5     Cypher  Valorant          NaN     Valorant Cypher   \n",
       "\n",
       "           base_query_fan art          base_query_art  \\\n",
       "0  Valorant Brimstone fan art  Valorant Brimstone art   \n",
       "1      Valorant Viper fan art      Valorant Viper art   \n",
       "2       Valorant Omen fan art       Valorant Omen art   \n",
       "3    Valorant Killjoy fan art    Valorant Killjoy art   \n",
       "4     Valorant Cypher fan art     Valorant Cypher art   \n",
       "\n",
       "           base_query_wallpaper  \n",
       "0  Valorant Brimstone wallpaper  \n",
       "1      Valorant Viper wallpaper  \n",
       "2       Valorant Omen wallpaper  \n",
       "3    Valorant Killjoy wallpaper  \n",
       "4     Valorant Cypher wallpaper  "
      ]
     },
     "execution_count": 4,
     "metadata": {},
     "output_type": "execute_result"
    }
   ],
   "source": [
    "extras = ['fan art', 'art', 'wallpaper']\n",
    "for _ in extras:\n",
    "    df['base_query_' + _ ] = df['base_query'] + ' ' + _\n",
    "\n",
    "df.head()"
   ]
  },
  {
   "cell_type": "code",
   "execution_count": 5,
   "id": "43bdf6c4",
   "metadata": {},
   "outputs": [
    {
     "data": {
      "text/html": [
       "<div>\n",
       "<style scoped>\n",
       "    .dataframe tbody tr th:only-of-type {\n",
       "        vertical-align: middle;\n",
       "    }\n",
       "\n",
       "    .dataframe tbody tr th {\n",
       "        vertical-align: top;\n",
       "    }\n",
       "\n",
       "    .dataframe thead th {\n",
       "        text-align: right;\n",
       "    }\n",
       "</style>\n",
       "<table border=\"1\" class=\"dataframe\">\n",
       "  <thead>\n",
       "    <tr style=\"text-align: right;\">\n",
       "      <th></th>\n",
       "      <th>Id</th>\n",
       "      <th>Character</th>\n",
       "      <th>Game</th>\n",
       "      <th>Description</th>\n",
       "      <th>base_query</th>\n",
       "      <th>base_query_fan art</th>\n",
       "      <th>base_query_art</th>\n",
       "      <th>base_query_wallpaper</th>\n",
       "      <th>queries</th>\n",
       "    </tr>\n",
       "  </thead>\n",
       "  <tbody>\n",
       "    <tr>\n",
       "      <th>0</th>\n",
       "      <td>1</td>\n",
       "      <td>Brimstone</td>\n",
       "      <td>Valorant</td>\n",
       "      <td>NaN</td>\n",
       "      <td>Valorant Brimstone</td>\n",
       "      <td>Valorant Brimstone fan art</td>\n",
       "      <td>Valorant Brimstone art</td>\n",
       "      <td>Valorant Brimstone wallpaper</td>\n",
       "      <td>[Valorant Brimstone, Valorant Brimstone fan ar...</td>\n",
       "    </tr>\n",
       "    <tr>\n",
       "      <th>1</th>\n",
       "      <td>2</td>\n",
       "      <td>Viper</td>\n",
       "      <td>Valorant</td>\n",
       "      <td>NaN</td>\n",
       "      <td>Valorant Viper</td>\n",
       "      <td>Valorant Viper fan art</td>\n",
       "      <td>Valorant Viper art</td>\n",
       "      <td>Valorant Viper wallpaper</td>\n",
       "      <td>[Valorant Viper, Valorant Viper fan art, Valor...</td>\n",
       "    </tr>\n",
       "    <tr>\n",
       "      <th>2</th>\n",
       "      <td>3</td>\n",
       "      <td>Omen</td>\n",
       "      <td>Valorant</td>\n",
       "      <td>NaN</td>\n",
       "      <td>Valorant Omen</td>\n",
       "      <td>Valorant Omen fan art</td>\n",
       "      <td>Valorant Omen art</td>\n",
       "      <td>Valorant Omen wallpaper</td>\n",
       "      <td>[Valorant Omen, Valorant Omen fan art, Valoran...</td>\n",
       "    </tr>\n",
       "    <tr>\n",
       "      <th>3</th>\n",
       "      <td>4</td>\n",
       "      <td>Killjoy</td>\n",
       "      <td>Valorant</td>\n",
       "      <td>NaN</td>\n",
       "      <td>Valorant Killjoy</td>\n",
       "      <td>Valorant Killjoy fan art</td>\n",
       "      <td>Valorant Killjoy art</td>\n",
       "      <td>Valorant Killjoy wallpaper</td>\n",
       "      <td>[Valorant Killjoy, Valorant Killjoy fan art, V...</td>\n",
       "    </tr>\n",
       "    <tr>\n",
       "      <th>4</th>\n",
       "      <td>5</td>\n",
       "      <td>Cypher</td>\n",
       "      <td>Valorant</td>\n",
       "      <td>NaN</td>\n",
       "      <td>Valorant Cypher</td>\n",
       "      <td>Valorant Cypher fan art</td>\n",
       "      <td>Valorant Cypher art</td>\n",
       "      <td>Valorant Cypher wallpaper</td>\n",
       "      <td>[Valorant Cypher, Valorant Cypher fan art, Val...</td>\n",
       "    </tr>\n",
       "  </tbody>\n",
       "</table>\n",
       "</div>"
      ],
      "text/plain": [
       "   Id  Character      Game  Description          base_query  \\\n",
       "0   1  Brimstone  Valorant          NaN  Valorant Brimstone   \n",
       "1   2      Viper  Valorant          NaN      Valorant Viper   \n",
       "2   3       Omen  Valorant          NaN       Valorant Omen   \n",
       "3   4    Killjoy  Valorant          NaN    Valorant Killjoy   \n",
       "4   5     Cypher  Valorant          NaN     Valorant Cypher   \n",
       "\n",
       "           base_query_fan art          base_query_art  \\\n",
       "0  Valorant Brimstone fan art  Valorant Brimstone art   \n",
       "1      Valorant Viper fan art      Valorant Viper art   \n",
       "2       Valorant Omen fan art       Valorant Omen art   \n",
       "3    Valorant Killjoy fan art    Valorant Killjoy art   \n",
       "4     Valorant Cypher fan art     Valorant Cypher art   \n",
       "\n",
       "           base_query_wallpaper  \\\n",
       "0  Valorant Brimstone wallpaper   \n",
       "1      Valorant Viper wallpaper   \n",
       "2       Valorant Omen wallpaper   \n",
       "3    Valorant Killjoy wallpaper   \n",
       "4     Valorant Cypher wallpaper   \n",
       "\n",
       "                                             queries  \n",
       "0  [Valorant Brimstone, Valorant Brimstone fan ar...  \n",
       "1  [Valorant Viper, Valorant Viper fan art, Valor...  \n",
       "2  [Valorant Omen, Valorant Omen fan art, Valoran...  \n",
       "3  [Valorant Killjoy, Valorant Killjoy fan art, V...  \n",
       "4  [Valorant Cypher, Valorant Cypher fan art, Val...  "
      ]
     },
     "execution_count": 5,
     "metadata": {},
     "output_type": "execute_result"
    }
   ],
   "source": [
    "def create_query_list(row):\n",
    "    return [row['base_query'], row['base_query_fan art'], row['base_query_art'], row['base_query_wallpaper']]\n",
    "\n",
    "df['queries'] = df.apply(create_query_list, axis=1)\n",
    "\n",
    "df.head()"
   ]
  },
  {
   "cell_type": "code",
   "execution_count": 6,
   "id": "f6d1eee9",
   "metadata": {},
   "outputs": [
    {
     "data": {
      "text/html": [
       "<div>\n",
       "<style scoped>\n",
       "    .dataframe tbody tr th:only-of-type {\n",
       "        vertical-align: middle;\n",
       "    }\n",
       "\n",
       "    .dataframe tbody tr th {\n",
       "        vertical-align: top;\n",
       "    }\n",
       "\n",
       "    .dataframe thead th {\n",
       "        text-align: right;\n",
       "    }\n",
       "</style>\n",
       "<table border=\"1\" class=\"dataframe\">\n",
       "  <thead>\n",
       "    <tr style=\"text-align: right;\">\n",
       "      <th></th>\n",
       "      <th>Id</th>\n",
       "      <th>Character</th>\n",
       "      <th>Game</th>\n",
       "      <th>queries</th>\n",
       "    </tr>\n",
       "  </thead>\n",
       "  <tbody>\n",
       "    <tr>\n",
       "      <th>0</th>\n",
       "      <td>1</td>\n",
       "      <td>Brimstone</td>\n",
       "      <td>Valorant</td>\n",
       "      <td>[Valorant Brimstone, Valorant Brimstone fan ar...</td>\n",
       "    </tr>\n",
       "    <tr>\n",
       "      <th>1</th>\n",
       "      <td>2</td>\n",
       "      <td>Viper</td>\n",
       "      <td>Valorant</td>\n",
       "      <td>[Valorant Viper, Valorant Viper fan art, Valor...</td>\n",
       "    </tr>\n",
       "    <tr>\n",
       "      <th>2</th>\n",
       "      <td>3</td>\n",
       "      <td>Omen</td>\n",
       "      <td>Valorant</td>\n",
       "      <td>[Valorant Omen, Valorant Omen fan art, Valoran...</td>\n",
       "    </tr>\n",
       "    <tr>\n",
       "      <th>3</th>\n",
       "      <td>4</td>\n",
       "      <td>Killjoy</td>\n",
       "      <td>Valorant</td>\n",
       "      <td>[Valorant Killjoy, Valorant Killjoy fan art, V...</td>\n",
       "    </tr>\n",
       "    <tr>\n",
       "      <th>4</th>\n",
       "      <td>5</td>\n",
       "      <td>Cypher</td>\n",
       "      <td>Valorant</td>\n",
       "      <td>[Valorant Cypher, Valorant Cypher fan art, Val...</td>\n",
       "    </tr>\n",
       "  </tbody>\n",
       "</table>\n",
       "</div>"
      ],
      "text/plain": [
       "   Id  Character      Game                                            queries\n",
       "0   1  Brimstone  Valorant  [Valorant Brimstone, Valorant Brimstone fan ar...\n",
       "1   2      Viper  Valorant  [Valorant Viper, Valorant Viper fan art, Valor...\n",
       "2   3       Omen  Valorant  [Valorant Omen, Valorant Omen fan art, Valoran...\n",
       "3   4    Killjoy  Valorant  [Valorant Killjoy, Valorant Killjoy fan art, V...\n",
       "4   5     Cypher  Valorant  [Valorant Cypher, Valorant Cypher fan art, Val..."
      ]
     },
     "execution_count": 6,
     "metadata": {},
     "output_type": "execute_result"
    }
   ],
   "source": [
    "df = df.drop(['Description','base_query','base_query_fan art','base_query_art','base_query_wallpaper'], axis =1)\n",
    "df.head()"
   ]
  },
  {
   "cell_type": "code",
   "execution_count": 7,
   "id": "8dbdd6b0",
   "metadata": {},
   "outputs": [
    {
     "data": {
      "application/vnd.jupyter.widget-view+json": {
       "model_id": "ad5bf4f292f2498d816c8f561355e330",
       "version_major": 2,
       "version_minor": 0
      },
      "text/plain": [
       "Processing Characters:   0%|          | 0/646 [00:00<?, ?it/s]"
      ]
     },
     "metadata": {},
     "output_type": "display_data"
    },
    {
     "name": "stdout",
     "output_type": "stream",
     "text": [
      "      Id         Character       Game  \\\n",
      "0      1         Brimstone   Valorant   \n",
      "1      2             Viper   Valorant   \n",
      "2      3              Omen   Valorant   \n",
      "3      4           Killjoy   Valorant   \n",
      "4      5            Cypher   Valorant   \n",
      "..   ...               ...        ...   \n",
      "641  642         Kerillian  vermitide   \n",
      "642  643  Victor Saltzpyre  vermitide   \n",
      "643  644     Markus Kruber  vermitide   \n",
      "644  645      Franz Lohner  vermitide   \n",
      "645  646  Bardin Goreksson  vermitide   \n",
      "\n",
      "                                               queries  \\\n",
      "0    [Valorant Brimstone, Valorant Brimstone fan ar...   \n",
      "1    [Valorant Viper, Valorant Viper fan art, Valor...   \n",
      "2    [Valorant Omen, Valorant Omen fan art, Valoran...   \n",
      "3    [Valorant Killjoy, Valorant Killjoy fan art, V...   \n",
      "4    [Valorant Cypher, Valorant Cypher fan art, Val...   \n",
      "..                                                 ...   \n",
      "641  [vermitide Kerillian, vermitide Kerillian fan ...   \n",
      "642  [vermitide Victor Saltzpyre, vermitide Victor ...   \n",
      "643  [vermitide Markus Kruber, vermitide Markus Kru...   \n",
      "644  [vermitide Franz Lohner, vermitide Franz Lohne...   \n",
      "645  [vermitide Bardin Goreksson, vermitide Bardin ...   \n",
      "\n",
      "                                                  urls  \n",
      "0    [https://tse1.mm.bing.net/th/id/OIP.CCWpJMW-Bf...  \n",
      "1    [https://tse3.mm.bing.net/th/id/OIP.iGQ_iExsDi...  \n",
      "2    [https://tse4.mm.bing.net/th/id/OIP.Bprq17u0Tr...  \n",
      "3    [https://tse2.mm.bing.net/th/id/OIP.BI3cuduf1t...  \n",
      "4    [https://tse3.mm.bing.net/th/id/OIP.5oH3--pkmi...  \n",
      "..                                                 ...  \n",
      "641  [https://tse1.mm.bing.net/th/id/OIP.9rIiSRWHqa...  \n",
      "642  [https://tse1.mm.bing.net/th/id/OIP.8owv6MhWeo...  \n",
      "643  [https://tse3.mm.bing.net/th/id/OIP.UDf9RHZ-63...  \n",
      "644  [https://tse3.mm.bing.net/th/id/OIP.X72JGsZj4S...  \n",
      "645  [https://tse3.mm.bing.net/th/id/OIP.hYH3sCOmN_...  \n",
      "\n",
      "[646 rows x 5 columns]\n"
     ]
    }
   ],
   "source": [
    "import requests\n",
    "from bs4 import BeautifulSoup\n",
    "from tqdm.auto import tqdm\n",
    "\n",
    "# Function to get image URLs for a given search query\n",
    "def get_image_urls(search_query):\n",
    "    search_url = 'https://www.bing.com/images/search'\n",
    "    params = {'q': search_query}\n",
    "    response = requests.get(search_url, params=params)\n",
    "    \n",
    "    if response.status_code == 200:\n",
    "        soup = BeautifulSoup(response.text, 'html.parser')\n",
    "        image_tags = soup.find_all('img', class_=lambda x: x and 'mimg' in x)\n",
    "        # Extract 'src' or 'data-src' attribute based on which is available\n",
    "        image_srcs = [img['src'] if img.has_attr('src') else img['data-src'] for img in image_tags if img.has_attr('src') or img.has_attr('data-src')]\n",
    "        return image_srcs[:50]  # Return up to 50 image source URLs\n",
    "    else:\n",
    "        print(f'An error occurred while searching for: {search_query}')\n",
    "        return []  # Return an empty list in case of an error\n",
    "\n",
    "# Assuming df is your DataFrame and it already contains a 'queries' column with lists of queries\n",
    "# We'll first define a new column 'urls' with empty lists\n",
    "df['urls'] = pd.Series([[] for _ in range(len(df))], index=df.index)\n",
    "\n",
    "# Iterate over the DataFrame rows with a progress bar\n",
    "for index in tqdm(df.index, desc='Processing Characters'):\n",
    "    all_image_urls = []\n",
    "    row = df.loc[index]\n",
    "    # For each query in the list of queries, perform a search and collect image URLs\n",
    "    for query in row['queries']:\n",
    "        image_urls = get_image_urls(query)\n",
    "        all_image_urls.extend(image_urls)\n",
    "        # Stop if we've collected 50 URLs, no need for further searches\n",
    "        if len(all_image_urls) >= 50:\n",
    "            break\n",
    "\n",
    "    # Assign up to 50 URLs to the 'urls' column for this row\n",
    "    df.at[index, 'urls'] = all_image_urls[:50]\n",
    "\n",
    "# Display the DataFrame to verify the results\n",
    "print(df)\n"
   ]
  },
  {
   "cell_type": "code",
   "execution_count": 20,
   "id": "c3bae619",
   "metadata": {},
   "outputs": [
    {
     "data": {
      "text/plain": [
       "50"
      ]
     },
     "execution_count": 20,
     "metadata": {},
     "output_type": "execute_result"
    }
   ],
   "source": [
    "len(df['urls'][0])"
   ]
  },
  {
   "cell_type": "code",
   "execution_count": 21,
   "id": "7b628366",
   "metadata": {},
   "outputs": [
    {
     "data": {
      "text/plain": [
       "0      [https://tse1.mm.bing.net/th/id/OIP.CCWpJMW-Bf...\n",
       "1      [https://tse3.mm.bing.net/th/id/OIP.iGQ_iExsDi...\n",
       "2      [https://tse4.mm.bing.net/th/id/OIP.Bprq17u0Tr...\n",
       "3      [https://tse2.mm.bing.net/th/id/OIP.BI3cuduf1t...\n",
       "4      [https://tse3.mm.bing.net/th/id/OIP.5oH3--pkmi...\n",
       "                             ...                        \n",
       "641    [https://tse1.mm.bing.net/th/id/OIP.9rIiSRWHqa...\n",
       "642    [https://tse1.mm.bing.net/th/id/OIP.8owv6MhWeo...\n",
       "643    [https://tse3.mm.bing.net/th/id/OIP.UDf9RHZ-63...\n",
       "644    [https://tse3.mm.bing.net/th/id/OIP.X72JGsZj4S...\n",
       "645    [https://tse3.mm.bing.net/th/id/OIP.hYH3sCOmN_...\n",
       "Name: urls, Length: 646, dtype: object"
      ]
     },
     "execution_count": 21,
     "metadata": {},
     "output_type": "execute_result"
    }
   ],
   "source": [
    "df['urls']"
   ]
  },
  {
   "cell_type": "code",
   "execution_count": 22,
   "id": "570bae8a",
   "metadata": {},
   "outputs": [
    {
     "data": {
      "application/vnd.jupyter.widget-view+json": {
       "model_id": "701179de2293406c9c28b7e32faf4113",
       "version_major": 2,
       "version_minor": 0
      },
      "text/plain": [
       "Downloading images for Brimstone:   0%|          | 0/50 [00:00<?, ?it/s]"
      ]
     },
     "metadata": {},
     "output_type": "display_data"
    },
    {
     "data": {
      "application/vnd.jupyter.widget-view+json": {
       "model_id": "cc2294f4c1034209ad14af3b8034bb88",
       "version_major": 2,
       "version_minor": 0
      },
      "text/plain": [
       "Downloading images for Viper:   0%|          | 0/50 [00:00<?, ?it/s]"
      ]
     },
     "metadata": {},
     "output_type": "display_data"
    },
    {
     "data": {
      "application/vnd.jupyter.widget-view+json": {
       "model_id": "acf138efe5eb4dafb98ae819b70ab5f9",
       "version_major": 2,
       "version_minor": 0
      },
      "text/plain": [
       "Downloading images for Omen:   0%|          | 0/50 [00:00<?, ?it/s]"
      ]
     },
     "metadata": {},
     "output_type": "display_data"
    },
    {
     "data": {
      "application/vnd.jupyter.widget-view+json": {
       "model_id": "be294d6b12b54b3490a3b2489f2599e4",
       "version_major": 2,
       "version_minor": 0
      },
      "text/plain": [
       "Downloading images for Killjoy:   0%|          | 0/50 [00:00<?, ?it/s]"
      ]
     },
     "metadata": {},
     "output_type": "display_data"
    },
    {
     "data": {
      "application/vnd.jupyter.widget-view+json": {
       "model_id": "32fb2cb2e98b4386b9b65575d33676fd",
       "version_major": 2,
       "version_minor": 0
      },
      "text/plain": [
       "Downloading images for Cypher:   0%|          | 0/50 [00:00<?, ?it/s]"
      ]
     },
     "metadata": {},
     "output_type": "display_data"
    },
    {
     "data": {
      "application/vnd.jupyter.widget-view+json": {
       "model_id": "f65a7ae216e94d50a56be8ead342dc8a",
       "version_major": 2,
       "version_minor": 0
      },
      "text/plain": [
       "Downloading images for Sova:   0%|          | 0/50 [00:00<?, ?it/s]"
      ]
     },
     "metadata": {},
     "output_type": "display_data"
    },
    {
     "data": {
      "application/vnd.jupyter.widget-view+json": {
       "model_id": "3319d8072a3c4e748eb079f6fb6a2ff2",
       "version_major": 2,
       "version_minor": 0
      },
      "text/plain": [
       "Downloading images for Sage:   0%|          | 0/50 [00:00<?, ?it/s]"
      ]
     },
     "metadata": {},
     "output_type": "display_data"
    },
    {
     "data": {
      "application/vnd.jupyter.widget-view+json": {
       "model_id": "66ec2de42cc74400b64ca2555b5dde19",
       "version_major": 2,
       "version_minor": 0
      },
      "text/plain": [
       "Downloading images for Phoenix:   0%|          | 0/50 [00:00<?, ?it/s]"
      ]
     },
     "metadata": {},
     "output_type": "display_data"
    },
    {
     "data": {
      "application/vnd.jupyter.widget-view+json": {
       "model_id": "399bb032bbbd4952817c6c9941324cde",
       "version_major": 2,
       "version_minor": 0
      },
      "text/plain": [
       "Downloading images for Jett:   0%|          | 0/50 [00:00<?, ?it/s]"
      ]
     },
     "metadata": {},
     "output_type": "display_data"
    },
    {
     "data": {
      "application/vnd.jupyter.widget-view+json": {
       "model_id": "b78f7d0798a24bcb8a02817f90302bd4",
       "version_major": 2,
       "version_minor": 0
      },
      "text/plain": [
       "Downloading images for Reyna:   0%|          | 0/50 [00:00<?, ?it/s]"
      ]
     },
     "metadata": {},
     "output_type": "display_data"
    },
    {
     "data": {
      "application/vnd.jupyter.widget-view+json": {
       "model_id": "71d6f8de4e184bdebe5257e445483596",
       "version_major": 2,
       "version_minor": 0
      },
      "text/plain": [
       "Downloading images for Raze:   0%|          | 0/50 [00:00<?, ?it/s]"
      ]
     },
     "metadata": {},
     "output_type": "display_data"
    },
    {
     "data": {
      "application/vnd.jupyter.widget-view+json": {
       "model_id": "d1b03d75528244e782dfedbc65464fca",
       "version_major": 2,
       "version_minor": 0
      },
      "text/plain": [
       "Downloading images for Breach:   0%|          | 0/50 [00:00<?, ?it/s]"
      ]
     },
     "metadata": {},
     "output_type": "display_data"
    },
    {
     "data": {
      "application/vnd.jupyter.widget-view+json": {
       "model_id": "434b1587cfff45138490719ba9141102",
       "version_major": 2,
       "version_minor": 0
      },
      "text/plain": [
       "Downloading images for Skye:   0%|          | 0/50 [00:00<?, ?it/s]"
      ]
     },
     "metadata": {},
     "output_type": "display_data"
    },
    {
     "data": {
      "application/vnd.jupyter.widget-view+json": {
       "model_id": "4fc13d2aa34c4c49a54b3e7b9ba75ab6",
       "version_major": 2,
       "version_minor": 0
      },
      "text/plain": [
       "Downloading images for Yoru:   0%|          | 0/50 [00:00<?, ?it/s]"
      ]
     },
     "metadata": {},
     "output_type": "display_data"
    },
    {
     "data": {
      "application/vnd.jupyter.widget-view+json": {
       "model_id": "17c7550d28ce419da9c5c858189afff8",
       "version_major": 2,
       "version_minor": 0
      },
      "text/plain": [
       "Downloading images for Astra:   0%|          | 0/50 [00:00<?, ?it/s]"
      ]
     },
     "metadata": {},
     "output_type": "display_data"
    },
    {
     "data": {
      "application/vnd.jupyter.widget-view+json": {
       "model_id": "0f7a5966a1df4e16ac56f1c648e38e5f",
       "version_major": 2,
       "version_minor": 0
      },
      "text/plain": [
       "Downloading images for KAYO:   0%|          | 0/50 [00:00<?, ?it/s]"
      ]
     },
     "metadata": {},
     "output_type": "display_data"
    },
    {
     "data": {
      "application/vnd.jupyter.widget-view+json": {
       "model_id": "ab37062a654f4be18b725ed0bfb90669",
       "version_major": 2,
       "version_minor": 0
      },
      "text/plain": [
       "Downloading images for Chamber:   0%|          | 0/50 [00:00<?, ?it/s]"
      ]
     },
     "metadata": {},
     "output_type": "display_data"
    },
    {
     "data": {
      "application/vnd.jupyter.widget-view+json": {
       "model_id": "afbb3b6975ac460997e399f99e26623c",
       "version_major": 2,
       "version_minor": 0
      },
      "text/plain": [
       "Downloading images for Neon:   0%|          | 0/50 [00:00<?, ?it/s]"
      ]
     },
     "metadata": {},
     "output_type": "display_data"
    },
    {
     "data": {
      "application/vnd.jupyter.widget-view+json": {
       "model_id": "3fbee02754574b74b97e37d5509263ca",
       "version_major": 2,
       "version_minor": 0
      },
      "text/plain": [
       "Downloading images for Fade:   0%|          | 0/50 [00:00<?, ?it/s]"
      ]
     },
     "metadata": {},
     "output_type": "display_data"
    },
    {
     "data": {
      "application/vnd.jupyter.widget-view+json": {
       "model_id": "3b464f3a413c44a1a9f3331626d84474",
       "version_major": 2,
       "version_minor": 0
      },
      "text/plain": [
       "Downloading images for Harbor:   0%|          | 0/50 [00:00<?, ?it/s]"
      ]
     },
     "metadata": {},
     "output_type": "display_data"
    },
    {
     "data": {
      "application/vnd.jupyter.widget-view+json": {
       "model_id": "442ab456c7014e72a430884b79388bb0",
       "version_major": 2,
       "version_minor": 0
      },
      "text/plain": [
       "Downloading images for Gekko:   0%|          | 0/50 [00:00<?, ?it/s]"
      ]
     },
     "metadata": {},
     "output_type": "display_data"
    },
    {
     "data": {
      "application/vnd.jupyter.widget-view+json": {
       "model_id": "7896efe0bddc4b79beb97c0d170a5746",
       "version_major": 2,
       "version_minor": 0
      },
      "text/plain": [
       "Downloading images for Deadlock:   0%|          | 0/50 [00:00<?, ?it/s]"
      ]
     },
     "metadata": {},
     "output_type": "display_data"
    },
    {
     "data": {
      "application/vnd.jupyter.widget-view+json": {
       "model_id": "494c6e2ab3834e799e99d6f1c6482357",
       "version_major": 2,
       "version_minor": 0
      },
      "text/plain": [
       "Downloading images for Iso:   0%|          | 0/50 [00:00<?, ?it/s]"
      ]
     },
     "metadata": {},
     "output_type": "display_data"
    },
    {
     "data": {
      "application/vnd.jupyter.widget-view+json": {
       "model_id": "a1fbd53eca584e0cb763c412918849a2",
       "version_major": 2,
       "version_minor": 0
      },
      "text/plain": [
       "Downloading images for AATROX:   0%|          | 0/50 [00:00<?, ?it/s]"
      ]
     },
     "metadata": {},
     "output_type": "display_data"
    },
    {
     "data": {
      "application/vnd.jupyter.widget-view+json": {
       "model_id": "2afec826f05546cf95b3db7447f99ffe",
       "version_major": 2,
       "version_minor": 0
      },
      "text/plain": [
       "Downloading images for AHRI:   0%|          | 0/50 [00:00<?, ?it/s]"
      ]
     },
     "metadata": {},
     "output_type": "display_data"
    },
    {
     "data": {
      "application/vnd.jupyter.widget-view+json": {
       "model_id": "c87d7b454e8041aebb54cf092d534209",
       "version_major": 2,
       "version_minor": 0
      },
      "text/plain": [
       "Downloading images for AKALI:   0%|          | 0/50 [00:00<?, ?it/s]"
      ]
     },
     "metadata": {},
     "output_type": "display_data"
    },
    {
     "data": {
      "application/vnd.jupyter.widget-view+json": {
       "model_id": "a069e3671d77424fa6cc5d403c1694fd",
       "version_major": 2,
       "version_minor": 0
      },
      "text/plain": [
       "Downloading images for AKSHAN:   0%|          | 0/50 [00:00<?, ?it/s]"
      ]
     },
     "metadata": {},
     "output_type": "display_data"
    },
    {
     "data": {
      "application/vnd.jupyter.widget-view+json": {
       "model_id": "9704b194d869487d95c9c4086722fde8",
       "version_major": 2,
       "version_minor": 0
      },
      "text/plain": [
       "Downloading images for ALISTAR:   0%|          | 0/50 [00:00<?, ?it/s]"
      ]
     },
     "metadata": {},
     "output_type": "display_data"
    },
    {
     "data": {
      "application/vnd.jupyter.widget-view+json": {
       "model_id": "9fe1b16069a548a4a42860f93990f134",
       "version_major": 2,
       "version_minor": 0
      },
      "text/plain": [
       "Downloading images for AMUMU:   0%|          | 0/50 [00:00<?, ?it/s]"
      ]
     },
     "metadata": {},
     "output_type": "display_data"
    },
    {
     "data": {
      "application/vnd.jupyter.widget-view+json": {
       "model_id": "cdca0761293a4850bedf4537b083135c",
       "version_major": 2,
       "version_minor": 0
      },
      "text/plain": [
       "Downloading images for ANIVIA:   0%|          | 0/50 [00:00<?, ?it/s]"
      ]
     },
     "metadata": {},
     "output_type": "display_data"
    },
    {
     "data": {
      "application/vnd.jupyter.widget-view+json": {
       "model_id": "30be16578e2044e0bfcc25cbe4a6b679",
       "version_major": 2,
       "version_minor": 0
      },
      "text/plain": [
       "Downloading images for ANNIE:   0%|          | 0/50 [00:00<?, ?it/s]"
      ]
     },
     "metadata": {},
     "output_type": "display_data"
    },
    {
     "data": {
      "application/vnd.jupyter.widget-view+json": {
       "model_id": "755ab0d6f65243e591c3dee7230da748",
       "version_major": 2,
       "version_minor": 0
      },
      "text/plain": [
       "Downloading images for APHELIOS:   0%|          | 0/50 [00:00<?, ?it/s]"
      ]
     },
     "metadata": {},
     "output_type": "display_data"
    },
    {
     "data": {
      "application/vnd.jupyter.widget-view+json": {
       "model_id": "d5e077c5fdfe43cfbe280c4fe10973e8",
       "version_major": 2,
       "version_minor": 0
      },
      "text/plain": [
       "Downloading images for ASHE:   0%|          | 0/50 [00:00<?, ?it/s]"
      ]
     },
     "metadata": {},
     "output_type": "display_data"
    },
    {
     "data": {
      "application/vnd.jupyter.widget-view+json": {
       "model_id": "ac8ad8e1b0cb469ab0f3b7fc3347da96",
       "version_major": 2,
       "version_minor": 0
      },
      "text/plain": [
       "Downloading images for AURELION SOL:   0%|          | 0/50 [00:00<?, ?it/s]"
      ]
     },
     "metadata": {},
     "output_type": "display_data"
    },
    {
     "data": {
      "application/vnd.jupyter.widget-view+json": {
       "model_id": "d9a3c0eaea154df094bc43d182ab31fb",
       "version_major": 2,
       "version_minor": 0
      },
      "text/plain": [
       "Downloading images for AZIR:   0%|          | 0/50 [00:00<?, ?it/s]"
      ]
     },
     "metadata": {},
     "output_type": "display_data"
    },
    {
     "data": {
      "application/vnd.jupyter.widget-view+json": {
       "model_id": "1bfd931e330f4cd0bc6d04408bf1331d",
       "version_major": 2,
       "version_minor": 0
      },
      "text/plain": [
       "Downloading images for BARD:   0%|          | 0/50 [00:00<?, ?it/s]"
      ]
     },
     "metadata": {},
     "output_type": "display_data"
    },
    {
     "data": {
      "application/vnd.jupyter.widget-view+json": {
       "model_id": "42c59ddcb1d84826a37e697d00294b59",
       "version_major": 2,
       "version_minor": 0
      },
      "text/plain": [
       "Downloading images for BEL'VETH:   0%|          | 0/50 [00:00<?, ?it/s]"
      ]
     },
     "metadata": {},
     "output_type": "display_data"
    },
    {
     "data": {
      "application/vnd.jupyter.widget-view+json": {
       "model_id": "a2281d9d51464a3eb1630568e5f1ba88",
       "version_major": 2,
       "version_minor": 0
      },
      "text/plain": [
       "Downloading images for BLITZCRANK:   0%|          | 0/50 [00:00<?, ?it/s]"
      ]
     },
     "metadata": {},
     "output_type": "display_data"
    },
    {
     "data": {
      "application/vnd.jupyter.widget-view+json": {
       "model_id": "e0f2bdaac05548b3a82a832c77baf9af",
       "version_major": 2,
       "version_minor": 0
      },
      "text/plain": [
       "Downloading images for BRAND:   0%|          | 0/50 [00:00<?, ?it/s]"
      ]
     },
     "metadata": {},
     "output_type": "display_data"
    },
    {
     "data": {
      "application/vnd.jupyter.widget-view+json": {
       "model_id": "3af9f85ab7494322a371459a9cbff269",
       "version_major": 2,
       "version_minor": 0
      },
      "text/plain": [
       "Downloading images for BRAUM:   0%|          | 0/50 [00:00<?, ?it/s]"
      ]
     },
     "metadata": {},
     "output_type": "display_data"
    },
    {
     "data": {
      "application/vnd.jupyter.widget-view+json": {
       "model_id": "a7fe6c331816424a916d1539d7033df4",
       "version_major": 2,
       "version_minor": 0
      },
      "text/plain": [
       "Downloading images for BRIAR:   0%|          | 0/50 [00:00<?, ?it/s]"
      ]
     },
     "metadata": {},
     "output_type": "display_data"
    },
    {
     "data": {
      "application/vnd.jupyter.widget-view+json": {
       "model_id": "f743746a81a5485197c37af03b78e9b5",
       "version_major": 2,
       "version_minor": 0
      },
      "text/plain": [
       "Downloading images for CAITLYN:   0%|          | 0/50 [00:00<?, ?it/s]"
      ]
     },
     "metadata": {},
     "output_type": "display_data"
    },
    {
     "data": {
      "application/vnd.jupyter.widget-view+json": {
       "model_id": "f28bf6ff87fb4437953de6a63580c3d6",
       "version_major": 2,
       "version_minor": 0
      },
      "text/plain": [
       "Downloading images for CAMILLE:   0%|          | 0/50 [00:00<?, ?it/s]"
      ]
     },
     "metadata": {},
     "output_type": "display_data"
    },
    {
     "data": {
      "application/vnd.jupyter.widget-view+json": {
       "model_id": "cf974e72e38f45d5a40ad2f740975053",
       "version_major": 2,
       "version_minor": 0
      },
      "text/plain": [
       "Downloading images for CASSIOPEIA:   0%|          | 0/50 [00:00<?, ?it/s]"
      ]
     },
     "metadata": {},
     "output_type": "display_data"
    },
    {
     "data": {
      "application/vnd.jupyter.widget-view+json": {
       "model_id": "8bed725f05374f7a9065ca82e6c4a0b3",
       "version_major": 2,
       "version_minor": 0
      },
      "text/plain": [
       "Downloading images for CHO'GATH:   0%|          | 0/50 [00:00<?, ?it/s]"
      ]
     },
     "metadata": {},
     "output_type": "display_data"
    },
    {
     "data": {
      "application/vnd.jupyter.widget-view+json": {
       "model_id": "bc7a085e4e8145468baba52f91da6eda",
       "version_major": 2,
       "version_minor": 0
      },
      "text/plain": [
       "Downloading images for CORKI:   0%|          | 0/50 [00:00<?, ?it/s]"
      ]
     },
     "metadata": {},
     "output_type": "display_data"
    },
    {
     "data": {
      "application/vnd.jupyter.widget-view+json": {
       "model_id": "fd1fc2d765d94406b88d4e841fe3aa21",
       "version_major": 2,
       "version_minor": 0
      },
      "text/plain": [
       "Downloading images for DARIUS:   0%|          | 0/50 [00:00<?, ?it/s]"
      ]
     },
     "metadata": {},
     "output_type": "display_data"
    },
    {
     "data": {
      "application/vnd.jupyter.widget-view+json": {
       "model_id": "0d3a32238a884dbfb3e4fe80a97fe3e2",
       "version_major": 2,
       "version_minor": 0
      },
      "text/plain": [
       "Downloading images for DIANA:   0%|          | 0/50 [00:00<?, ?it/s]"
      ]
     },
     "metadata": {},
     "output_type": "display_data"
    },
    {
     "data": {
      "application/vnd.jupyter.widget-view+json": {
       "model_id": "3d46a593d653452896c32569d3304c97",
       "version_major": 2,
       "version_minor": 0
      },
      "text/plain": [
       "Downloading images for DR. MUNDO:   0%|          | 0/50 [00:00<?, ?it/s]"
      ]
     },
     "metadata": {},
     "output_type": "display_data"
    },
    {
     "data": {
      "application/vnd.jupyter.widget-view+json": {
       "model_id": "fb2c73f9870f434ab15b3d2faef840f8",
       "version_major": 2,
       "version_minor": 0
      },
      "text/plain": [
       "Downloading images for DRAVEN:   0%|          | 0/50 [00:00<?, ?it/s]"
      ]
     },
     "metadata": {},
     "output_type": "display_data"
    },
    {
     "data": {
      "application/vnd.jupyter.widget-view+json": {
       "model_id": "1ee15f2bc2c744b6b66c5475c6710c76",
       "version_major": 2,
       "version_minor": 0
      },
      "text/plain": [
       "Downloading images for EKKO:   0%|          | 0/50 [00:00<?, ?it/s]"
      ]
     },
     "metadata": {},
     "output_type": "display_data"
    },
    {
     "data": {
      "application/vnd.jupyter.widget-view+json": {
       "model_id": "7e29f16933f54ec29be2171b9669db70",
       "version_major": 2,
       "version_minor": 0
      },
      "text/plain": [
       "Downloading images for ELISE:   0%|          | 0/50 [00:00<?, ?it/s]"
      ]
     },
     "metadata": {},
     "output_type": "display_data"
    },
    {
     "data": {
      "application/vnd.jupyter.widget-view+json": {
       "model_id": "81a2651b94e2427fb308400016428b6b",
       "version_major": 2,
       "version_minor": 0
      },
      "text/plain": [
       "Downloading images for EVELYNN:   0%|          | 0/50 [00:00<?, ?it/s]"
      ]
     },
     "metadata": {},
     "output_type": "display_data"
    },
    {
     "data": {
      "application/vnd.jupyter.widget-view+json": {
       "model_id": "83a13c0a6aee460e8a80b01ee756c49e",
       "version_major": 2,
       "version_minor": 0
      },
      "text/plain": [
       "Downloading images for EZREAL:   0%|          | 0/50 [00:00<?, ?it/s]"
      ]
     },
     "metadata": {},
     "output_type": "display_data"
    },
    {
     "data": {
      "application/vnd.jupyter.widget-view+json": {
       "model_id": "16acb23fcfb64b0384e60469e3681769",
       "version_major": 2,
       "version_minor": 0
      },
      "text/plain": [
       "Downloading images for FIDDLESTICKS:   0%|          | 0/50 [00:00<?, ?it/s]"
      ]
     },
     "metadata": {},
     "output_type": "display_data"
    },
    {
     "data": {
      "application/vnd.jupyter.widget-view+json": {
       "model_id": "fa8cb6f45d0f4b69b3d104c40092dea6",
       "version_major": 2,
       "version_minor": 0
      },
      "text/plain": [
       "Downloading images for FIORA:   0%|          | 0/50 [00:00<?, ?it/s]"
      ]
     },
     "metadata": {},
     "output_type": "display_data"
    },
    {
     "data": {
      "application/vnd.jupyter.widget-view+json": {
       "model_id": "6823d787c40441958ee8340b8f12173a",
       "version_major": 2,
       "version_minor": 0
      },
      "text/plain": [
       "Downloading images for FIZZ:   0%|          | 0/50 [00:00<?, ?it/s]"
      ]
     },
     "metadata": {},
     "output_type": "display_data"
    },
    {
     "data": {
      "application/vnd.jupyter.widget-view+json": {
       "model_id": "aabec389668946ef86240f50dcf9e25a",
       "version_major": 2,
       "version_minor": 0
      },
      "text/plain": [
       "Downloading images for GALIO:   0%|          | 0/50 [00:00<?, ?it/s]"
      ]
     },
     "metadata": {},
     "output_type": "display_data"
    },
    {
     "data": {
      "application/vnd.jupyter.widget-view+json": {
       "model_id": "9e46981ac22444f0a8da345a8545598c",
       "version_major": 2,
       "version_minor": 0
      },
      "text/plain": [
       "Downloading images for GANGPLANK:   0%|          | 0/50 [00:00<?, ?it/s]"
      ]
     },
     "metadata": {},
     "output_type": "display_data"
    },
    {
     "data": {
      "application/vnd.jupyter.widget-view+json": {
       "model_id": "51b71015b3914518836e165d93818256",
       "version_major": 2,
       "version_minor": 0
      },
      "text/plain": [
       "Downloading images for GAREN:   0%|          | 0/50 [00:00<?, ?it/s]"
      ]
     },
     "metadata": {},
     "output_type": "display_data"
    },
    {
     "data": {
      "application/vnd.jupyter.widget-view+json": {
       "model_id": "04bdded45cc348d0968b77c65a341481",
       "version_major": 2,
       "version_minor": 0
      },
      "text/plain": [
       "Downloading images for GNAR:   0%|          | 0/50 [00:00<?, ?it/s]"
      ]
     },
     "metadata": {},
     "output_type": "display_data"
    },
    {
     "data": {
      "application/vnd.jupyter.widget-view+json": {
       "model_id": "0f64082cd3d24f91a801d06b8c14f162",
       "version_major": 2,
       "version_minor": 0
      },
      "text/plain": [
       "Downloading images for GRAGAS:   0%|          | 0/50 [00:00<?, ?it/s]"
      ]
     },
     "metadata": {},
     "output_type": "display_data"
    },
    {
     "data": {
      "application/vnd.jupyter.widget-view+json": {
       "model_id": "844da3b629cf44efb4c339fcca52653f",
       "version_major": 2,
       "version_minor": 0
      },
      "text/plain": [
       "Downloading images for GRAVES:   0%|          | 0/50 [00:00<?, ?it/s]"
      ]
     },
     "metadata": {},
     "output_type": "display_data"
    },
    {
     "data": {
      "application/vnd.jupyter.widget-view+json": {
       "model_id": "cc436c864129484fb89aae4ad0e0e288",
       "version_major": 2,
       "version_minor": 0
      },
      "text/plain": [
       "Downloading images for GWEN:   0%|          | 0/50 [00:00<?, ?it/s]"
      ]
     },
     "metadata": {},
     "output_type": "display_data"
    },
    {
     "data": {
      "application/vnd.jupyter.widget-view+json": {
       "model_id": "6b1b95c0c79d450f85217495bba6a01d",
       "version_major": 2,
       "version_minor": 0
      },
      "text/plain": [
       "Downloading images for HECARIM:   0%|          | 0/50 [00:00<?, ?it/s]"
      ]
     },
     "metadata": {},
     "output_type": "display_data"
    },
    {
     "data": {
      "application/vnd.jupyter.widget-view+json": {
       "model_id": "822aeb0b81b94fe88483905a446ec8fc",
       "version_major": 2,
       "version_minor": 0
      },
      "text/plain": [
       "Downloading images for HEIMERDINGER:   0%|          | 0/50 [00:00<?, ?it/s]"
      ]
     },
     "metadata": {},
     "output_type": "display_data"
    },
    {
     "data": {
      "application/vnd.jupyter.widget-view+json": {
       "model_id": "7de226ab738d45c9acfef72a5c0b27b9",
       "version_major": 2,
       "version_minor": 0
      },
      "text/plain": [
       "Downloading images for ILLAOI:   0%|          | 0/50 [00:00<?, ?it/s]"
      ]
     },
     "metadata": {},
     "output_type": "display_data"
    },
    {
     "data": {
      "application/vnd.jupyter.widget-view+json": {
       "model_id": "2d64fb8f28f2406491d0b2cd10c3ef5c",
       "version_major": 2,
       "version_minor": 0
      },
      "text/plain": [
       "Downloading images for IRELIA:   0%|          | 0/50 [00:00<?, ?it/s]"
      ]
     },
     "metadata": {},
     "output_type": "display_data"
    },
    {
     "data": {
      "application/vnd.jupyter.widget-view+json": {
       "model_id": "6475628e2ba3485bb30243ae348d8de9",
       "version_major": 2,
       "version_minor": 0
      },
      "text/plain": [
       "Downloading images for IVERN:   0%|          | 0/50 [00:00<?, ?it/s]"
      ]
     },
     "metadata": {},
     "output_type": "display_data"
    },
    {
     "data": {
      "application/vnd.jupyter.widget-view+json": {
       "model_id": "73ed3fbcfef34d06832f2218abcf96e2",
       "version_major": 2,
       "version_minor": 0
      },
      "text/plain": [
       "Downloading images for JANNA:   0%|          | 0/50 [00:00<?, ?it/s]"
      ]
     },
     "metadata": {},
     "output_type": "display_data"
    },
    {
     "data": {
      "application/vnd.jupyter.widget-view+json": {
       "model_id": "6c3ea758627a47828935b701d8c32c50",
       "version_major": 2,
       "version_minor": 0
      },
      "text/plain": [
       "Downloading images for JARVAN IV:   0%|          | 0/50 [00:00<?, ?it/s]"
      ]
     },
     "metadata": {},
     "output_type": "display_data"
    },
    {
     "data": {
      "application/vnd.jupyter.widget-view+json": {
       "model_id": "a79bc135646a4ceeb57064724ad03aaa",
       "version_major": 2,
       "version_minor": 0
      },
      "text/plain": [
       "Downloading images for JAX:   0%|          | 0/50 [00:00<?, ?it/s]"
      ]
     },
     "metadata": {},
     "output_type": "display_data"
    },
    {
     "data": {
      "application/vnd.jupyter.widget-view+json": {
       "model_id": "769e21ed5480495090ff3039948b1cb8",
       "version_major": 2,
       "version_minor": 0
      },
      "text/plain": [
       "Downloading images for JAYCE:   0%|          | 0/50 [00:00<?, ?it/s]"
      ]
     },
     "metadata": {},
     "output_type": "display_data"
    },
    {
     "data": {
      "application/vnd.jupyter.widget-view+json": {
       "model_id": "971a59ab9f354c609fd1c4b3a01e1697",
       "version_major": 2,
       "version_minor": 0
      },
      "text/plain": [
       "Downloading images for JHIN:   0%|          | 0/50 [00:00<?, ?it/s]"
      ]
     },
     "metadata": {},
     "output_type": "display_data"
    },
    {
     "data": {
      "application/vnd.jupyter.widget-view+json": {
       "model_id": "37405938e08e4c7198712aec16cea978",
       "version_major": 2,
       "version_minor": 0
      },
      "text/plain": [
       "Downloading images for JINX:   0%|          | 0/50 [00:00<?, ?it/s]"
      ]
     },
     "metadata": {},
     "output_type": "display_data"
    },
    {
     "data": {
      "application/vnd.jupyter.widget-view+json": {
       "model_id": "71f445914d4f4aec9d2f710ce6a5357c",
       "version_major": 2,
       "version_minor": 0
      },
      "text/plain": [
       "Downloading images for K'SANTE:   0%|          | 0/50 [00:00<?, ?it/s]"
      ]
     },
     "metadata": {},
     "output_type": "display_data"
    },
    {
     "data": {
      "application/vnd.jupyter.widget-view+json": {
       "model_id": "aa252d2b6c174109be751ea732ac369b",
       "version_major": 2,
       "version_minor": 0
      },
      "text/plain": [
       "Downloading images for KAI'SA:   0%|          | 0/50 [00:00<?, ?it/s]"
      ]
     },
     "metadata": {},
     "output_type": "display_data"
    },
    {
     "data": {
      "application/vnd.jupyter.widget-view+json": {
       "model_id": "1b2cdd197c934c8c8b3ffb12ddb83110",
       "version_major": 2,
       "version_minor": 0
      },
      "text/plain": [
       "Downloading images for KALISTA:   0%|          | 0/50 [00:00<?, ?it/s]"
      ]
     },
     "metadata": {},
     "output_type": "display_data"
    },
    {
     "data": {
      "application/vnd.jupyter.widget-view+json": {
       "model_id": "ecc904b917aa47b1aff34c9d338dd4b0",
       "version_major": 2,
       "version_minor": 0
      },
      "text/plain": [
       "Downloading images for KARMA:   0%|          | 0/50 [00:00<?, ?it/s]"
      ]
     },
     "metadata": {},
     "output_type": "display_data"
    },
    {
     "data": {
      "application/vnd.jupyter.widget-view+json": {
       "model_id": "46283be3c9de40a095064335ca43645c",
       "version_major": 2,
       "version_minor": 0
      },
      "text/plain": [
       "Downloading images for KARTHUS:   0%|          | 0/50 [00:00<?, ?it/s]"
      ]
     },
     "metadata": {},
     "output_type": "display_data"
    },
    {
     "data": {
      "application/vnd.jupyter.widget-view+json": {
       "model_id": "7af9b97a8eb54589a1873c68cd34f57f",
       "version_major": 2,
       "version_minor": 0
      },
      "text/plain": [
       "Downloading images for KASSADIN:   0%|          | 0/50 [00:00<?, ?it/s]"
      ]
     },
     "metadata": {},
     "output_type": "display_data"
    },
    {
     "data": {
      "application/vnd.jupyter.widget-view+json": {
       "model_id": "1cd876be55274514881011f99f2d7fbe",
       "version_major": 2,
       "version_minor": 0
      },
      "text/plain": [
       "Downloading images for KATARINA:   0%|          | 0/50 [00:00<?, ?it/s]"
      ]
     },
     "metadata": {},
     "output_type": "display_data"
    },
    {
     "data": {
      "application/vnd.jupyter.widget-view+json": {
       "model_id": "380103ddde6d46c7b194f64e77c01d79",
       "version_major": 2,
       "version_minor": 0
      },
      "text/plain": [
       "Downloading images for KAYLE:   0%|          | 0/50 [00:00<?, ?it/s]"
      ]
     },
     "metadata": {},
     "output_type": "display_data"
    },
    {
     "data": {
      "application/vnd.jupyter.widget-view+json": {
       "model_id": "4a085277abb64712ae35aa5cb2abddf4",
       "version_major": 2,
       "version_minor": 0
      },
      "text/plain": [
       "Downloading images for KAYN:   0%|          | 0/50 [00:00<?, ?it/s]"
      ]
     },
     "metadata": {},
     "output_type": "display_data"
    },
    {
     "data": {
      "application/vnd.jupyter.widget-view+json": {
       "model_id": "efeb4948ddb5465a9686c994daba3666",
       "version_major": 2,
       "version_minor": 0
      },
      "text/plain": [
       "Downloading images for KENNEN:   0%|          | 0/50 [00:00<?, ?it/s]"
      ]
     },
     "metadata": {},
     "output_type": "display_data"
    },
    {
     "data": {
      "application/vnd.jupyter.widget-view+json": {
       "model_id": "a334ea53d1514beeab5ac101fcfa6434",
       "version_major": 2,
       "version_minor": 0
      },
      "text/plain": [
       "Downloading images for KHA'ZIX:   0%|          | 0/50 [00:00<?, ?it/s]"
      ]
     },
     "metadata": {},
     "output_type": "display_data"
    },
    {
     "data": {
      "application/vnd.jupyter.widget-view+json": {
       "model_id": "9a902343c1d043759138faeb894b1cc7",
       "version_major": 2,
       "version_minor": 0
      },
      "text/plain": [
       "Downloading images for KINDRED:   0%|          | 0/50 [00:00<?, ?it/s]"
      ]
     },
     "metadata": {},
     "output_type": "display_data"
    },
    {
     "data": {
      "application/vnd.jupyter.widget-view+json": {
       "model_id": "6c395fe926e942fbb5622b1a6de497b9",
       "version_major": 2,
       "version_minor": 0
      },
      "text/plain": [
       "Downloading images for KLED:   0%|          | 0/50 [00:00<?, ?it/s]"
      ]
     },
     "metadata": {},
     "output_type": "display_data"
    },
    {
     "data": {
      "application/vnd.jupyter.widget-view+json": {
       "model_id": "e73856bd13c14a70b5eda5373f4d5ceb",
       "version_major": 2,
       "version_minor": 0
      },
      "text/plain": [
       "Downloading images for KOG'MAW:   0%|          | 0/50 [00:00<?, ?it/s]"
      ]
     },
     "metadata": {},
     "output_type": "display_data"
    },
    {
     "data": {
      "application/vnd.jupyter.widget-view+json": {
       "model_id": "da3e89914149456988208007fc1a9fc6",
       "version_major": 2,
       "version_minor": 0
      },
      "text/plain": [
       "Downloading images for LEBLANC:   0%|          | 0/50 [00:00<?, ?it/s]"
      ]
     },
     "metadata": {},
     "output_type": "display_data"
    },
    {
     "data": {
      "application/vnd.jupyter.widget-view+json": {
       "model_id": "4ea4dc92b3bd4ef9a8ca2c0f6a00327b",
       "version_major": 2,
       "version_minor": 0
      },
      "text/plain": [
       "Downloading images for LEE SIN:   0%|          | 0/50 [00:00<?, ?it/s]"
      ]
     },
     "metadata": {},
     "output_type": "display_data"
    },
    {
     "data": {
      "application/vnd.jupyter.widget-view+json": {
       "model_id": "343afe3db57a4deabaeef5c3fac74f9e",
       "version_major": 2,
       "version_minor": 0
      },
      "text/plain": [
       "Downloading images for LEONA:   0%|          | 0/50 [00:00<?, ?it/s]"
      ]
     },
     "metadata": {},
     "output_type": "display_data"
    },
    {
     "data": {
      "application/vnd.jupyter.widget-view+json": {
       "model_id": "df4d7f31f0304171bb20e405a091afeb",
       "version_major": 2,
       "version_minor": 0
      },
      "text/plain": [
       "Downloading images for LILLIA:   0%|          | 0/50 [00:00<?, ?it/s]"
      ]
     },
     "metadata": {},
     "output_type": "display_data"
    },
    {
     "data": {
      "application/vnd.jupyter.widget-view+json": {
       "model_id": "265151f2a73443658cc133a419c0865c",
       "version_major": 2,
       "version_minor": 0
      },
      "text/plain": [
       "Downloading images for LISSANDRA:   0%|          | 0/50 [00:00<?, ?it/s]"
      ]
     },
     "metadata": {},
     "output_type": "display_data"
    },
    {
     "data": {
      "application/vnd.jupyter.widget-view+json": {
       "model_id": "1e6d87f803ed4ec9a4147760e56a0705",
       "version_major": 2,
       "version_minor": 0
      },
      "text/plain": [
       "Downloading images for LUCIAN:   0%|          | 0/50 [00:00<?, ?it/s]"
      ]
     },
     "metadata": {},
     "output_type": "display_data"
    },
    {
     "data": {
      "application/vnd.jupyter.widget-view+json": {
       "model_id": "905f24203d254cd69761033881041ed9",
       "version_major": 2,
       "version_minor": 0
      },
      "text/plain": [
       "Downloading images for LULU:   0%|          | 0/50 [00:00<?, ?it/s]"
      ]
     },
     "metadata": {},
     "output_type": "display_data"
    },
    {
     "data": {
      "application/vnd.jupyter.widget-view+json": {
       "model_id": "a08708b53a854528a0bb9589894c3921",
       "version_major": 2,
       "version_minor": 0
      },
      "text/plain": [
       "Downloading images for LUX:   0%|          | 0/50 [00:00<?, ?it/s]"
      ]
     },
     "metadata": {},
     "output_type": "display_data"
    },
    {
     "data": {
      "application/vnd.jupyter.widget-view+json": {
       "model_id": "5fe7caaf48564225ac12596468d7e73a",
       "version_major": 2,
       "version_minor": 0
      },
      "text/plain": [
       "Downloading images for MALPHITE:   0%|          | 0/32 [00:00<?, ?it/s]"
      ]
     },
     "metadata": {},
     "output_type": "display_data"
    },
    {
     "data": {
      "application/vnd.jupyter.widget-view+json": {
       "model_id": "5053ae0dea9b444db8d4294be02fac2b",
       "version_major": 2,
       "version_minor": 0
      },
      "text/plain": [
       "Downloading images for MALZAHAR:   0%|          | 0/50 [00:00<?, ?it/s]"
      ]
     },
     "metadata": {},
     "output_type": "display_data"
    },
    {
     "data": {
      "application/vnd.jupyter.widget-view+json": {
       "model_id": "5370577741614ab9bdad34bf725449e9",
       "version_major": 2,
       "version_minor": 0
      },
      "text/plain": [
       "Downloading images for MAOKAI:   0%|          | 0/50 [00:00<?, ?it/s]"
      ]
     },
     "metadata": {},
     "output_type": "display_data"
    },
    {
     "data": {
      "application/vnd.jupyter.widget-view+json": {
       "model_id": "f58e50d1ae0f4a6080b185105bd88121",
       "version_major": 2,
       "version_minor": 0
      },
      "text/plain": [
       "Downloading images for MASTER YI:   0%|          | 0/50 [00:00<?, ?it/s]"
      ]
     },
     "metadata": {},
     "output_type": "display_data"
    },
    {
     "data": {
      "application/vnd.jupyter.widget-view+json": {
       "model_id": "1e757e5d31944e55868ae8dc6c0bea85",
       "version_major": 2,
       "version_minor": 0
      },
      "text/plain": [
       "Downloading images for MILIO:   0%|          | 0/50 [00:00<?, ?it/s]"
      ]
     },
     "metadata": {},
     "output_type": "display_data"
    },
    {
     "data": {
      "application/vnd.jupyter.widget-view+json": {
       "model_id": "47b2389ac0f347509450d6870c33c199",
       "version_major": 2,
       "version_minor": 0
      },
      "text/plain": [
       "Downloading images for MISS FORTUNE:   0%|          | 0/50 [00:00<?, ?it/s]"
      ]
     },
     "metadata": {},
     "output_type": "display_data"
    },
    {
     "data": {
      "application/vnd.jupyter.widget-view+json": {
       "model_id": "22c1e86824864b01ad988ad3d587a167",
       "version_major": 2,
       "version_minor": 0
      },
      "text/plain": [
       "Downloading images for MORDEKAISER:   0%|          | 0/50 [00:00<?, ?it/s]"
      ]
     },
     "metadata": {},
     "output_type": "display_data"
    },
    {
     "data": {
      "application/vnd.jupyter.widget-view+json": {
       "model_id": "56926f8cbc2b4fcfa082035fad60c27c",
       "version_major": 2,
       "version_minor": 0
      },
      "text/plain": [
       "Downloading images for MORGANA:   0%|          | 0/50 [00:00<?, ?it/s]"
      ]
     },
     "metadata": {},
     "output_type": "display_data"
    },
    {
     "data": {
      "application/vnd.jupyter.widget-view+json": {
       "model_id": "0138b4fdfcfc4b8dbe01b4b1c932098d",
       "version_major": 2,
       "version_minor": 0
      },
      "text/plain": [
       "Downloading images for NAAFIRI:   0%|          | 0/50 [00:00<?, ?it/s]"
      ]
     },
     "metadata": {},
     "output_type": "display_data"
    },
    {
     "data": {
      "application/vnd.jupyter.widget-view+json": {
       "model_id": "2a3509becba043b3be4eb922e89be0a2",
       "version_major": 2,
       "version_minor": 0
      },
      "text/plain": [
       "Downloading images for NAMI:   0%|          | 0/50 [00:00<?, ?it/s]"
      ]
     },
     "metadata": {},
     "output_type": "display_data"
    },
    {
     "data": {
      "application/vnd.jupyter.widget-view+json": {
       "model_id": "d82f03c46de14550bfb18e4ada8060cb",
       "version_major": 2,
       "version_minor": 0
      },
      "text/plain": [
       "Downloading images for NASUS:   0%|          | 0/50 [00:00<?, ?it/s]"
      ]
     },
     "metadata": {},
     "output_type": "display_data"
    },
    {
     "data": {
      "application/vnd.jupyter.widget-view+json": {
       "model_id": "68f11026f90e43f1a1985536dd22ad75",
       "version_major": 2,
       "version_minor": 0
      },
      "text/plain": [
       "Downloading images for NAUTILUS:   0%|          | 0/50 [00:00<?, ?it/s]"
      ]
     },
     "metadata": {},
     "output_type": "display_data"
    },
    {
     "data": {
      "application/vnd.jupyter.widget-view+json": {
       "model_id": "6d882591c2dd4f9f94e1031e59806e4d",
       "version_major": 2,
       "version_minor": 0
      },
      "text/plain": [
       "Downloading images for NEEKO:   0%|          | 0/50 [00:00<?, ?it/s]"
      ]
     },
     "metadata": {},
     "output_type": "display_data"
    },
    {
     "data": {
      "application/vnd.jupyter.widget-view+json": {
       "model_id": "b62af7599d354f1f93e19bb6d8441ea2",
       "version_major": 2,
       "version_minor": 0
      },
      "text/plain": [
       "Downloading images for NIDALEE:   0%|          | 0/50 [00:00<?, ?it/s]"
      ]
     },
     "metadata": {},
     "output_type": "display_data"
    },
    {
     "data": {
      "application/vnd.jupyter.widget-view+json": {
       "model_id": "f6658cc1554a4766b88d632e9125768e",
       "version_major": 2,
       "version_minor": 0
      },
      "text/plain": [
       "Downloading images for NILAH:   0%|          | 0/50 [00:00<?, ?it/s]"
      ]
     },
     "metadata": {},
     "output_type": "display_data"
    },
    {
     "data": {
      "application/vnd.jupyter.widget-view+json": {
       "model_id": "aea59ced0ca540018dcf20e582c7f291",
       "version_major": 2,
       "version_minor": 0
      },
      "text/plain": [
       "Downloading images for NOCTURNE:   0%|          | 0/50 [00:00<?, ?it/s]"
      ]
     },
     "metadata": {},
     "output_type": "display_data"
    },
    {
     "data": {
      "application/vnd.jupyter.widget-view+json": {
       "model_id": "4e0b4a128dfb48a99fd7a3246cda111c",
       "version_major": 2,
       "version_minor": 0
      },
      "text/plain": [
       "Downloading images for NUNU & WILLUMP:   0%|          | 0/50 [00:00<?, ?it/s]"
      ]
     },
     "metadata": {},
     "output_type": "display_data"
    },
    {
     "data": {
      "application/vnd.jupyter.widget-view+json": {
       "model_id": "308916335b394858a6b2ed9e0daa6452",
       "version_major": 2,
       "version_minor": 0
      },
      "text/plain": [
       "Downloading images for OLAF:   0%|          | 0/50 [00:00<?, ?it/s]"
      ]
     },
     "metadata": {},
     "output_type": "display_data"
    },
    {
     "data": {
      "application/vnd.jupyter.widget-view+json": {
       "model_id": "c57466b33a974b6ca64b50af17f583db",
       "version_major": 2,
       "version_minor": 0
      },
      "text/plain": [
       "Downloading images for ORIANNA:   0%|          | 0/50 [00:00<?, ?it/s]"
      ]
     },
     "metadata": {},
     "output_type": "display_data"
    },
    {
     "data": {
      "application/vnd.jupyter.widget-view+json": {
       "model_id": "4b1d3a1d0082431e851f27e9fdc95414",
       "version_major": 2,
       "version_minor": 0
      },
      "text/plain": [
       "Downloading images for ORNN:   0%|          | 0/50 [00:00<?, ?it/s]"
      ]
     },
     "metadata": {},
     "output_type": "display_data"
    },
    {
     "data": {
      "application/vnd.jupyter.widget-view+json": {
       "model_id": "44272174f095438aaeeacf8a408dcc5e",
       "version_major": 2,
       "version_minor": 0
      },
      "text/plain": [
       "Downloading images for PANTHEON:   0%|          | 0/50 [00:00<?, ?it/s]"
      ]
     },
     "metadata": {},
     "output_type": "display_data"
    },
    {
     "data": {
      "application/vnd.jupyter.widget-view+json": {
       "model_id": "11dc87373bed495599a413f8faaa66f6",
       "version_major": 2,
       "version_minor": 0
      },
      "text/plain": [
       "Downloading images for POPPY:   0%|          | 0/50 [00:00<?, ?it/s]"
      ]
     },
     "metadata": {},
     "output_type": "display_data"
    },
    {
     "data": {
      "application/vnd.jupyter.widget-view+json": {
       "model_id": "3ea1ae82c5044ee2a75376df3e6f50a9",
       "version_major": 2,
       "version_minor": 0
      },
      "text/plain": [
       "Downloading images for PYKE:   0%|          | 0/50 [00:00<?, ?it/s]"
      ]
     },
     "metadata": {},
     "output_type": "display_data"
    },
    {
     "data": {
      "application/vnd.jupyter.widget-view+json": {
       "model_id": "14200cff12e745cf847e160eff056fac",
       "version_major": 2,
       "version_minor": 0
      },
      "text/plain": [
       "Downloading images for QIYANA:   0%|          | 0/50 [00:00<?, ?it/s]"
      ]
     },
     "metadata": {},
     "output_type": "display_data"
    },
    {
     "data": {
      "application/vnd.jupyter.widget-view+json": {
       "model_id": "144e1e72aa75455992f81f3d0616c0f1",
       "version_major": 2,
       "version_minor": 0
      },
      "text/plain": [
       "Downloading images for QUINN:   0%|          | 0/50 [00:00<?, ?it/s]"
      ]
     },
     "metadata": {},
     "output_type": "display_data"
    },
    {
     "data": {
      "application/vnd.jupyter.widget-view+json": {
       "model_id": "3f00bd69fd0b401da58a892baf6a5f08",
       "version_major": 2,
       "version_minor": 0
      },
      "text/plain": [
       "Downloading images for RAKAN:   0%|          | 0/50 [00:00<?, ?it/s]"
      ]
     },
     "metadata": {},
     "output_type": "display_data"
    },
    {
     "data": {
      "application/vnd.jupyter.widget-view+json": {
       "model_id": "a6c539beec94408c97751e1b90872bfe",
       "version_major": 2,
       "version_minor": 0
      },
      "text/plain": [
       "Downloading images for RAMMUS:   0%|          | 0/50 [00:00<?, ?it/s]"
      ]
     },
     "metadata": {},
     "output_type": "display_data"
    },
    {
     "data": {
      "application/vnd.jupyter.widget-view+json": {
       "model_id": "e53b56f061484954ad87f31e83307bd0",
       "version_major": 2,
       "version_minor": 0
      },
      "text/plain": [
       "Downloading images for REK'SAI:   0%|          | 0/50 [00:00<?, ?it/s]"
      ]
     },
     "metadata": {},
     "output_type": "display_data"
    },
    {
     "data": {
      "application/vnd.jupyter.widget-view+json": {
       "model_id": "83388b736292479b9c3a27a6af21b7dd",
       "version_major": 2,
       "version_minor": 0
      },
      "text/plain": [
       "Downloading images for RELL:   0%|          | 0/50 [00:00<?, ?it/s]"
      ]
     },
     "metadata": {},
     "output_type": "display_data"
    },
    {
     "data": {
      "application/vnd.jupyter.widget-view+json": {
       "model_id": "2199c28ed1fb46f8904d7fd2d5491e1e",
       "version_major": 2,
       "version_minor": 0
      },
      "text/plain": [
       "Downloading images for RENATA GLASC:   0%|          | 0/50 [00:00<?, ?it/s]"
      ]
     },
     "metadata": {},
     "output_type": "display_data"
    },
    {
     "data": {
      "application/vnd.jupyter.widget-view+json": {
       "model_id": "e4a9691dccd94b0bab006dcf3ca004cf",
       "version_major": 2,
       "version_minor": 0
      },
      "text/plain": [
       "Downloading images for RENEKTON:   0%|          | 0/50 [00:00<?, ?it/s]"
      ]
     },
     "metadata": {},
     "output_type": "display_data"
    },
    {
     "data": {
      "application/vnd.jupyter.widget-view+json": {
       "model_id": "337b5c3211964cbe9725a87908736c9f",
       "version_major": 2,
       "version_minor": 0
      },
      "text/plain": [
       "Downloading images for RENGAR:   0%|          | 0/50 [00:00<?, ?it/s]"
      ]
     },
     "metadata": {},
     "output_type": "display_data"
    },
    {
     "data": {
      "application/vnd.jupyter.widget-view+json": {
       "model_id": "5a6dee17fd2248b8b9916a6601100037",
       "version_major": 2,
       "version_minor": 0
      },
      "text/plain": [
       "Downloading images for RIVEN:   0%|          | 0/50 [00:00<?, ?it/s]"
      ]
     },
     "metadata": {},
     "output_type": "display_data"
    },
    {
     "data": {
      "application/vnd.jupyter.widget-view+json": {
       "model_id": "3c426661407b4d2b853141eca519034b",
       "version_major": 2,
       "version_minor": 0
      },
      "text/plain": [
       "Downloading images for RUMBLE:   0%|          | 0/50 [00:00<?, ?it/s]"
      ]
     },
     "metadata": {},
     "output_type": "display_data"
    },
    {
     "data": {
      "application/vnd.jupyter.widget-view+json": {
       "model_id": "95eb42da5f5d43029f32389851238a2a",
       "version_major": 2,
       "version_minor": 0
      },
      "text/plain": [
       "Downloading images for RYZE:   0%|          | 0/50 [00:00<?, ?it/s]"
      ]
     },
     "metadata": {},
     "output_type": "display_data"
    },
    {
     "data": {
      "application/vnd.jupyter.widget-view+json": {
       "model_id": "73c0d47746864a3bb2aab9b2e75fc362",
       "version_major": 2,
       "version_minor": 0
      },
      "text/plain": [
       "Downloading images for SAMIRA:   0%|          | 0/50 [00:00<?, ?it/s]"
      ]
     },
     "metadata": {},
     "output_type": "display_data"
    },
    {
     "data": {
      "application/vnd.jupyter.widget-view+json": {
       "model_id": "4c3aea78de104de49ab3723274b52982",
       "version_major": 2,
       "version_minor": 0
      },
      "text/plain": [
       "Downloading images for SEJUANI:   0%|          | 0/50 [00:00<?, ?it/s]"
      ]
     },
     "metadata": {},
     "output_type": "display_data"
    },
    {
     "data": {
      "application/vnd.jupyter.widget-view+json": {
       "model_id": "55d7c24034c246d58cd9ffd06f65a4a4",
       "version_major": 2,
       "version_minor": 0
      },
      "text/plain": [
       "Downloading images for SENNA:   0%|          | 0/50 [00:00<?, ?it/s]"
      ]
     },
     "metadata": {},
     "output_type": "display_data"
    },
    {
     "data": {
      "application/vnd.jupyter.widget-view+json": {
       "model_id": "72223670ab25473f837a56a216e9dce5",
       "version_major": 2,
       "version_minor": 0
      },
      "text/plain": [
       "Downloading images for SERAPHINE:   0%|          | 0/50 [00:00<?, ?it/s]"
      ]
     },
     "metadata": {},
     "output_type": "display_data"
    },
    {
     "data": {
      "application/vnd.jupyter.widget-view+json": {
       "model_id": "f109e26df7c34cee93bef2ba48c3b328",
       "version_major": 2,
       "version_minor": 0
      },
      "text/plain": [
       "Downloading images for SETT:   0%|          | 0/50 [00:00<?, ?it/s]"
      ]
     },
     "metadata": {},
     "output_type": "display_data"
    },
    {
     "data": {
      "application/vnd.jupyter.widget-view+json": {
       "model_id": "1684be13b7714e30b4091aae18aa18d1",
       "version_major": 2,
       "version_minor": 0
      },
      "text/plain": [
       "Downloading images for SHACO:   0%|          | 0/50 [00:00<?, ?it/s]"
      ]
     },
     "metadata": {},
     "output_type": "display_data"
    },
    {
     "data": {
      "application/vnd.jupyter.widget-view+json": {
       "model_id": "e74ac04ea83345d1b11fc49eaaad9803",
       "version_major": 2,
       "version_minor": 0
      },
      "text/plain": [
       "Downloading images for SHEN:   0%|          | 0/50 [00:00<?, ?it/s]"
      ]
     },
     "metadata": {},
     "output_type": "display_data"
    },
    {
     "data": {
      "application/vnd.jupyter.widget-view+json": {
       "model_id": "86cd5b845f9e41919a4e574c6efc1af7",
       "version_major": 2,
       "version_minor": 0
      },
      "text/plain": [
       "Downloading images for SHYVANA:   0%|          | 0/50 [00:00<?, ?it/s]"
      ]
     },
     "metadata": {},
     "output_type": "display_data"
    },
    {
     "data": {
      "application/vnd.jupyter.widget-view+json": {
       "model_id": "434e812bdecc444bba8221e783448ad1",
       "version_major": 2,
       "version_minor": 0
      },
      "text/plain": [
       "Downloading images for SINGED:   0%|          | 0/50 [00:00<?, ?it/s]"
      ]
     },
     "metadata": {},
     "output_type": "display_data"
    },
    {
     "data": {
      "application/vnd.jupyter.widget-view+json": {
       "model_id": "0954a426c0fc49c39a1fb8c508416944",
       "version_major": 2,
       "version_minor": 0
      },
      "text/plain": [
       "Downloading images for SION:   0%|          | 0/50 [00:00<?, ?it/s]"
      ]
     },
     "metadata": {},
     "output_type": "display_data"
    },
    {
     "data": {
      "application/vnd.jupyter.widget-view+json": {
       "model_id": "f4bec5a8666b4236b83af26b26a56083",
       "version_major": 2,
       "version_minor": 0
      },
      "text/plain": [
       "Downloading images for SIVIR:   0%|          | 0/50 [00:00<?, ?it/s]"
      ]
     },
     "metadata": {},
     "output_type": "display_data"
    },
    {
     "data": {
      "application/vnd.jupyter.widget-view+json": {
       "model_id": "8997c5b99b624584af9cd83d5bfd2c4b",
       "version_major": 2,
       "version_minor": 0
      },
      "text/plain": [
       "Downloading images for SKARNER:   0%|          | 0/50 [00:00<?, ?it/s]"
      ]
     },
     "metadata": {},
     "output_type": "display_data"
    },
    {
     "data": {
      "application/vnd.jupyter.widget-view+json": {
       "model_id": "9bc59a2f5c314ba1b8471644e5c64556",
       "version_major": 2,
       "version_minor": 0
      },
      "text/plain": [
       "Downloading images for SONA:   0%|          | 0/50 [00:00<?, ?it/s]"
      ]
     },
     "metadata": {},
     "output_type": "display_data"
    },
    {
     "data": {
      "application/vnd.jupyter.widget-view+json": {
       "model_id": "4970a782ebb045c0bc424cf819171a7e",
       "version_major": 2,
       "version_minor": 0
      },
      "text/plain": [
       "Downloading images for SORAKA:   0%|          | 0/50 [00:00<?, ?it/s]"
      ]
     },
     "metadata": {},
     "output_type": "display_data"
    },
    {
     "data": {
      "application/vnd.jupyter.widget-view+json": {
       "model_id": "6cb0a367c98d417185477e820384fe2a",
       "version_major": 2,
       "version_minor": 0
      },
      "text/plain": [
       "Downloading images for SWAIN:   0%|          | 0/50 [00:00<?, ?it/s]"
      ]
     },
     "metadata": {},
     "output_type": "display_data"
    },
    {
     "data": {
      "application/vnd.jupyter.widget-view+json": {
       "model_id": "368c41d3f51541048df1332000396b0c",
       "version_major": 2,
       "version_minor": 0
      },
      "text/plain": [
       "Downloading images for SYLAS:   0%|          | 0/50 [00:00<?, ?it/s]"
      ]
     },
     "metadata": {},
     "output_type": "display_data"
    },
    {
     "data": {
      "application/vnd.jupyter.widget-view+json": {
       "model_id": "6625e6724be64b18a382f9b1b315bb84",
       "version_major": 2,
       "version_minor": 0
      },
      "text/plain": [
       "Downloading images for SYNDRA:   0%|          | 0/50 [00:00<?, ?it/s]"
      ]
     },
     "metadata": {},
     "output_type": "display_data"
    },
    {
     "data": {
      "application/vnd.jupyter.widget-view+json": {
       "model_id": "3767c6f4be624c0d8a4c40307a1a6101",
       "version_major": 2,
       "version_minor": 0
      },
      "text/plain": [
       "Downloading images for TAHM KENCH:   0%|          | 0/50 [00:00<?, ?it/s]"
      ]
     },
     "metadata": {},
     "output_type": "display_data"
    },
    {
     "data": {
      "application/vnd.jupyter.widget-view+json": {
       "model_id": "63dd517006924f79abafd0e5ee051060",
       "version_major": 2,
       "version_minor": 0
      },
      "text/plain": [
       "Downloading images for TALIYAH:   0%|          | 0/50 [00:00<?, ?it/s]"
      ]
     },
     "metadata": {},
     "output_type": "display_data"
    },
    {
     "data": {
      "application/vnd.jupyter.widget-view+json": {
       "model_id": "eb4400c71f53479685112e3cb6445eda",
       "version_major": 2,
       "version_minor": 0
      },
      "text/plain": [
       "Downloading images for TALON:   0%|          | 0/50 [00:00<?, ?it/s]"
      ]
     },
     "metadata": {},
     "output_type": "display_data"
    },
    {
     "data": {
      "application/vnd.jupyter.widget-view+json": {
       "model_id": "8e90739cad0444fbabcce4bf892c1bb7",
       "version_major": 2,
       "version_minor": 0
      },
      "text/plain": [
       "Downloading images for TARIC:   0%|          | 0/50 [00:00<?, ?it/s]"
      ]
     },
     "metadata": {},
     "output_type": "display_data"
    },
    {
     "data": {
      "application/vnd.jupyter.widget-view+json": {
       "model_id": "54d11ada5fd84006b80af868c29ad702",
       "version_major": 2,
       "version_minor": 0
      },
      "text/plain": [
       "Downloading images for TEEMO:   0%|          | 0/50 [00:00<?, ?it/s]"
      ]
     },
     "metadata": {},
     "output_type": "display_data"
    },
    {
     "data": {
      "application/vnd.jupyter.widget-view+json": {
       "model_id": "b427f30e56094dcb950a8f85beaedf0c",
       "version_major": 2,
       "version_minor": 0
      },
      "text/plain": [
       "Downloading images for THRESH:   0%|          | 0/50 [00:00<?, ?it/s]"
      ]
     },
     "metadata": {},
     "output_type": "display_data"
    },
    {
     "data": {
      "application/vnd.jupyter.widget-view+json": {
       "model_id": "e708f5258e934443ac56f9ead5780eff",
       "version_major": 2,
       "version_minor": 0
      },
      "text/plain": [
       "Downloading images for TRISTANA:   0%|          | 0/50 [00:00<?, ?it/s]"
      ]
     },
     "metadata": {},
     "output_type": "display_data"
    },
    {
     "data": {
      "application/vnd.jupyter.widget-view+json": {
       "model_id": "6f75ad99d2384e64aca34799b1fc08a3",
       "version_major": 2,
       "version_minor": 0
      },
      "text/plain": [
       "Downloading images for TRUNDLE:   0%|          | 0/50 [00:00<?, ?it/s]"
      ]
     },
     "metadata": {},
     "output_type": "display_data"
    },
    {
     "data": {
      "application/vnd.jupyter.widget-view+json": {
       "model_id": "18923524b71b4847a08738f6a78ca085",
       "version_major": 2,
       "version_minor": 0
      },
      "text/plain": [
       "Downloading images for TRYNDAMERE:   0%|          | 0/50 [00:00<?, ?it/s]"
      ]
     },
     "metadata": {},
     "output_type": "display_data"
    },
    {
     "data": {
      "application/vnd.jupyter.widget-view+json": {
       "model_id": "139dc9268f44452baa215e39051e2837",
       "version_major": 2,
       "version_minor": 0
      },
      "text/plain": [
       "Downloading images for TWISTED FATE:   0%|          | 0/50 [00:00<?, ?it/s]"
      ]
     },
     "metadata": {},
     "output_type": "display_data"
    },
    {
     "data": {
      "application/vnd.jupyter.widget-view+json": {
       "model_id": "bd4715e5ca1e4ba3b746f6282f50fc36",
       "version_major": 2,
       "version_minor": 0
      },
      "text/plain": [
       "Downloading images for TWITCH:   0%|          | 0/50 [00:00<?, ?it/s]"
      ]
     },
     "metadata": {},
     "output_type": "display_data"
    },
    {
     "data": {
      "application/vnd.jupyter.widget-view+json": {
       "model_id": "99342c5977d24d36b99a2c9a0b4277b5",
       "version_major": 2,
       "version_minor": 0
      },
      "text/plain": [
       "Downloading images for UDYR:   0%|          | 0/50 [00:00<?, ?it/s]"
      ]
     },
     "metadata": {},
     "output_type": "display_data"
    },
    {
     "data": {
      "application/vnd.jupyter.widget-view+json": {
       "model_id": "aa9a463c97c441ff9e8d5e5087d8a906",
       "version_major": 2,
       "version_minor": 0
      },
      "text/plain": [
       "Downloading images for URGOT:   0%|          | 0/50 [00:00<?, ?it/s]"
      ]
     },
     "metadata": {},
     "output_type": "display_data"
    },
    {
     "data": {
      "application/vnd.jupyter.widget-view+json": {
       "model_id": "10a2d0d282cd40658a0392fb453f2f74",
       "version_major": 2,
       "version_minor": 0
      },
      "text/plain": [
       "Downloading images for VARUS:   0%|          | 0/50 [00:00<?, ?it/s]"
      ]
     },
     "metadata": {},
     "output_type": "display_data"
    },
    {
     "data": {
      "application/vnd.jupyter.widget-view+json": {
       "model_id": "500524bcd2ee43a08a89404c0007857e",
       "version_major": 2,
       "version_minor": 0
      },
      "text/plain": [
       "Downloading images for VAYNE:   0%|          | 0/50 [00:00<?, ?it/s]"
      ]
     },
     "metadata": {},
     "output_type": "display_data"
    },
    {
     "data": {
      "application/vnd.jupyter.widget-view+json": {
       "model_id": "b0d713b9907f4c2ca8b2d42a5ce385f9",
       "version_major": 2,
       "version_minor": 0
      },
      "text/plain": [
       "Downloading images for VEIGAR:   0%|          | 0/50 [00:00<?, ?it/s]"
      ]
     },
     "metadata": {},
     "output_type": "display_data"
    },
    {
     "data": {
      "application/vnd.jupyter.widget-view+json": {
       "model_id": "e731b951d81844ffaec77790b1a5cc20",
       "version_major": 2,
       "version_minor": 0
      },
      "text/plain": [
       "Downloading images for VEL'KOZ:   0%|          | 0/50 [00:00<?, ?it/s]"
      ]
     },
     "metadata": {},
     "output_type": "display_data"
    },
    {
     "data": {
      "application/vnd.jupyter.widget-view+json": {
       "model_id": "6a0bd565ffc041e6a1aaac99727efbb5",
       "version_major": 2,
       "version_minor": 0
      },
      "text/plain": [
       "Downloading images for VEX:   0%|          | 0/50 [00:00<?, ?it/s]"
      ]
     },
     "metadata": {},
     "output_type": "display_data"
    },
    {
     "data": {
      "application/vnd.jupyter.widget-view+json": {
       "model_id": "b633a43435074f54bd6516c1339752b0",
       "version_major": 2,
       "version_minor": 0
      },
      "text/plain": [
       "Downloading images for VI:   0%|          | 0/50 [00:00<?, ?it/s]"
      ]
     },
     "metadata": {},
     "output_type": "display_data"
    },
    {
     "data": {
      "application/vnd.jupyter.widget-view+json": {
       "model_id": "3780c49651f44fc18efab5d64b2268b3",
       "version_major": 2,
       "version_minor": 0
      },
      "text/plain": [
       "Downloading images for VIEGO:   0%|          | 0/50 [00:00<?, ?it/s]"
      ]
     },
     "metadata": {},
     "output_type": "display_data"
    },
    {
     "data": {
      "application/vnd.jupyter.widget-view+json": {
       "model_id": "6fe368fec4964367ac6f1f9fd02353c5",
       "version_major": 2,
       "version_minor": 0
      },
      "text/plain": [
       "Downloading images for VIKTOR:   0%|          | 0/50 [00:00<?, ?it/s]"
      ]
     },
     "metadata": {},
     "output_type": "display_data"
    },
    {
     "data": {
      "application/vnd.jupyter.widget-view+json": {
       "model_id": "36b45b76aa66492ba66d3f9cf1ac13ba",
       "version_major": 2,
       "version_minor": 0
      },
      "text/plain": [
       "Downloading images for VLADIMIR:   0%|          | 0/50 [00:00<?, ?it/s]"
      ]
     },
     "metadata": {},
     "output_type": "display_data"
    },
    {
     "data": {
      "application/vnd.jupyter.widget-view+json": {
       "model_id": "418acd4c11724c4a97ae3206106d7a89",
       "version_major": 2,
       "version_minor": 0
      },
      "text/plain": [
       "Downloading images for VOLIBEAR:   0%|          | 0/50 [00:00<?, ?it/s]"
      ]
     },
     "metadata": {},
     "output_type": "display_data"
    },
    {
     "data": {
      "application/vnd.jupyter.widget-view+json": {
       "model_id": "d5709c99d38c459daea5b5c166eecaa7",
       "version_major": 2,
       "version_minor": 0
      },
      "text/plain": [
       "Downloading images for WARWICK:   0%|          | 0/50 [00:00<?, ?it/s]"
      ]
     },
     "metadata": {},
     "output_type": "display_data"
    },
    {
     "data": {
      "application/vnd.jupyter.widget-view+json": {
       "model_id": "b926c7bf948b4a4b90ff67bd102da4d8",
       "version_major": 2,
       "version_minor": 0
      },
      "text/plain": [
       "Downloading images for WUKONG:   0%|          | 0/50 [00:00<?, ?it/s]"
      ]
     },
     "metadata": {},
     "output_type": "display_data"
    },
    {
     "data": {
      "application/vnd.jupyter.widget-view+json": {
       "model_id": "cd19966dd4fa436ebb33759457921d01",
       "version_major": 2,
       "version_minor": 0
      },
      "text/plain": [
       "Downloading images for XAYAH:   0%|          | 0/50 [00:00<?, ?it/s]"
      ]
     },
     "metadata": {},
     "output_type": "display_data"
    },
    {
     "data": {
      "application/vnd.jupyter.widget-view+json": {
       "model_id": "7a3261fe5822412aaab1cc418caac9bc",
       "version_major": 2,
       "version_minor": 0
      },
      "text/plain": [
       "Downloading images for XERATH:   0%|          | 0/50 [00:00<?, ?it/s]"
      ]
     },
     "metadata": {},
     "output_type": "display_data"
    },
    {
     "data": {
      "application/vnd.jupyter.widget-view+json": {
       "model_id": "130f956e7c48487c84c95bb2edb8071a",
       "version_major": 2,
       "version_minor": 0
      },
      "text/plain": [
       "Downloading images for XIN ZHAO:   0%|          | 0/50 [00:00<?, ?it/s]"
      ]
     },
     "metadata": {},
     "output_type": "display_data"
    },
    {
     "data": {
      "application/vnd.jupyter.widget-view+json": {
       "model_id": "1194200ec5d04016b1c28364736cadfb",
       "version_major": 2,
       "version_minor": 0
      },
      "text/plain": [
       "Downloading images for YASUO:   0%|          | 0/50 [00:00<?, ?it/s]"
      ]
     },
     "metadata": {},
     "output_type": "display_data"
    },
    {
     "data": {
      "application/vnd.jupyter.widget-view+json": {
       "model_id": "fd5bdcea6506481a9a39103f645c150d",
       "version_major": 2,
       "version_minor": 0
      },
      "text/plain": [
       "Downloading images for YONE:   0%|          | 0/50 [00:00<?, ?it/s]"
      ]
     },
     "metadata": {},
     "output_type": "display_data"
    },
    {
     "data": {
      "application/vnd.jupyter.widget-view+json": {
       "model_id": "684df84501504902b59541317eb930d6",
       "version_major": 2,
       "version_minor": 0
      },
      "text/plain": [
       "Downloading images for YORICK:   0%|          | 0/50 [00:00<?, ?it/s]"
      ]
     },
     "metadata": {},
     "output_type": "display_data"
    },
    {
     "data": {
      "application/vnd.jupyter.widget-view+json": {
       "model_id": "bca408eee3c84689bce1fcecc6716c56",
       "version_major": 2,
       "version_minor": 0
      },
      "text/plain": [
       "Downloading images for YUUMI:   0%|          | 0/50 [00:00<?, ?it/s]"
      ]
     },
     "metadata": {},
     "output_type": "display_data"
    },
    {
     "data": {
      "application/vnd.jupyter.widget-view+json": {
       "model_id": "4702772baecc4a8cbb6abb89c949e1dd",
       "version_major": 2,
       "version_minor": 0
      },
      "text/plain": [
       "Downloading images for ZAC:   0%|          | 0/50 [00:00<?, ?it/s]"
      ]
     },
     "metadata": {},
     "output_type": "display_data"
    },
    {
     "data": {
      "application/vnd.jupyter.widget-view+json": {
       "model_id": "5033349c92964892825eadbee9487f6d",
       "version_major": 2,
       "version_minor": 0
      },
      "text/plain": [
       "Downloading images for ZED:   0%|          | 0/50 [00:00<?, ?it/s]"
      ]
     },
     "metadata": {},
     "output_type": "display_data"
    },
    {
     "data": {
      "application/vnd.jupyter.widget-view+json": {
       "model_id": "50cdc05731454210a55ce2b116d03cfc",
       "version_major": 2,
       "version_minor": 0
      },
      "text/plain": [
       "Downloading images for ZERI:   0%|          | 0/50 [00:00<?, ?it/s]"
      ]
     },
     "metadata": {},
     "output_type": "display_data"
    },
    {
     "data": {
      "application/vnd.jupyter.widget-view+json": {
       "model_id": "33ba31ecad584102819f141da22bebf0",
       "version_major": 2,
       "version_minor": 0
      },
      "text/plain": [
       "Downloading images for ZIGGS:   0%|          | 0/50 [00:00<?, ?it/s]"
      ]
     },
     "metadata": {},
     "output_type": "display_data"
    },
    {
     "data": {
      "application/vnd.jupyter.widget-view+json": {
       "model_id": "56c0e1051c684599bc5511f1c635b202",
       "version_major": 2,
       "version_minor": 0
      },
      "text/plain": [
       "Downloading images for ZILEAN:   0%|          | 0/50 [00:00<?, ?it/s]"
      ]
     },
     "metadata": {},
     "output_type": "display_data"
    },
    {
     "data": {
      "application/vnd.jupyter.widget-view+json": {
       "model_id": "db13658854b24a7b8045b624de86e554",
       "version_major": 2,
       "version_minor": 0
      },
      "text/plain": [
       "Downloading images for ZOE:   0%|          | 0/50 [00:00<?, ?it/s]"
      ]
     },
     "metadata": {},
     "output_type": "display_data"
    },
    {
     "data": {
      "application/vnd.jupyter.widget-view+json": {
       "model_id": "dde90d0db4ea46e68224059b726ccfa6",
       "version_major": 2,
       "version_minor": 0
      },
      "text/plain": [
       "Downloading images for ZYRA:   0%|          | 0/50 [00:00<?, ?it/s]"
      ]
     },
     "metadata": {},
     "output_type": "display_data"
    },
    {
     "data": {
      "application/vnd.jupyter.widget-view+json": {
       "model_id": "1157eb85b55c45f38aca2feb46371afe",
       "version_major": 2,
       "version_minor": 0
      },
      "text/plain": [
       "Downloading images for ANA:   0%|          | 0/50 [00:00<?, ?it/s]"
      ]
     },
     "metadata": {},
     "output_type": "display_data"
    },
    {
     "data": {
      "application/vnd.jupyter.widget-view+json": {
       "model_id": "494bd262465242a6b3b6f335fb433e37",
       "version_major": 2,
       "version_minor": 0
      },
      "text/plain": [
       "Downloading images for ASHE:   0%|          | 0/50 [00:00<?, ?it/s]"
      ]
     },
     "metadata": {},
     "output_type": "display_data"
    },
    {
     "data": {
      "application/vnd.jupyter.widget-view+json": {
       "model_id": "df27be9810f947ba9f7ac22e7930b277",
       "version_major": 2,
       "version_minor": 0
      },
      "text/plain": [
       "Downloading images for BAPTISTE:   0%|          | 0/50 [00:00<?, ?it/s]"
      ]
     },
     "metadata": {},
     "output_type": "display_data"
    },
    {
     "data": {
      "application/vnd.jupyter.widget-view+json": {
       "model_id": "a5610b986de6482ebc52ba61b07a16fc",
       "version_major": 2,
       "version_minor": 0
      },
      "text/plain": [
       "Downloading images for BASTION:   0%|          | 0/50 [00:00<?, ?it/s]"
      ]
     },
     "metadata": {},
     "output_type": "display_data"
    },
    {
     "data": {
      "application/vnd.jupyter.widget-view+json": {
       "model_id": "e33c49d20df74698995f8577ee4642ff",
       "version_major": 2,
       "version_minor": 0
      },
      "text/plain": [
       "Downloading images for BRIGITTE:   0%|          | 0/50 [00:00<?, ?it/s]"
      ]
     },
     "metadata": {},
     "output_type": "display_data"
    },
    {
     "data": {
      "application/vnd.jupyter.widget-view+json": {
       "model_id": "8b20569829624fa7865f3fc15d0ba59b",
       "version_major": 2,
       "version_minor": 0
      },
      "text/plain": [
       "Downloading images for CASSIDY:   0%|          | 0/50 [00:00<?, ?it/s]"
      ]
     },
     "metadata": {},
     "output_type": "display_data"
    },
    {
     "data": {
      "application/vnd.jupyter.widget-view+json": {
       "model_id": "c07751ef43f84cbfa07e9b93efe344c9",
       "version_major": 2,
       "version_minor": 0
      },
      "text/plain": [
       "Downloading images for D.VA:   0%|          | 0/50 [00:00<?, ?it/s]"
      ]
     },
     "metadata": {},
     "output_type": "display_data"
    },
    {
     "data": {
      "application/vnd.jupyter.widget-view+json": {
       "model_id": "b44151498b2c45d389157530da829641",
       "version_major": 2,
       "version_minor": 0
      },
      "text/plain": [
       "Downloading images for DOOMFIST:   0%|          | 0/50 [00:00<?, ?it/s]"
      ]
     },
     "metadata": {},
     "output_type": "display_data"
    },
    {
     "data": {
      "application/vnd.jupyter.widget-view+json": {
       "model_id": "a5e23c43e5224638a1a44c334c5e5883",
       "version_major": 2,
       "version_minor": 0
      },
      "text/plain": [
       "Downloading images for ECHO:   0%|          | 0/50 [00:00<?, ?it/s]"
      ]
     },
     "metadata": {},
     "output_type": "display_data"
    },
    {
     "data": {
      "application/vnd.jupyter.widget-view+json": {
       "model_id": "a3d7e243f9944f959dd223d8de0305f8",
       "version_major": 2,
       "version_minor": 0
      },
      "text/plain": [
       "Downloading images for GENJI:   0%|          | 0/50 [00:00<?, ?it/s]"
      ]
     },
     "metadata": {},
     "output_type": "display_data"
    },
    {
     "data": {
      "application/vnd.jupyter.widget-view+json": {
       "model_id": "c253cb9c7ec04fe790ac0521a91f0e64",
       "version_major": 2,
       "version_minor": 0
      },
      "text/plain": [
       "Downloading images for HANZO:   0%|          | 0/50 [00:00<?, ?it/s]"
      ]
     },
     "metadata": {},
     "output_type": "display_data"
    },
    {
     "data": {
      "application/vnd.jupyter.widget-view+json": {
       "model_id": "2d03165e8db042c797badd94c6ddce00",
       "version_major": 2,
       "version_minor": 0
      },
      "text/plain": [
       "Downloading images for ILLARI:   0%|          | 0/50 [00:00<?, ?it/s]"
      ]
     },
     "metadata": {},
     "output_type": "display_data"
    },
    {
     "data": {
      "application/vnd.jupyter.widget-view+json": {
       "model_id": "1b48a0b844d84da98ed6ea3f4c3f5182",
       "version_major": 2,
       "version_minor": 0
      },
      "text/plain": [
       "Downloading images for JUNKER QUEEN:   0%|          | 0/50 [00:00<?, ?it/s]"
      ]
     },
     "metadata": {},
     "output_type": "display_data"
    },
    {
     "data": {
      "application/vnd.jupyter.widget-view+json": {
       "model_id": "8ed2a4749ed843d5998850c21fa922fb",
       "version_major": 2,
       "version_minor": 0
      },
      "text/plain": [
       "Downloading images for JUNKRAT:   0%|          | 0/50 [00:00<?, ?it/s]"
      ]
     },
     "metadata": {},
     "output_type": "display_data"
    },
    {
     "data": {
      "application/vnd.jupyter.widget-view+json": {
       "model_id": "9913932930f5421894c984dbd2181d2d",
       "version_major": 2,
       "version_minor": 0
      },
      "text/plain": [
       "Downloading images for KIRIKO:   0%|          | 0/50 [00:00<?, ?it/s]"
      ]
     },
     "metadata": {},
     "output_type": "display_data"
    },
    {
     "data": {
      "application/vnd.jupyter.widget-view+json": {
       "model_id": "40c387ba15d0446e8db3dd567ef7d0a0",
       "version_major": 2,
       "version_minor": 0
      },
      "text/plain": [
       "Downloading images for LIFEWEAVER:   0%|          | 0/50 [00:00<?, ?it/s]"
      ]
     },
     "metadata": {},
     "output_type": "display_data"
    },
    {
     "data": {
      "application/vnd.jupyter.widget-view+json": {
       "model_id": "22cfbeb1d4d44741a189476285af3b68",
       "version_major": 2,
       "version_minor": 0
      },
      "text/plain": [
       "Downloading images for LÚCIO:   0%|          | 0/50 [00:00<?, ?it/s]"
      ]
     },
     "metadata": {},
     "output_type": "display_data"
    },
    {
     "data": {
      "application/vnd.jupyter.widget-view+json": {
       "model_id": "15e2e3047b7f4946a9e894fd4018b3fa",
       "version_major": 2,
       "version_minor": 0
      },
      "text/plain": [
       "Downloading images for MEI:   0%|          | 0/50 [00:00<?, ?it/s]"
      ]
     },
     "metadata": {},
     "output_type": "display_data"
    },
    {
     "data": {
      "application/vnd.jupyter.widget-view+json": {
       "model_id": "9c455f0d94394f53af85d4e0075f15a4",
       "version_major": 2,
       "version_minor": 0
      },
      "text/plain": [
       "Downloading images for MERCY:   0%|          | 0/50 [00:00<?, ?it/s]"
      ]
     },
     "metadata": {},
     "output_type": "display_data"
    },
    {
     "data": {
      "application/vnd.jupyter.widget-view+json": {
       "model_id": "512404ee5ad3414ea397be51ab327baa",
       "version_major": 2,
       "version_minor": 0
      },
      "text/plain": [
       "Downloading images for MOIRA:   0%|          | 0/50 [00:00<?, ?it/s]"
      ]
     },
     "metadata": {},
     "output_type": "display_data"
    },
    {
     "data": {
      "application/vnd.jupyter.widget-view+json": {
       "model_id": "7689346c4d2341b987cdd73e6b40b056",
       "version_major": 2,
       "version_minor": 0
      },
      "text/plain": [
       "Downloading images for ORISA:   0%|          | 0/50 [00:00<?, ?it/s]"
      ]
     },
     "metadata": {},
     "output_type": "display_data"
    },
    {
     "data": {
      "application/vnd.jupyter.widget-view+json": {
       "model_id": "e09733dcfdbe403ba593571ebea0d060",
       "version_major": 2,
       "version_minor": 0
      },
      "text/plain": [
       "Downloading images for PHARAH:   0%|          | 0/50 [00:00<?, ?it/s]"
      ]
     },
     "metadata": {},
     "output_type": "display_data"
    },
    {
     "data": {
      "application/vnd.jupyter.widget-view+json": {
       "model_id": "b76b23b5f4b948eb884af001e2218f27",
       "version_major": 2,
       "version_minor": 0
      },
      "text/plain": [
       "Downloading images for RAMATTRA:   0%|          | 0/50 [00:00<?, ?it/s]"
      ]
     },
     "metadata": {},
     "output_type": "display_data"
    },
    {
     "data": {
      "application/vnd.jupyter.widget-view+json": {
       "model_id": "a0addb85d4b64ceda6bab05ff928e906",
       "version_major": 2,
       "version_minor": 0
      },
      "text/plain": [
       "Downloading images for REAPER:   0%|          | 0/50 [00:00<?, ?it/s]"
      ]
     },
     "metadata": {},
     "output_type": "display_data"
    },
    {
     "data": {
      "application/vnd.jupyter.widget-view+json": {
       "model_id": "38b773473dfd401299b20552fe689fcb",
       "version_major": 2,
       "version_minor": 0
      },
      "text/plain": [
       "Downloading images for REINHARDT:   0%|          | 0/50 [00:00<?, ?it/s]"
      ]
     },
     "metadata": {},
     "output_type": "display_data"
    },
    {
     "data": {
      "application/vnd.jupyter.widget-view+json": {
       "model_id": "665f8434c3124734a440dea9c6b79f37",
       "version_major": 2,
       "version_minor": 0
      },
      "text/plain": [
       "Downloading images for ROADHOG:   0%|          | 0/50 [00:00<?, ?it/s]"
      ]
     },
     "metadata": {},
     "output_type": "display_data"
    },
    {
     "data": {
      "application/vnd.jupyter.widget-view+json": {
       "model_id": "625aec82c861409f8610c78e15b125ac",
       "version_major": 2,
       "version_minor": 0
      },
      "text/plain": [
       "Downloading images for SIGMA:   0%|          | 0/50 [00:00<?, ?it/s]"
      ]
     },
     "metadata": {},
     "output_type": "display_data"
    },
    {
     "data": {
      "application/vnd.jupyter.widget-view+json": {
       "model_id": "6827bc98fdb34090b34556f7466b702d",
       "version_major": 2,
       "version_minor": 0
      },
      "text/plain": [
       "Downloading images for SOJOURN:   0%|          | 0/50 [00:00<?, ?it/s]"
      ]
     },
     "metadata": {},
     "output_type": "display_data"
    },
    {
     "ename": "NotADirectoryError",
     "evalue": "[WinError 267] The directory name is invalid: 'character_images\\\\SOLDIER:_76'",
     "output_type": "error",
     "traceback": [
      "\u001b[1;31m---------------------------------------------------------------------------\u001b[0m",
      "\u001b[1;31mNotADirectoryError\u001b[0m                        Traceback (most recent call last)",
      "Cell \u001b[1;32mIn[22], line 35\u001b[0m\n\u001b[0;32m     33\u001b[0m \u001b[38;5;66;03m# Ensure the character's directory exists\u001b[39;00m\n\u001b[0;32m     34\u001b[0m \u001b[38;5;28;01mif\u001b[39;00m \u001b[38;5;129;01mnot\u001b[39;00m os\u001b[38;5;241m.\u001b[39mpath\u001b[38;5;241m.\u001b[39mexists(character_dir):\n\u001b[1;32m---> 35\u001b[0m     \u001b[43mos\u001b[49m\u001b[38;5;241;43m.\u001b[39;49m\u001b[43mmakedirs\u001b[49m\u001b[43m(\u001b[49m\u001b[43mcharacter_dir\u001b[49m\u001b[43m)\u001b[49m\n\u001b[0;32m     37\u001b[0m \u001b[38;5;66;03m# Download each image from the 'urls' list\u001b[39;00m\n\u001b[0;32m     38\u001b[0m \u001b[38;5;28;01mfor\u001b[39;00m image_number, url \u001b[38;5;129;01min\u001b[39;00m \u001b[38;5;28menumerate\u001b[39m(tqdm(row[\u001b[38;5;124m'\u001b[39m\u001b[38;5;124murls\u001b[39m\u001b[38;5;124m'\u001b[39m], desc\u001b[38;5;241m=\u001b[39m\u001b[38;5;124mf\u001b[39m\u001b[38;5;124m\"\u001b[39m\u001b[38;5;124mDownloading images for \u001b[39m\u001b[38;5;132;01m{\u001b[39;00mcharacter\u001b[38;5;132;01m}\u001b[39;00m\u001b[38;5;124m\"\u001b[39m)):\n",
      "File \u001b[1;32m~\\anaconda3\\envs\\gpu\\lib\\os.py:225\u001b[0m, in \u001b[0;36mmakedirs\u001b[1;34m(name, mode, exist_ok)\u001b[0m\n\u001b[0;32m    223\u001b[0m         \u001b[38;5;28;01mreturn\u001b[39;00m\n\u001b[0;32m    224\u001b[0m \u001b[38;5;28;01mtry\u001b[39;00m:\n\u001b[1;32m--> 225\u001b[0m     \u001b[43mmkdir\u001b[49m\u001b[43m(\u001b[49m\u001b[43mname\u001b[49m\u001b[43m,\u001b[49m\u001b[43m \u001b[49m\u001b[43mmode\u001b[49m\u001b[43m)\u001b[49m\n\u001b[0;32m    226\u001b[0m \u001b[38;5;28;01mexcept\u001b[39;00m \u001b[38;5;167;01mOSError\u001b[39;00m:\n\u001b[0;32m    227\u001b[0m     \u001b[38;5;66;03m# Cannot rely on checking for EEXIST, since the operating system\u001b[39;00m\n\u001b[0;32m    228\u001b[0m     \u001b[38;5;66;03m# could give priority to other errors like EACCES or EROFS\u001b[39;00m\n\u001b[0;32m    229\u001b[0m     \u001b[38;5;28;01mif\u001b[39;00m \u001b[38;5;129;01mnot\u001b[39;00m exist_ok \u001b[38;5;129;01mor\u001b[39;00m \u001b[38;5;129;01mnot\u001b[39;00m path\u001b[38;5;241m.\u001b[39misdir(name):\n",
      "\u001b[1;31mNotADirectoryError\u001b[0m: [WinError 267] The directory name is invalid: 'character_images\\\\SOLDIER:_76'"
     ]
    }
   ],
   "source": [
    "import os\n",
    "import requests\n",
    "from tqdm.auto import tqdm\n",
    "\n",
    "# Base directory where character folders will be created\n",
    "base_dir = 'character_images'\n",
    "\n",
    "# Ensure the base directory exists\n",
    "if not os.path.exists(base_dir):\n",
    "    os.makedirs(base_dir)\n",
    "\n",
    "# Function to download an image from a URL\n",
    "def download_image(url, folder_path, image_number):\n",
    "    try:\n",
    "        response = requests.get(url, stream=True)\n",
    "        if response.status_code == 200:\n",
    "            # Create a valid filename from the image number\n",
    "            filename = f'image_{image_number:03}.jpg'\n",
    "            filepath = os.path.join(folder_path, filename)\n",
    "            with open(filepath, 'wb') as f:\n",
    "                for chunk in response.iter_content(1024):\n",
    "                    f.write(chunk)\n",
    "            return True\n",
    "    except Exception as e:\n",
    "        print(f\"An error occurred: {e}\")\n",
    "    return False\n",
    "\n",
    "# Iterate over the DataFrame rows and download images\n",
    "for index, row in df.iterrows():\n",
    "    character = row['Character']\n",
    "    # Make a valid directory name for the character\n",
    "    character_dir = os.path.join(base_dir, character.replace(' ', '_'))\n",
    "    # Ensure the character's directory exists\n",
    "    if not os.path.exists(character_dir):\n",
    "        os.makedirs(character_dir)\n",
    "    \n",
    "    # Download each image from the 'urls' list\n",
    "    for image_number, url in enumerate(tqdm(row['urls'], desc=f\"Downloading images for {character}\")):\n",
    "        download_image(url, character_dir, image_number)\n"
   ]
  },
  {
   "cell_type": "code",
   "execution_count": 24,
   "id": "0ddff406",
   "metadata": {},
   "outputs": [
    {
     "data": {
      "application/vnd.jupyter.widget-view+json": {
       "model_id": "6d8686206aa347e0b113633028e1a9b0",
       "version_major": 2,
       "version_minor": 0
      },
      "text/plain": [
       "Downloading images for SOLDIER: 76:   0%|          | 0/50 [00:00<?, ?it/s]"
      ]
     },
     "metadata": {},
     "output_type": "display_data"
    },
    {
     "data": {
      "application/vnd.jupyter.widget-view+json": {
       "model_id": "954dae00e17648dbbb83832818e3e700",
       "version_major": 2,
       "version_minor": 0
      },
      "text/plain": [
       "Downloading images for SOMBRA:   0%|          | 0/50 [00:00<?, ?it/s]"
      ]
     },
     "metadata": {},
     "output_type": "display_data"
    },
    {
     "data": {
      "application/vnd.jupyter.widget-view+json": {
       "model_id": "5f5fe35ce4b5498cbe6f80b56f03ada6",
       "version_major": 2,
       "version_minor": 0
      },
      "text/plain": [
       "Downloading images for SYMMETRA:   0%|          | 0/50 [00:00<?, ?it/s]"
      ]
     },
     "metadata": {},
     "output_type": "display_data"
    },
    {
     "data": {
      "application/vnd.jupyter.widget-view+json": {
       "model_id": "4095fe1d4829465c95f3930578f75697",
       "version_major": 2,
       "version_minor": 0
      },
      "text/plain": [
       "Downloading images for TORBJÖRN:   0%|          | 0/50 [00:00<?, ?it/s]"
      ]
     },
     "metadata": {},
     "output_type": "display_data"
    },
    {
     "data": {
      "application/vnd.jupyter.widget-view+json": {
       "model_id": "965b65e052ff4330ab115169f56aad85",
       "version_major": 2,
       "version_minor": 0
      },
      "text/plain": [
       "Downloading images for TRACER:   0%|          | 0/50 [00:00<?, ?it/s]"
      ]
     },
     "metadata": {},
     "output_type": "display_data"
    },
    {
     "data": {
      "application/vnd.jupyter.widget-view+json": {
       "model_id": "a8a5bfc9c44b496aa935adae1f0e754b",
       "version_major": 2,
       "version_minor": 0
      },
      "text/plain": [
       "Downloading images for WIDOWMAKER:   0%|          | 0/50 [00:00<?, ?it/s]"
      ]
     },
     "metadata": {},
     "output_type": "display_data"
    },
    {
     "data": {
      "application/vnd.jupyter.widget-view+json": {
       "model_id": "d3cdd51cb03b4265aaed179fe9544dfc",
       "version_major": 2,
       "version_minor": 0
      },
      "text/plain": [
       "Downloading images for WINSTON:   0%|          | 0/50 [00:00<?, ?it/s]"
      ]
     },
     "metadata": {},
     "output_type": "display_data"
    },
    {
     "data": {
      "application/vnd.jupyter.widget-view+json": {
       "model_id": "5948ed3f98954c1e93f3a1ac1e759df3",
       "version_major": 2,
       "version_minor": 0
      },
      "text/plain": [
       "Downloading images for WRECKING BALL:   0%|          | 0/50 [00:00<?, ?it/s]"
      ]
     },
     "metadata": {},
     "output_type": "display_data"
    },
    {
     "data": {
      "application/vnd.jupyter.widget-view+json": {
       "model_id": "beeebb4ab523461fb818466f4e6e64de",
       "version_major": 2,
       "version_minor": 0
      },
      "text/plain": [
       "Downloading images for ZARYA:   0%|          | 0/50 [00:00<?, ?it/s]"
      ]
     },
     "metadata": {},
     "output_type": "display_data"
    },
    {
     "data": {
      "application/vnd.jupyter.widget-view+json": {
       "model_id": "f69b031c91124cf3a6b5dd968dbdcbf8",
       "version_major": 2,
       "version_minor": 0
      },
      "text/plain": [
       "Downloading images for ZENYATTA:   0%|          | 0/50 [00:00<?, ?it/s]"
      ]
     },
     "metadata": {},
     "output_type": "display_data"
    },
    {
     "data": {
      "application/vnd.jupyter.widget-view+json": {
       "model_id": "eacf7a91020d476faa39ab75418bddf3",
       "version_major": 2,
       "version_minor": 0
      },
      "text/plain": [
       "Downloading images for Abaddon:   0%|          | 0/50 [00:00<?, ?it/s]"
      ]
     },
     "metadata": {},
     "output_type": "display_data"
    },
    {
     "data": {
      "application/vnd.jupyter.widget-view+json": {
       "model_id": "a8b68e10826b41ceaf6ff93edede3c74",
       "version_major": 2,
       "version_minor": 0
      },
      "text/plain": [
       "Downloading images for Alchemist:   0%|          | 0/50 [00:00<?, ?it/s]"
      ]
     },
     "metadata": {},
     "output_type": "display_data"
    },
    {
     "data": {
      "application/vnd.jupyter.widget-view+json": {
       "model_id": "80d32c1eefdb4a9b82a14db294f71eca",
       "version_major": 2,
       "version_minor": 0
      },
      "text/plain": [
       "Downloading images for Ancient Apparition:   0%|          | 0/50 [00:00<?, ?it/s]"
      ]
     },
     "metadata": {},
     "output_type": "display_data"
    },
    {
     "data": {
      "application/vnd.jupyter.widget-view+json": {
       "model_id": "7c255c7ed5094365a09cd3e00865e98a",
       "version_major": 2,
       "version_minor": 0
      },
      "text/plain": [
       "Downloading images for Anti-Mage:   0%|          | 0/50 [00:00<?, ?it/s]"
      ]
     },
     "metadata": {},
     "output_type": "display_data"
    },
    {
     "data": {
      "application/vnd.jupyter.widget-view+json": {
       "model_id": "03e972cc92e84dc3a13601087dac662a",
       "version_major": 2,
       "version_minor": 0
      },
      "text/plain": [
       "Downloading images for Arc Warden:   0%|          | 0/50 [00:00<?, ?it/s]"
      ]
     },
     "metadata": {},
     "output_type": "display_data"
    },
    {
     "data": {
      "application/vnd.jupyter.widget-view+json": {
       "model_id": "15c3c45ee77e44aebb81a4277b2d0f1a",
       "version_major": 2,
       "version_minor": 0
      },
      "text/plain": [
       "Downloading images for Axe:   0%|          | 0/50 [00:00<?, ?it/s]"
      ]
     },
     "metadata": {},
     "output_type": "display_data"
    },
    {
     "data": {
      "application/vnd.jupyter.widget-view+json": {
       "model_id": "95e08824013743f1983deb9397a43890",
       "version_major": 2,
       "version_minor": 0
      },
      "text/plain": [
       "Downloading images for Bane:   0%|          | 0/50 [00:00<?, ?it/s]"
      ]
     },
     "metadata": {},
     "output_type": "display_data"
    },
    {
     "data": {
      "application/vnd.jupyter.widget-view+json": {
       "model_id": "b7968952159f49298ba6d931a3e74a43",
       "version_major": 2,
       "version_minor": 0
      },
      "text/plain": [
       "Downloading images for Batrider:   0%|          | 0/50 [00:00<?, ?it/s]"
      ]
     },
     "metadata": {},
     "output_type": "display_data"
    },
    {
     "data": {
      "application/vnd.jupyter.widget-view+json": {
       "model_id": "adf5ff8b7fe2497ebfcfeb61fe65934e",
       "version_major": 2,
       "version_minor": 0
      },
      "text/plain": [
       "Downloading images for Beastmaster:   0%|          | 0/50 [00:00<?, ?it/s]"
      ]
     },
     "metadata": {},
     "output_type": "display_data"
    },
    {
     "data": {
      "application/vnd.jupyter.widget-view+json": {
       "model_id": "c6dda55f557647d79e6a3090abf76bed",
       "version_major": 2,
       "version_minor": 0
      },
      "text/plain": [
       "Downloading images for Bloodseeker:   0%|          | 0/50 [00:00<?, ?it/s]"
      ]
     },
     "metadata": {},
     "output_type": "display_data"
    },
    {
     "data": {
      "application/vnd.jupyter.widget-view+json": {
       "model_id": "67cba4b1c5024b60b0007c37f68d3f7b",
       "version_major": 2,
       "version_minor": 0
      },
      "text/plain": [
       "Downloading images for Bounty Hunter:   0%|          | 0/50 [00:00<?, ?it/s]"
      ]
     },
     "metadata": {},
     "output_type": "display_data"
    },
    {
     "data": {
      "application/vnd.jupyter.widget-view+json": {
       "model_id": "fce2908ea9194a388b5c03708953e004",
       "version_major": 2,
       "version_minor": 0
      },
      "text/plain": [
       "Downloading images for Brewmaster:   0%|          | 0/50 [00:00<?, ?it/s]"
      ]
     },
     "metadata": {},
     "output_type": "display_data"
    },
    {
     "data": {
      "application/vnd.jupyter.widget-view+json": {
       "model_id": "f40bff9d28a04b47aef098469fb301e4",
       "version_major": 2,
       "version_minor": 0
      },
      "text/plain": [
       "Downloading images for Bristleback:   0%|          | 0/50 [00:00<?, ?it/s]"
      ]
     },
     "metadata": {},
     "output_type": "display_data"
    },
    {
     "data": {
      "application/vnd.jupyter.widget-view+json": {
       "model_id": "47b9e0675ce94e74bf1ddeb557ec4578",
       "version_major": 2,
       "version_minor": 0
      },
      "text/plain": [
       "Downloading images for Broodmother:   0%|          | 0/50 [00:00<?, ?it/s]"
      ]
     },
     "metadata": {},
     "output_type": "display_data"
    },
    {
     "data": {
      "application/vnd.jupyter.widget-view+json": {
       "model_id": "0a4e7d355bab42c4a21555e1b0a53297",
       "version_major": 2,
       "version_minor": 0
      },
      "text/plain": [
       "Downloading images for Centaur Warrunner:   0%|          | 0/50 [00:00<?, ?it/s]"
      ]
     },
     "metadata": {},
     "output_type": "display_data"
    },
    {
     "data": {
      "application/vnd.jupyter.widget-view+json": {
       "model_id": "297fb2b5ba6142a0992341b0b74ac3bd",
       "version_major": 2,
       "version_minor": 0
      },
      "text/plain": [
       "Downloading images for Chaos Knight:   0%|          | 0/50 [00:00<?, ?it/s]"
      ]
     },
     "metadata": {},
     "output_type": "display_data"
    },
    {
     "data": {
      "application/vnd.jupyter.widget-view+json": {
       "model_id": "aeac8409cbbd403899591a0f3cc0d3ab",
       "version_major": 2,
       "version_minor": 0
      },
      "text/plain": [
       "Downloading images for Chen:   0%|          | 0/50 [00:00<?, ?it/s]"
      ]
     },
     "metadata": {},
     "output_type": "display_data"
    },
    {
     "data": {
      "application/vnd.jupyter.widget-view+json": {
       "model_id": "345425a80abe44839182a8759fc65d8b",
       "version_major": 2,
       "version_minor": 0
      },
      "text/plain": [
       "Downloading images for Clinkz:   0%|          | 0/50 [00:00<?, ?it/s]"
      ]
     },
     "metadata": {},
     "output_type": "display_data"
    },
    {
     "data": {
      "application/vnd.jupyter.widget-view+json": {
       "model_id": "f61f096728124894a00673c1f706da66",
       "version_major": 2,
       "version_minor": 0
      },
      "text/plain": [
       "Downloading images for Clockwerk:   0%|          | 0/50 [00:00<?, ?it/s]"
      ]
     },
     "metadata": {},
     "output_type": "display_data"
    },
    {
     "data": {
      "application/vnd.jupyter.widget-view+json": {
       "model_id": "7b072c3e8c9b42ef823fdebde7d11b11",
       "version_major": 2,
       "version_minor": 0
      },
      "text/plain": [
       "Downloading images for Crystal Maiden:   0%|          | 0/50 [00:00<?, ?it/s]"
      ]
     },
     "metadata": {},
     "output_type": "display_data"
    },
    {
     "data": {
      "application/vnd.jupyter.widget-view+json": {
       "model_id": "33e71311ac6c45baa7ed06df80ae1e62",
       "version_major": 2,
       "version_minor": 0
      },
      "text/plain": [
       "Downloading images for Dark Seer:   0%|          | 0/50 [00:00<?, ?it/s]"
      ]
     },
     "metadata": {},
     "output_type": "display_data"
    },
    {
     "data": {
      "application/vnd.jupyter.widget-view+json": {
       "model_id": "1aad7580ffa24c7f8f293a55d3dacd43",
       "version_major": 2,
       "version_minor": 0
      },
      "text/plain": [
       "Downloading images for Dark Willow:   0%|          | 0/50 [00:00<?, ?it/s]"
      ]
     },
     "metadata": {},
     "output_type": "display_data"
    },
    {
     "data": {
      "application/vnd.jupyter.widget-view+json": {
       "model_id": "7df64fce0acb4880b52a892da9502297",
       "version_major": 2,
       "version_minor": 0
      },
      "text/plain": [
       "Downloading images for Dawnbreaker:   0%|          | 0/50 [00:00<?, ?it/s]"
      ]
     },
     "metadata": {},
     "output_type": "display_data"
    },
    {
     "data": {
      "application/vnd.jupyter.widget-view+json": {
       "model_id": "e0731c66a60b41ce939fd68834dd3e74",
       "version_major": 2,
       "version_minor": 0
      },
      "text/plain": [
       "Downloading images for Dazzle:   0%|          | 0/50 [00:00<?, ?it/s]"
      ]
     },
     "metadata": {},
     "output_type": "display_data"
    },
    {
     "data": {
      "application/vnd.jupyter.widget-view+json": {
       "model_id": "f01b4296e1ba48d089ac739d1149ebe5",
       "version_major": 2,
       "version_minor": 0
      },
      "text/plain": [
       "Downloading images for Death Prophet:   0%|          | 0/50 [00:00<?, ?it/s]"
      ]
     },
     "metadata": {},
     "output_type": "display_data"
    },
    {
     "data": {
      "application/vnd.jupyter.widget-view+json": {
       "model_id": "4d02ec68c01644a98f540af0c1dc3859",
       "version_major": 2,
       "version_minor": 0
      },
      "text/plain": [
       "Downloading images for Disruptor:   0%|          | 0/50 [00:00<?, ?it/s]"
      ]
     },
     "metadata": {},
     "output_type": "display_data"
    },
    {
     "data": {
      "application/vnd.jupyter.widget-view+json": {
       "model_id": "0c46bfedc9404b1183d7f4504d0a1c0d",
       "version_major": 2,
       "version_minor": 0
      },
      "text/plain": [
       "Downloading images for Doom:   0%|          | 0/50 [00:00<?, ?it/s]"
      ]
     },
     "metadata": {},
     "output_type": "display_data"
    },
    {
     "data": {
      "application/vnd.jupyter.widget-view+json": {
       "model_id": "7942dec92b5b4ca0baf50c3b107a0c8e",
       "version_major": 2,
       "version_minor": 0
      },
      "text/plain": [
       "Downloading images for Dragon Knight:   0%|          | 0/50 [00:00<?, ?it/s]"
      ]
     },
     "metadata": {},
     "output_type": "display_data"
    },
    {
     "data": {
      "application/vnd.jupyter.widget-view+json": {
       "model_id": "7d207b9235154ae9b8b2ab5487a9ba7a",
       "version_major": 2,
       "version_minor": 0
      },
      "text/plain": [
       "Downloading images for Drow Ranger:   0%|          | 0/50 [00:00<?, ?it/s]"
      ]
     },
     "metadata": {},
     "output_type": "display_data"
    },
    {
     "data": {
      "application/vnd.jupyter.widget-view+json": {
       "model_id": "1742fcc164d342e98e0a627c318af95f",
       "version_major": 2,
       "version_minor": 0
      },
      "text/plain": [
       "Downloading images for Earth Spirit:   0%|          | 0/50 [00:00<?, ?it/s]"
      ]
     },
     "metadata": {},
     "output_type": "display_data"
    },
    {
     "data": {
      "application/vnd.jupyter.widget-view+json": {
       "model_id": "17b9880638a24a81a0808b7d911e4ab5",
       "version_major": 2,
       "version_minor": 0
      },
      "text/plain": [
       "Downloading images for Earthshaker:   0%|          | 0/50 [00:00<?, ?it/s]"
      ]
     },
     "metadata": {},
     "output_type": "display_data"
    },
    {
     "data": {
      "application/vnd.jupyter.widget-view+json": {
       "model_id": "31341c64de9d437aa2d0878daf4caca3",
       "version_major": 2,
       "version_minor": 0
      },
      "text/plain": [
       "Downloading images for Elder Titan:   0%|          | 0/50 [00:00<?, ?it/s]"
      ]
     },
     "metadata": {},
     "output_type": "display_data"
    },
    {
     "data": {
      "application/vnd.jupyter.widget-view+json": {
       "model_id": "9ecbd4ed404448e4b6f77083d4d096b0",
       "version_major": 2,
       "version_minor": 0
      },
      "text/plain": [
       "Downloading images for Ember Spirit:   0%|          | 0/50 [00:00<?, ?it/s]"
      ]
     },
     "metadata": {},
     "output_type": "display_data"
    },
    {
     "data": {
      "application/vnd.jupyter.widget-view+json": {
       "model_id": "fc269f0ed1414aeca1d89546fe4c5fd7",
       "version_major": 2,
       "version_minor": 0
      },
      "text/plain": [
       "Downloading images for Enchantress:   0%|          | 0/50 [00:00<?, ?it/s]"
      ]
     },
     "metadata": {},
     "output_type": "display_data"
    },
    {
     "data": {
      "application/vnd.jupyter.widget-view+json": {
       "model_id": "aaba0c05aab643cca8b6d731208a8751",
       "version_major": 2,
       "version_minor": 0
      },
      "text/plain": [
       "Downloading images for Enigma:   0%|          | 0/50 [00:00<?, ?it/s]"
      ]
     },
     "metadata": {},
     "output_type": "display_data"
    },
    {
     "data": {
      "application/vnd.jupyter.widget-view+json": {
       "model_id": "1a197409ede0449b8511d9f740ac2de1",
       "version_major": 2,
       "version_minor": 0
      },
      "text/plain": [
       "Downloading images for Faceless Void:   0%|          | 0/50 [00:00<?, ?it/s]"
      ]
     },
     "metadata": {},
     "output_type": "display_data"
    },
    {
     "data": {
      "application/vnd.jupyter.widget-view+json": {
       "model_id": "790e2b10d2874410b8c021e66623a604",
       "version_major": 2,
       "version_minor": 0
      },
      "text/plain": [
       "Downloading images for Grimstroke:   0%|          | 0/50 [00:00<?, ?it/s]"
      ]
     },
     "metadata": {},
     "output_type": "display_data"
    },
    {
     "data": {
      "application/vnd.jupyter.widget-view+json": {
       "model_id": "bfb1c6182b384fa6b41bf8d50eb621fe",
       "version_major": 2,
       "version_minor": 0
      },
      "text/plain": [
       "Downloading images for Gyrocopter:   0%|          | 0/50 [00:00<?, ?it/s]"
      ]
     },
     "metadata": {},
     "output_type": "display_data"
    },
    {
     "data": {
      "application/vnd.jupyter.widget-view+json": {
       "model_id": "8522a8cad7db4324bcde58747c6baaa9",
       "version_major": 2,
       "version_minor": 0
      },
      "text/plain": [
       "Downloading images for Hoodwink:   0%|          | 0/50 [00:00<?, ?it/s]"
      ]
     },
     "metadata": {},
     "output_type": "display_data"
    },
    {
     "data": {
      "application/vnd.jupyter.widget-view+json": {
       "model_id": "c702694fb79d4fc5a0e57da6f4e86ab7",
       "version_major": 2,
       "version_minor": 0
      },
      "text/plain": [
       "Downloading images for Huskar:   0%|          | 0/50 [00:00<?, ?it/s]"
      ]
     },
     "metadata": {},
     "output_type": "display_data"
    },
    {
     "data": {
      "application/vnd.jupyter.widget-view+json": {
       "model_id": "ad7d00749b99418b991074e3c52ae987",
       "version_major": 2,
       "version_minor": 0
      },
      "text/plain": [
       "Downloading images for Invoker:   0%|          | 0/50 [00:00<?, ?it/s]"
      ]
     },
     "metadata": {},
     "output_type": "display_data"
    },
    {
     "data": {
      "application/vnd.jupyter.widget-view+json": {
       "model_id": "fa830ce3c2664216b3ad62bd2490b9a2",
       "version_major": 2,
       "version_minor": 0
      },
      "text/plain": [
       "Downloading images for Io:   0%|          | 0/50 [00:00<?, ?it/s]"
      ]
     },
     "metadata": {},
     "output_type": "display_data"
    },
    {
     "data": {
      "application/vnd.jupyter.widget-view+json": {
       "model_id": "2925296ad0dc43209767b2e89a0e44e3",
       "version_major": 2,
       "version_minor": 0
      },
      "text/plain": [
       "Downloading images for Jakiro:   0%|          | 0/50 [00:00<?, ?it/s]"
      ]
     },
     "metadata": {},
     "output_type": "display_data"
    },
    {
     "data": {
      "application/vnd.jupyter.widget-view+json": {
       "model_id": "2f081a3f562641499ad608d60c76ecc6",
       "version_major": 2,
       "version_minor": 0
      },
      "text/plain": [
       "Downloading images for Juggernaut:   0%|          | 0/50 [00:00<?, ?it/s]"
      ]
     },
     "metadata": {},
     "output_type": "display_data"
    },
    {
     "data": {
      "application/vnd.jupyter.widget-view+json": {
       "model_id": "cd8f1547cd1c4525840df6935a4e3f7d",
       "version_major": 2,
       "version_minor": 0
      },
      "text/plain": [
       "Downloading images for Keeper of the Light:   0%|          | 0/50 [00:00<?, ?it/s]"
      ]
     },
     "metadata": {},
     "output_type": "display_data"
    },
    {
     "data": {
      "application/vnd.jupyter.widget-view+json": {
       "model_id": "50ea2028cb1c40f2a2e7e4a26c23e3e2",
       "version_major": 2,
       "version_minor": 0
      },
      "text/plain": [
       "Downloading images for Kunkka:   0%|          | 0/50 [00:00<?, ?it/s]"
      ]
     },
     "metadata": {},
     "output_type": "display_data"
    },
    {
     "data": {
      "application/vnd.jupyter.widget-view+json": {
       "model_id": "8277c7b96e1e404b8b7f9f1266ab50c2",
       "version_major": 2,
       "version_minor": 0
      },
      "text/plain": [
       "Downloading images for Legion Commander:   0%|          | 0/50 [00:00<?, ?it/s]"
      ]
     },
     "metadata": {},
     "output_type": "display_data"
    },
    {
     "data": {
      "application/vnd.jupyter.widget-view+json": {
       "model_id": "8f1bde3c830a47d9876b2d804ab9c840",
       "version_major": 2,
       "version_minor": 0
      },
      "text/plain": [
       "Downloading images for Leshrac:   0%|          | 0/50 [00:00<?, ?it/s]"
      ]
     },
     "metadata": {},
     "output_type": "display_data"
    },
    {
     "data": {
      "application/vnd.jupyter.widget-view+json": {
       "model_id": "fdeb5898be194de3a940f84602bd51db",
       "version_major": 2,
       "version_minor": 0
      },
      "text/plain": [
       "Downloading images for Lich:   0%|          | 0/50 [00:00<?, ?it/s]"
      ]
     },
     "metadata": {},
     "output_type": "display_data"
    },
    {
     "data": {
      "application/vnd.jupyter.widget-view+json": {
       "model_id": "e304ddcb28ca4b2e8000e6b6d6789dd0",
       "version_major": 2,
       "version_minor": 0
      },
      "text/plain": [
       "Downloading images for Lifestealer:   0%|          | 0/50 [00:00<?, ?it/s]"
      ]
     },
     "metadata": {},
     "output_type": "display_data"
    },
    {
     "data": {
      "application/vnd.jupyter.widget-view+json": {
       "model_id": "086a906591774d54a3ec497ccf75c41c",
       "version_major": 2,
       "version_minor": 0
      },
      "text/plain": [
       "Downloading images for Lina:   0%|          | 0/50 [00:00<?, ?it/s]"
      ]
     },
     "metadata": {},
     "output_type": "display_data"
    },
    {
     "data": {
      "application/vnd.jupyter.widget-view+json": {
       "model_id": "813c5432df4f48afbf6eb70936bad4df",
       "version_major": 2,
       "version_minor": 0
      },
      "text/plain": [
       "Downloading images for Lion:   0%|          | 0/50 [00:00<?, ?it/s]"
      ]
     },
     "metadata": {},
     "output_type": "display_data"
    },
    {
     "data": {
      "application/vnd.jupyter.widget-view+json": {
       "model_id": "14d77e2ab7274804a7a5093987abde79",
       "version_major": 2,
       "version_minor": 0
      },
      "text/plain": [
       "Downloading images for Lone Druid:   0%|          | 0/50 [00:00<?, ?it/s]"
      ]
     },
     "metadata": {},
     "output_type": "display_data"
    },
    {
     "data": {
      "application/vnd.jupyter.widget-view+json": {
       "model_id": "37438c4466c74f85825eef899c902e7c",
       "version_major": 2,
       "version_minor": 0
      },
      "text/plain": [
       "Downloading images for Luna:   0%|          | 0/50 [00:00<?, ?it/s]"
      ]
     },
     "metadata": {},
     "output_type": "display_data"
    },
    {
     "data": {
      "application/vnd.jupyter.widget-view+json": {
       "model_id": "6b83cba32b914817bebd489e416b80c3",
       "version_major": 2,
       "version_minor": 0
      },
      "text/plain": [
       "Downloading images for Lycan:   0%|          | 0/50 [00:00<?, ?it/s]"
      ]
     },
     "metadata": {},
     "output_type": "display_data"
    },
    {
     "data": {
      "application/vnd.jupyter.widget-view+json": {
       "model_id": "99ec008b59174f2a80a085ee30b6011b",
       "version_major": 2,
       "version_minor": 0
      },
      "text/plain": [
       "Downloading images for Magnus:   0%|          | 0/50 [00:00<?, ?it/s]"
      ]
     },
     "metadata": {},
     "output_type": "display_data"
    },
    {
     "data": {
      "application/vnd.jupyter.widget-view+json": {
       "model_id": "4b5bb746aaf441d6ac0440888986e447",
       "version_major": 2,
       "version_minor": 0
      },
      "text/plain": [
       "Downloading images for Marci:   0%|          | 0/50 [00:00<?, ?it/s]"
      ]
     },
     "metadata": {},
     "output_type": "display_data"
    },
    {
     "data": {
      "application/vnd.jupyter.widget-view+json": {
       "model_id": "2098ff2289444d7595cb778f4e2e4338",
       "version_major": 2,
       "version_minor": 0
      },
      "text/plain": [
       "Downloading images for Mars:   0%|          | 0/50 [00:00<?, ?it/s]"
      ]
     },
     "metadata": {},
     "output_type": "display_data"
    },
    {
     "data": {
      "application/vnd.jupyter.widget-view+json": {
       "model_id": "b13b46dd87754591afc8a64cfdd48fca",
       "version_major": 2,
       "version_minor": 0
      },
      "text/plain": [
       "Downloading images for Medusa:   0%|          | 0/50 [00:00<?, ?it/s]"
      ]
     },
     "metadata": {},
     "output_type": "display_data"
    },
    {
     "data": {
      "application/vnd.jupyter.widget-view+json": {
       "model_id": "bfa934a321b243d1aaa93fefe516db19",
       "version_major": 2,
       "version_minor": 0
      },
      "text/plain": [
       "Downloading images for Meepo:   0%|          | 0/50 [00:00<?, ?it/s]"
      ]
     },
     "metadata": {},
     "output_type": "display_data"
    },
    {
     "data": {
      "application/vnd.jupyter.widget-view+json": {
       "model_id": "d5902294462c4b85922ad78478fb3ffa",
       "version_major": 2,
       "version_minor": 0
      },
      "text/plain": [
       "Downloading images for Mirana:   0%|          | 0/50 [00:00<?, ?it/s]"
      ]
     },
     "metadata": {},
     "output_type": "display_data"
    },
    {
     "data": {
      "application/vnd.jupyter.widget-view+json": {
       "model_id": "4d7eafca452f4ce7adf1c38d2d7e1f2e",
       "version_major": 2,
       "version_minor": 0
      },
      "text/plain": [
       "Downloading images for Monkey King:   0%|          | 0/50 [00:00<?, ?it/s]"
      ]
     },
     "metadata": {},
     "output_type": "display_data"
    },
    {
     "data": {
      "application/vnd.jupyter.widget-view+json": {
       "model_id": "d3f75a5c413f4d88901653eac2657f58",
       "version_major": 2,
       "version_minor": 0
      },
      "text/plain": [
       "Downloading images for Morphling:   0%|          | 0/50 [00:00<?, ?it/s]"
      ]
     },
     "metadata": {},
     "output_type": "display_data"
    },
    {
     "data": {
      "application/vnd.jupyter.widget-view+json": {
       "model_id": "3290c84673244c8eb0f685e1f9c11238",
       "version_major": 2,
       "version_minor": 0
      },
      "text/plain": [
       "Downloading images for Muerta:   0%|          | 0/50 [00:00<?, ?it/s]"
      ]
     },
     "metadata": {},
     "output_type": "display_data"
    },
    {
     "data": {
      "application/vnd.jupyter.widget-view+json": {
       "model_id": "0986ca7ff4df4eae9f97cca8b035202a",
       "version_major": 2,
       "version_minor": 0
      },
      "text/plain": [
       "Downloading images for Naga Siren:   0%|          | 0/50 [00:00<?, ?it/s]"
      ]
     },
     "metadata": {},
     "output_type": "display_data"
    },
    {
     "data": {
      "application/vnd.jupyter.widget-view+json": {
       "model_id": "24966c59eb724810b5c37a07290b630c",
       "version_major": 2,
       "version_minor": 0
      },
      "text/plain": [
       "Downloading images for Nature's Prophet:   0%|          | 0/50 [00:00<?, ?it/s]"
      ]
     },
     "metadata": {},
     "output_type": "display_data"
    },
    {
     "data": {
      "application/vnd.jupyter.widget-view+json": {
       "model_id": "dc830f4537184f9a9175420ef43cece7",
       "version_major": 2,
       "version_minor": 0
      },
      "text/plain": [
       "Downloading images for Necrophos:   0%|          | 0/50 [00:00<?, ?it/s]"
      ]
     },
     "metadata": {},
     "output_type": "display_data"
    },
    {
     "data": {
      "application/vnd.jupyter.widget-view+json": {
       "model_id": "9e4179616dc64fe58db0f98505cd6f6e",
       "version_major": 2,
       "version_minor": 0
      },
      "text/plain": [
       "Downloading images for Night Stalker:   0%|          | 0/50 [00:00<?, ?it/s]"
      ]
     },
     "metadata": {},
     "output_type": "display_data"
    },
    {
     "data": {
      "application/vnd.jupyter.widget-view+json": {
       "model_id": "a0fecec0f1984308943824d2a8d91be6",
       "version_major": 2,
       "version_minor": 0
      },
      "text/plain": [
       "Downloading images for Nyx Assassin:   0%|          | 0/50 [00:00<?, ?it/s]"
      ]
     },
     "metadata": {},
     "output_type": "display_data"
    },
    {
     "data": {
      "application/vnd.jupyter.widget-view+json": {
       "model_id": "f9ff82367e7545368b0aedcc1fad7b28",
       "version_major": 2,
       "version_minor": 0
      },
      "text/plain": [
       "Downloading images for Ogre Magi:   0%|          | 0/50 [00:00<?, ?it/s]"
      ]
     },
     "metadata": {},
     "output_type": "display_data"
    },
    {
     "data": {
      "application/vnd.jupyter.widget-view+json": {
       "model_id": "c23b0ba858bb45daad7b84dd36b47f55",
       "version_major": 2,
       "version_minor": 0
      },
      "text/plain": [
       "Downloading images for Omniknight:   0%|          | 0/50 [00:00<?, ?it/s]"
      ]
     },
     "metadata": {},
     "output_type": "display_data"
    },
    {
     "data": {
      "application/vnd.jupyter.widget-view+json": {
       "model_id": "14260ad605b24c0cadcc6d2318e29e93",
       "version_major": 2,
       "version_minor": 0
      },
      "text/plain": [
       "Downloading images for Oracle:   0%|          | 0/50 [00:00<?, ?it/s]"
      ]
     },
     "metadata": {},
     "output_type": "display_data"
    },
    {
     "data": {
      "application/vnd.jupyter.widget-view+json": {
       "model_id": "1a35693f70a7465ea18ea922c67b000a",
       "version_major": 2,
       "version_minor": 0
      },
      "text/plain": [
       "Downloading images for Outworld Destroyer:   0%|          | 0/50 [00:00<?, ?it/s]"
      ]
     },
     "metadata": {},
     "output_type": "display_data"
    },
    {
     "data": {
      "application/vnd.jupyter.widget-view+json": {
       "model_id": "14e24d18c35b42e5b57973a69cc15174",
       "version_major": 2,
       "version_minor": 0
      },
      "text/plain": [
       "Downloading images for Pangolier:   0%|          | 0/50 [00:00<?, ?it/s]"
      ]
     },
     "metadata": {},
     "output_type": "display_data"
    },
    {
     "data": {
      "application/vnd.jupyter.widget-view+json": {
       "model_id": "f0334b22af3448c0ad35877f7aba3d94",
       "version_major": 2,
       "version_minor": 0
      },
      "text/plain": [
       "Downloading images for Phantom Assassin:   0%|          | 0/50 [00:00<?, ?it/s]"
      ]
     },
     "metadata": {},
     "output_type": "display_data"
    },
    {
     "data": {
      "application/vnd.jupyter.widget-view+json": {
       "model_id": "b7c839d6391d4ee18f28de1ec26677ad",
       "version_major": 2,
       "version_minor": 0
      },
      "text/plain": [
       "Downloading images for Phantom Lancer:   0%|          | 0/50 [00:00<?, ?it/s]"
      ]
     },
     "metadata": {},
     "output_type": "display_data"
    },
    {
     "data": {
      "application/vnd.jupyter.widget-view+json": {
       "model_id": "123c07aa6857450292d3ca811e42326e",
       "version_major": 2,
       "version_minor": 0
      },
      "text/plain": [
       "Downloading images for Phoenix:   0%|          | 0/50 [00:00<?, ?it/s]"
      ]
     },
     "metadata": {},
     "output_type": "display_data"
    },
    {
     "data": {
      "application/vnd.jupyter.widget-view+json": {
       "model_id": "1b5321aaa46f40a09127d84e5bf37c37",
       "version_major": 2,
       "version_minor": 0
      },
      "text/plain": [
       "Downloading images for Primal Beast:   0%|          | 0/50 [00:00<?, ?it/s]"
      ]
     },
     "metadata": {},
     "output_type": "display_data"
    },
    {
     "data": {
      "application/vnd.jupyter.widget-view+json": {
       "model_id": "78bc2c9f13154ae4b7e040eaa9d146db",
       "version_major": 2,
       "version_minor": 0
      },
      "text/plain": [
       "Downloading images for Puck:   0%|          | 0/50 [00:00<?, ?it/s]"
      ]
     },
     "metadata": {},
     "output_type": "display_data"
    },
    {
     "data": {
      "application/vnd.jupyter.widget-view+json": {
       "model_id": "d3b57d7ccb3744e78f55a5c10ec7959a",
       "version_major": 2,
       "version_minor": 0
      },
      "text/plain": [
       "Downloading images for Pudge:   0%|          | 0/50 [00:00<?, ?it/s]"
      ]
     },
     "metadata": {},
     "output_type": "display_data"
    },
    {
     "data": {
      "application/vnd.jupyter.widget-view+json": {
       "model_id": "5ede1c6273fe4c67b76751265bec4512",
       "version_major": 2,
       "version_minor": 0
      },
      "text/plain": [
       "Downloading images for Pugna:   0%|          | 0/50 [00:00<?, ?it/s]"
      ]
     },
     "metadata": {},
     "output_type": "display_data"
    },
    {
     "data": {
      "application/vnd.jupyter.widget-view+json": {
       "model_id": "6c236fbdadf74f76b4c27589f220b1b9",
       "version_major": 2,
       "version_minor": 0
      },
      "text/plain": [
       "Downloading images for Queen of Pain:   0%|          | 0/50 [00:00<?, ?it/s]"
      ]
     },
     "metadata": {},
     "output_type": "display_data"
    },
    {
     "data": {
      "application/vnd.jupyter.widget-view+json": {
       "model_id": "a3bccc96a9914ae9aa45f276517f6ba6",
       "version_major": 2,
       "version_minor": 0
      },
      "text/plain": [
       "Downloading images for Razor:   0%|          | 0/50 [00:00<?, ?it/s]"
      ]
     },
     "metadata": {},
     "output_type": "display_data"
    },
    {
     "data": {
      "application/vnd.jupyter.widget-view+json": {
       "model_id": "cffc30ca5c4a47759e79b0665b843edf",
       "version_major": 2,
       "version_minor": 0
      },
      "text/plain": [
       "Downloading images for Riki:   0%|          | 0/50 [00:00<?, ?it/s]"
      ]
     },
     "metadata": {},
     "output_type": "display_data"
    },
    {
     "data": {
      "application/vnd.jupyter.widget-view+json": {
       "model_id": "fdbcd7356b434bd7b46eb3ea57321020",
       "version_major": 2,
       "version_minor": 0
      },
      "text/plain": [
       "Downloading images for Rubick:   0%|          | 0/50 [00:00<?, ?it/s]"
      ]
     },
     "metadata": {},
     "output_type": "display_data"
    },
    {
     "data": {
      "application/vnd.jupyter.widget-view+json": {
       "model_id": "547f1217450e4dc6b0dd5d5b83bdfb2a",
       "version_major": 2,
       "version_minor": 0
      },
      "text/plain": [
       "Downloading images for Sand King:   0%|          | 0/50 [00:00<?, ?it/s]"
      ]
     },
     "metadata": {},
     "output_type": "display_data"
    },
    {
     "data": {
      "application/vnd.jupyter.widget-view+json": {
       "model_id": "e8f1e8520bfa4a7e8c40037f60f420f2",
       "version_major": 2,
       "version_minor": 0
      },
      "text/plain": [
       "Downloading images for Shadow Demon:   0%|          | 0/50 [00:00<?, ?it/s]"
      ]
     },
     "metadata": {},
     "output_type": "display_data"
    },
    {
     "data": {
      "application/vnd.jupyter.widget-view+json": {
       "model_id": "c627d2ebf4944791a4d5787cbd118e3c",
       "version_major": 2,
       "version_minor": 0
      },
      "text/plain": [
       "Downloading images for Shadow Fiend:   0%|          | 0/50 [00:00<?, ?it/s]"
      ]
     },
     "metadata": {},
     "output_type": "display_data"
    },
    {
     "data": {
      "application/vnd.jupyter.widget-view+json": {
       "model_id": "d8971626148d4d5dbb77107e8506f925",
       "version_major": 2,
       "version_minor": 0
      },
      "text/plain": [
       "Downloading images for Shadow Shaman:   0%|          | 0/50 [00:00<?, ?it/s]"
      ]
     },
     "metadata": {},
     "output_type": "display_data"
    },
    {
     "data": {
      "application/vnd.jupyter.widget-view+json": {
       "model_id": "f128ee96f9bd49b48612d925a8f27196",
       "version_major": 2,
       "version_minor": 0
      },
      "text/plain": [
       "Downloading images for Silencer:   0%|          | 0/50 [00:00<?, ?it/s]"
      ]
     },
     "metadata": {},
     "output_type": "display_data"
    },
    {
     "data": {
      "application/vnd.jupyter.widget-view+json": {
       "model_id": "956bce2bc9204a72ac9743603b0eef81",
       "version_major": 2,
       "version_minor": 0
      },
      "text/plain": [
       "Downloading images for Skywrath Mage:   0%|          | 0/50 [00:00<?, ?it/s]"
      ]
     },
     "metadata": {},
     "output_type": "display_data"
    },
    {
     "data": {
      "application/vnd.jupyter.widget-view+json": {
       "model_id": "9dc6bccf5c9b4de6b55879949da230d7",
       "version_major": 2,
       "version_minor": 0
      },
      "text/plain": [
       "Downloading images for Slardar:   0%|          | 0/50 [00:00<?, ?it/s]"
      ]
     },
     "metadata": {},
     "output_type": "display_data"
    },
    {
     "data": {
      "application/vnd.jupyter.widget-view+json": {
       "model_id": "7758b82f1a3e4a779ec3181af68a649f",
       "version_major": 2,
       "version_minor": 0
      },
      "text/plain": [
       "Downloading images for Slark:   0%|          | 0/50 [00:00<?, ?it/s]"
      ]
     },
     "metadata": {},
     "output_type": "display_data"
    },
    {
     "data": {
      "application/vnd.jupyter.widget-view+json": {
       "model_id": "abb66380ddfc4f93981fa2689d525880",
       "version_major": 2,
       "version_minor": 0
      },
      "text/plain": [
       "Downloading images for Snapfire:   0%|          | 0/50 [00:00<?, ?it/s]"
      ]
     },
     "metadata": {},
     "output_type": "display_data"
    },
    {
     "data": {
      "application/vnd.jupyter.widget-view+json": {
       "model_id": "054787c34d664766b361b16464d1f5d0",
       "version_major": 2,
       "version_minor": 0
      },
      "text/plain": [
       "Downloading images for Sniper:   0%|          | 0/50 [00:00<?, ?it/s]"
      ]
     },
     "metadata": {},
     "output_type": "display_data"
    },
    {
     "data": {
      "application/vnd.jupyter.widget-view+json": {
       "model_id": "8f466065f0c04c76ab4e7029b72cb816",
       "version_major": 2,
       "version_minor": 0
      },
      "text/plain": [
       "Downloading images for Spectre:   0%|          | 0/50 [00:00<?, ?it/s]"
      ]
     },
     "metadata": {},
     "output_type": "display_data"
    },
    {
     "data": {
      "application/vnd.jupyter.widget-view+json": {
       "model_id": "128b24759d444dee9dd1e8bbcb491914",
       "version_major": 2,
       "version_minor": 0
      },
      "text/plain": [
       "Downloading images for Spirit Breaker:   0%|          | 0/50 [00:00<?, ?it/s]"
      ]
     },
     "metadata": {},
     "output_type": "display_data"
    },
    {
     "data": {
      "application/vnd.jupyter.widget-view+json": {
       "model_id": "47c10a74bff94031bdeb15c0d2cd04e5",
       "version_major": 2,
       "version_minor": 0
      },
      "text/plain": [
       "Downloading images for Storm Spirit:   0%|          | 0/50 [00:00<?, ?it/s]"
      ]
     },
     "metadata": {},
     "output_type": "display_data"
    },
    {
     "data": {
      "application/vnd.jupyter.widget-view+json": {
       "model_id": "9833db968b1541bcbe34bc399b96e490",
       "version_major": 2,
       "version_minor": 0
      },
      "text/plain": [
       "Downloading images for Sven:   0%|          | 0/50 [00:00<?, ?it/s]"
      ]
     },
     "metadata": {},
     "output_type": "display_data"
    },
    {
     "data": {
      "application/vnd.jupyter.widget-view+json": {
       "model_id": "55808f015e514b0a95c8f3b37aac213d",
       "version_major": 2,
       "version_minor": 0
      },
      "text/plain": [
       "Downloading images for Techies:   0%|          | 0/50 [00:00<?, ?it/s]"
      ]
     },
     "metadata": {},
     "output_type": "display_data"
    },
    {
     "data": {
      "application/vnd.jupyter.widget-view+json": {
       "model_id": "ee4bbc837ba643928c5456ded3d8fa08",
       "version_major": 2,
       "version_minor": 0
      },
      "text/plain": [
       "Downloading images for Templar Assassin:   0%|          | 0/50 [00:00<?, ?it/s]"
      ]
     },
     "metadata": {},
     "output_type": "display_data"
    },
    {
     "data": {
      "application/vnd.jupyter.widget-view+json": {
       "model_id": "97e97dc69c8b4669af5b333e461b4bbf",
       "version_major": 2,
       "version_minor": 0
      },
      "text/plain": [
       "Downloading images for Terrorblade:   0%|          | 0/50 [00:00<?, ?it/s]"
      ]
     },
     "metadata": {},
     "output_type": "display_data"
    },
    {
     "data": {
      "application/vnd.jupyter.widget-view+json": {
       "model_id": "a1245ad623234a3ea28a35231da30b23",
       "version_major": 2,
       "version_minor": 0
      },
      "text/plain": [
       "Downloading images for Tidehunter:   0%|          | 0/50 [00:00<?, ?it/s]"
      ]
     },
     "metadata": {},
     "output_type": "display_data"
    },
    {
     "data": {
      "application/vnd.jupyter.widget-view+json": {
       "model_id": "24af34bd98914e749c4c9dbed0bcdf20",
       "version_major": 2,
       "version_minor": 0
      },
      "text/plain": [
       "Downloading images for Timbersaw:   0%|          | 0/50 [00:00<?, ?it/s]"
      ]
     },
     "metadata": {},
     "output_type": "display_data"
    },
    {
     "data": {
      "application/vnd.jupyter.widget-view+json": {
       "model_id": "b841e02f9be0424e81f71bd8ca31b044",
       "version_major": 2,
       "version_minor": 0
      },
      "text/plain": [
       "Downloading images for Tinker:   0%|          | 0/50 [00:00<?, ?it/s]"
      ]
     },
     "metadata": {},
     "output_type": "display_data"
    },
    {
     "data": {
      "application/vnd.jupyter.widget-view+json": {
       "model_id": "bd7a80626d8b4d48931efe89b54109c0",
       "version_major": 2,
       "version_minor": 0
      },
      "text/plain": [
       "Downloading images for Tiny:   0%|          | 0/50 [00:00<?, ?it/s]"
      ]
     },
     "metadata": {},
     "output_type": "display_data"
    },
    {
     "data": {
      "application/vnd.jupyter.widget-view+json": {
       "model_id": "07ce2b640fff467594d61e2007cdf14f",
       "version_major": 2,
       "version_minor": 0
      },
      "text/plain": [
       "Downloading images for Treant Protector:   0%|          | 0/50 [00:00<?, ?it/s]"
      ]
     },
     "metadata": {},
     "output_type": "display_data"
    },
    {
     "data": {
      "application/vnd.jupyter.widget-view+json": {
       "model_id": "fe9dbd0453b043eb8dff7ccad59d3999",
       "version_major": 2,
       "version_minor": 0
      },
      "text/plain": [
       "Downloading images for Troll Warlord:   0%|          | 0/50 [00:00<?, ?it/s]"
      ]
     },
     "metadata": {},
     "output_type": "display_data"
    },
    {
     "data": {
      "application/vnd.jupyter.widget-view+json": {
       "model_id": "45f8d02da5e44fd58d7e4ed69baca5b4",
       "version_major": 2,
       "version_minor": 0
      },
      "text/plain": [
       "Downloading images for Tusk:   0%|          | 0/50 [00:00<?, ?it/s]"
      ]
     },
     "metadata": {},
     "output_type": "display_data"
    },
    {
     "data": {
      "application/vnd.jupyter.widget-view+json": {
       "model_id": "45022622dead49e58de766cf71665df6",
       "version_major": 2,
       "version_minor": 0
      },
      "text/plain": [
       "Downloading images for Underlord:   0%|          | 0/50 [00:00<?, ?it/s]"
      ]
     },
     "metadata": {},
     "output_type": "display_data"
    },
    {
     "data": {
      "application/vnd.jupyter.widget-view+json": {
       "model_id": "1f0a2a0c5b644c078674ddf7b29c502c",
       "version_major": 2,
       "version_minor": 0
      },
      "text/plain": [
       "Downloading images for Undying:   0%|          | 0/50 [00:00<?, ?it/s]"
      ]
     },
     "metadata": {},
     "output_type": "display_data"
    },
    {
     "data": {
      "application/vnd.jupyter.widget-view+json": {
       "model_id": "36b58c5311bf4734a31acd27491536d6",
       "version_major": 2,
       "version_minor": 0
      },
      "text/plain": [
       "Downloading images for Ursa:   0%|          | 0/50 [00:00<?, ?it/s]"
      ]
     },
     "metadata": {},
     "output_type": "display_data"
    },
    {
     "data": {
      "application/vnd.jupyter.widget-view+json": {
       "model_id": "b51814413e57465fb585e48982384ad2",
       "version_major": 2,
       "version_minor": 0
      },
      "text/plain": [
       "Downloading images for Vengeful Spirit:   0%|          | 0/50 [00:00<?, ?it/s]"
      ]
     },
     "metadata": {},
     "output_type": "display_data"
    },
    {
     "data": {
      "application/vnd.jupyter.widget-view+json": {
       "model_id": "3ef9c69b860544c58513a050fc860693",
       "version_major": 2,
       "version_minor": 0
      },
      "text/plain": [
       "Downloading images for Venomancer:   0%|          | 0/50 [00:00<?, ?it/s]"
      ]
     },
     "metadata": {},
     "output_type": "display_data"
    },
    {
     "data": {
      "application/vnd.jupyter.widget-view+json": {
       "model_id": "65794deb05244c61a62dc41831c9128a",
       "version_major": 2,
       "version_minor": 0
      },
      "text/plain": [
       "Downloading images for Viper:   0%|          | 0/50 [00:00<?, ?it/s]"
      ]
     },
     "metadata": {},
     "output_type": "display_data"
    },
    {
     "data": {
      "application/vnd.jupyter.widget-view+json": {
       "model_id": "2429243d1a104b27ac5d9e9f645ca8dd",
       "version_major": 2,
       "version_minor": 0
      },
      "text/plain": [
       "Downloading images for Visage:   0%|          | 0/50 [00:00<?, ?it/s]"
      ]
     },
     "metadata": {},
     "output_type": "display_data"
    },
    {
     "data": {
      "application/vnd.jupyter.widget-view+json": {
       "model_id": "7c6da5a509aa4f00807d52e9b567a0b0",
       "version_major": 2,
       "version_minor": 0
      },
      "text/plain": [
       "Downloading images for Void Spirit:   0%|          | 0/50 [00:00<?, ?it/s]"
      ]
     },
     "metadata": {},
     "output_type": "display_data"
    },
    {
     "data": {
      "application/vnd.jupyter.widget-view+json": {
       "model_id": "9bd670cca8fd4b7a915e1e697b42487c",
       "version_major": 2,
       "version_minor": 0
      },
      "text/plain": [
       "Downloading images for Warlock:   0%|          | 0/50 [00:00<?, ?it/s]"
      ]
     },
     "metadata": {},
     "output_type": "display_data"
    },
    {
     "data": {
      "application/vnd.jupyter.widget-view+json": {
       "model_id": "3db5455f43c14c5084c8908e2347d902",
       "version_major": 2,
       "version_minor": 0
      },
      "text/plain": [
       "Downloading images for Weaver:   0%|          | 0/50 [00:00<?, ?it/s]"
      ]
     },
     "metadata": {},
     "output_type": "display_data"
    },
    {
     "data": {
      "application/vnd.jupyter.widget-view+json": {
       "model_id": "d20b0aa78d0e44b89876d87f6b6cf6d7",
       "version_major": 2,
       "version_minor": 0
      },
      "text/plain": [
       "Downloading images for Windranger:   0%|          | 0/50 [00:00<?, ?it/s]"
      ]
     },
     "metadata": {},
     "output_type": "display_data"
    },
    {
     "data": {
      "application/vnd.jupyter.widget-view+json": {
       "model_id": "cc41824f34b3406a9751fe9556d0972c",
       "version_major": 2,
       "version_minor": 0
      },
      "text/plain": [
       "Downloading images for Winter Wyvern:   0%|          | 0/50 [00:00<?, ?it/s]"
      ]
     },
     "metadata": {},
     "output_type": "display_data"
    },
    {
     "data": {
      "application/vnd.jupyter.widget-view+json": {
       "model_id": "c64e59e7fa6d4f1b981069fd6b7d5565",
       "version_major": 2,
       "version_minor": 0
      },
      "text/plain": [
       "Downloading images for Witch Doctor:   0%|          | 0/50 [00:00<?, ?it/s]"
      ]
     },
     "metadata": {},
     "output_type": "display_data"
    },
    {
     "data": {
      "application/vnd.jupyter.widget-view+json": {
       "model_id": "f3e272025a0b46ac8a8ee7e9733fd7ef",
       "version_major": 2,
       "version_minor": 0
      },
      "text/plain": [
       "Downloading images for Wraith King:   0%|          | 0/50 [00:00<?, ?it/s]"
      ]
     },
     "metadata": {},
     "output_type": "display_data"
    },
    {
     "data": {
      "application/vnd.jupyter.widget-view+json": {
       "model_id": "eb272bc07370443f8b91bc87727d00d0",
       "version_major": 2,
       "version_minor": 0
      },
      "text/plain": [
       "Downloading images for Zeus:   0%|          | 0/50 [00:00<?, ?it/s]"
      ]
     },
     "metadata": {},
     "output_type": "display_data"
    },
    {
     "data": {
      "application/vnd.jupyter.widget-view+json": {
       "model_id": "9e4e8f5aa4194a0fb86a432c6043d54e",
       "version_major": 2,
       "version_minor": 0
      },
      "text/plain": [
       "Downloading images for Ash:   0%|          | 0/50 [00:00<?, ?it/s]"
      ]
     },
     "metadata": {},
     "output_type": "display_data"
    },
    {
     "data": {
      "application/vnd.jupyter.widget-view+json": {
       "model_id": "0b5956b836ca48b7bf685773f3fa6cef",
       "version_major": 2,
       "version_minor": 0
      },
      "text/plain": [
       "Downloading images for Bangalore:   0%|          | 0/50 [00:00<?, ?it/s]"
      ]
     },
     "metadata": {},
     "output_type": "display_data"
    },
    {
     "data": {
      "application/vnd.jupyter.widget-view+json": {
       "model_id": "76698933b6da4b039d8cc100bb33050e",
       "version_major": 2,
       "version_minor": 0
      },
      "text/plain": [
       "Downloading images for Fuse:   0%|          | 0/50 [00:00<?, ?it/s]"
      ]
     },
     "metadata": {},
     "output_type": "display_data"
    },
    {
     "data": {
      "application/vnd.jupyter.widget-view+json": {
       "model_id": "5e519fe75a1b4c97a8c0ab10b5a11d5e",
       "version_major": 2,
       "version_minor": 0
      },
      "text/plain": [
       "Downloading images for Horizon:   0%|          | 0/50 [00:00<?, ?it/s]"
      ]
     },
     "metadata": {},
     "output_type": "display_data"
    },
    {
     "data": {
      "application/vnd.jupyter.widget-view+json": {
       "model_id": "11b0ca1ff3704c4b83879e8bbfc459a9",
       "version_major": 2,
       "version_minor": 0
      },
      "text/plain": [
       "Downloading images for Mirage:   0%|          | 0/50 [00:00<?, ?it/s]"
      ]
     },
     "metadata": {},
     "output_type": "display_data"
    },
    {
     "data": {
      "application/vnd.jupyter.widget-view+json": {
       "model_id": "63e7fada3c544f0da7a6a4cd2e12b9fd",
       "version_major": 2,
       "version_minor": 0
      },
      "text/plain": [
       "Downloading images for Octane:   0%|          | 0/50 [00:00<?, ?it/s]"
      ]
     },
     "metadata": {},
     "output_type": "display_data"
    },
    {
     "data": {
      "application/vnd.jupyter.widget-view+json": {
       "model_id": "c6293831df1c4e22ae64d247e84ebfa9",
       "version_major": 2,
       "version_minor": 0
      },
      "text/plain": [
       "Downloading images for Revenant:   0%|          | 0/50 [00:00<?, ?it/s]"
      ]
     },
     "metadata": {},
     "output_type": "display_data"
    },
    {
     "data": {
      "application/vnd.jupyter.widget-view+json": {
       "model_id": "1219db317e6345e587964da802fd327e",
       "version_major": 2,
       "version_minor": 0
      },
      "text/plain": [
       "Downloading images for Wraith:   0%|          | 0/50 [00:00<?, ?it/s]"
      ]
     },
     "metadata": {},
     "output_type": "display_data"
    },
    {
     "data": {
      "application/vnd.jupyter.widget-view+json": {
       "model_id": "84eef7da2ef64c0092d07d0a999b1cf3",
       "version_major": 2,
       "version_minor": 0
      },
      "text/plain": [
       "Downloading images for Mad Maggie:   0%|          | 0/50 [00:00<?, ?it/s]"
      ]
     },
     "metadata": {},
     "output_type": "display_data"
    },
    {
     "data": {
      "application/vnd.jupyter.widget-view+json": {
       "model_id": "e54abb005ec34bf7ada2a40105660231",
       "version_major": 2,
       "version_minor": 0
      },
      "text/plain": [
       "Downloading images for Caustic:   0%|          | 0/50 [00:00<?, ?it/s]"
      ]
     },
     "metadata": {},
     "output_type": "display_data"
    },
    {
     "data": {
      "application/vnd.jupyter.widget-view+json": {
       "model_id": "1bbac87613be4b71b38f2e6f860a91ad",
       "version_major": 2,
       "version_minor": 0
      },
      "text/plain": [
       "Downloading images for Gibraltar:   0%|          | 0/50 [00:00<?, ?it/s]"
      ]
     },
     "metadata": {},
     "output_type": "display_data"
    },
    {
     "data": {
      "application/vnd.jupyter.widget-view+json": {
       "model_id": "31abdaf3f5b64d629ed4ee1fd2ec30bf",
       "version_major": 2,
       "version_minor": 0
      },
      "text/plain": [
       "Downloading images for Rampart:   0%|          | 0/50 [00:00<?, ?it/s]"
      ]
     },
     "metadata": {},
     "output_type": "display_data"
    },
    {
     "data": {
      "application/vnd.jupyter.widget-view+json": {
       "model_id": "ff8b36990d8e445ebc6cd7f29dd3e0cd",
       "version_major": 2,
       "version_minor": 0
      },
      "text/plain": [
       "Downloading images for Wattson:   0%|          | 0/50 [00:00<?, ?it/s]"
      ]
     },
     "metadata": {},
     "output_type": "display_data"
    },
    {
     "data": {
      "application/vnd.jupyter.widget-view+json": {
       "model_id": "ebd5e148b1e54c89a15db150eab2a0d6",
       "version_major": 2,
       "version_minor": 0
      },
      "text/plain": [
       "Downloading images for Catalyst:   0%|          | 0/50 [00:00<?, ?it/s]"
      ]
     },
     "metadata": {},
     "output_type": "display_data"
    },
    {
     "data": {
      "application/vnd.jupyter.widget-view+json": {
       "model_id": "f49f5195b99f437d8b6b0cc05acaebc2",
       "version_major": 2,
       "version_minor": 0
      },
      "text/plain": [
       "Downloading images for Lifeline:   0%|          | 0/50 [00:00<?, ?it/s]"
      ]
     },
     "metadata": {},
     "output_type": "display_data"
    },
    {
     "data": {
      "application/vnd.jupyter.widget-view+json": {
       "model_id": "0a20bcc778f94940b711df35ee5590f0",
       "version_major": 2,
       "version_minor": 0
      },
      "text/plain": [
       "Downloading images for Loba:   0%|          | 0/50 [00:00<?, ?it/s]"
      ]
     },
     "metadata": {},
     "output_type": "display_data"
    },
    {
     "data": {
      "application/vnd.jupyter.widget-view+json": {
       "model_id": "af27386485b64bb9a7c86e790988bca6",
       "version_major": 2,
       "version_minor": 0
      },
      "text/plain": [
       "Downloading images for Newcastle:   0%|          | 0/50 [00:00<?, ?it/s]"
      ]
     },
     "metadata": {},
     "output_type": "display_data"
    },
    {
     "data": {
      "application/vnd.jupyter.widget-view+json": {
       "model_id": "13adac4f9a9a4adfa0f5a034ea7f67c2",
       "version_major": 2,
       "version_minor": 0
      },
      "text/plain": [
       "Downloading images for Bloodhound:   0%|          | 0/50 [00:00<?, ?it/s]"
      ]
     },
     "metadata": {},
     "output_type": "display_data"
    },
    {
     "data": {
      "application/vnd.jupyter.widget-view+json": {
       "model_id": "1f033189223641188ca371972560c911",
       "version_major": 2,
       "version_minor": 0
      },
      "text/plain": [
       "Downloading images for Crypto:   0%|          | 0/50 [00:00<?, ?it/s]"
      ]
     },
     "metadata": {},
     "output_type": "display_data"
    },
    {
     "data": {
      "application/vnd.jupyter.widget-view+json": {
       "model_id": "67d836f8a237454eb5de000049da19aa",
       "version_major": 2,
       "version_minor": 0
      },
      "text/plain": [
       "Downloading images for Pathfinder:   0%|          | 0/50 [00:00<?, ?it/s]"
      ]
     },
     "metadata": {},
     "output_type": "display_data"
    },
    {
     "data": {
      "application/vnd.jupyter.widget-view+json": {
       "model_id": "81dbd6dab4d84f0db2f2593eeee4acb6",
       "version_major": 2,
       "version_minor": 0
      },
      "text/plain": [
       "Downloading images for Seer:   0%|          | 0/50 [00:00<?, ?it/s]"
      ]
     },
     "metadata": {},
     "output_type": "display_data"
    },
    {
     "data": {
      "application/vnd.jupyter.widget-view+json": {
       "model_id": "4dee4853f7ba447f8265a04b5902a269",
       "version_major": 2,
       "version_minor": 0
      },
      "text/plain": [
       "Downloading images for Valkyrie:   0%|          | 0/50 [00:00<?, ?it/s]"
      ]
     },
     "metadata": {},
     "output_type": "display_data"
    },
    {
     "data": {
      "application/vnd.jupyter.widget-view+json": {
       "model_id": "e5e9073c0f1c46b182e6b0f086c6f8e4",
       "version_major": 2,
       "version_minor": 0
      },
      "text/plain": [
       "Downloading images for Vantage:   0%|          | 0/50 [00:00<?, ?it/s]"
      ]
     },
     "metadata": {},
     "output_type": "display_data"
    },
    {
     "data": {
      "application/vnd.jupyter.widget-view+json": {
       "model_id": "5798eca0019c40b7af833b95e43e12b8",
       "version_major": 2,
       "version_minor": 0
      },
      "text/plain": [
       "Downloading images for RAM:   0%|          | 0/50 [00:00<?, ?it/s]"
      ]
     },
     "metadata": {},
     "output_type": "display_data"
    },
    {
     "data": {
      "application/vnd.jupyter.widget-view+json": {
       "model_id": "f12f846d61a048ccbd60607c09c15de5",
       "version_major": 2,
       "version_minor": 0
      },
      "text/plain": [
       "Downloading images for FENRIR:   0%|          | 0/50 [00:00<?, ?it/s]"
      ]
     },
     "metadata": {},
     "output_type": "display_data"
    },
    {
     "data": {
      "application/vnd.jupyter.widget-view+json": {
       "model_id": "fd2612d5bf7a4fa39bd387d8d8681514",
       "version_major": 2,
       "version_minor": 0
      },
      "text/plain": [
       "Downloading images for BRAVA:   0%|          | 0/50 [00:00<?, ?it/s]"
      ]
     },
     "metadata": {},
     "output_type": "display_data"
    },
    {
     "data": {
      "application/vnd.jupyter.widget-view+json": {
       "model_id": "e1a7cebfc64a4b9badb5e3740060405b",
       "version_major": 2,
       "version_minor": 0
      },
      "text/plain": [
       "Downloading images for SOLIS:   0%|          | 0/50 [00:00<?, ?it/s]"
      ]
     },
     "metadata": {},
     "output_type": "display_data"
    },
    {
     "data": {
      "application/vnd.jupyter.widget-view+json": {
       "model_id": "655b179430534a228a3867b74d01162f",
       "version_major": 2,
       "version_minor": 0
      },
      "text/plain": [
       "Downloading images for GRIM:   0%|          | 0/50 [00:00<?, ?it/s]"
      ]
     },
     "metadata": {},
     "output_type": "display_data"
    },
    {
     "data": {
      "application/vnd.jupyter.widget-view+json": {
       "model_id": "a6d7ca22c42a462ea9fbfd3ffc705e81",
       "version_major": 2,
       "version_minor": 0
      },
      "text/plain": [
       "Downloading images for SENS:   0%|          | 0/50 [00:00<?, ?it/s]"
      ]
     },
     "metadata": {},
     "output_type": "display_data"
    },
    {
     "data": {
      "application/vnd.jupyter.widget-view+json": {
       "model_id": "8aaf679968b3413aa488b9811742dc4f",
       "version_major": 2,
       "version_minor": 0
      },
      "text/plain": [
       "Downloading images for AZAMI:   0%|          | 0/50 [00:00<?, ?it/s]"
      ]
     },
     "metadata": {},
     "output_type": "display_data"
    },
    {
     "data": {
      "application/vnd.jupyter.widget-view+json": {
       "model_id": "3bef6cba44cc4e42af079391217688f0",
       "version_major": 2,
       "version_minor": 0
      },
      "text/plain": [
       "Downloading images for THORN:   0%|          | 0/50 [00:00<?, ?it/s]"
      ]
     },
     "metadata": {},
     "output_type": "display_data"
    },
    {
     "data": {
      "application/vnd.jupyter.widget-view+json": {
       "model_id": "6a34ee0f2e8549e2925b4da06e939534",
       "version_major": 2,
       "version_minor": 0
      },
      "text/plain": [
       "Downloading images for OSA:   0%|          | 0/50 [00:00<?, ?it/s]"
      ]
     },
     "metadata": {},
     "output_type": "display_data"
    },
    {
     "data": {
      "application/vnd.jupyter.widget-view+json": {
       "model_id": "da1c794bba6e452eba4d7692da4e488d",
       "version_major": 2,
       "version_minor": 0
      },
      "text/plain": [
       "Downloading images for THUNDERBIRD:   0%|          | 0/50 [00:00<?, ?it/s]"
      ]
     },
     "metadata": {},
     "output_type": "display_data"
    },
    {
     "data": {
      "application/vnd.jupyter.widget-view+json": {
       "model_id": "99f930e3690b41dd8b503b39daaec576",
       "version_major": 2,
       "version_minor": 0
      },
      "text/plain": [
       "Downloading images for FLORES:   0%|          | 0/50 [00:00<?, ?it/s]"
      ]
     },
     "metadata": {},
     "output_type": "display_data"
    },
    {
     "data": {
      "application/vnd.jupyter.widget-view+json": {
       "model_id": "5dbe16cdb2d14aeb8d47f8050da326bc",
       "version_major": 2,
       "version_minor": 0
      },
      "text/plain": [
       "Downloading images for ARUNI:   0%|          | 0/50 [00:00<?, ?it/s]"
      ]
     },
     "metadata": {},
     "output_type": "display_data"
    },
    {
     "data": {
      "application/vnd.jupyter.widget-view+json": {
       "model_id": "802aa98d30fa4a368d5969bd8b8e6b86",
       "version_major": 2,
       "version_minor": 0
      },
      "text/plain": [
       "Downloading images for ZERO:   0%|          | 0/50 [00:00<?, ?it/s]"
      ]
     },
     "metadata": {},
     "output_type": "display_data"
    },
    {
     "data": {
      "application/vnd.jupyter.widget-view+json": {
       "model_id": "b8e7e44c75614cc7881d5841e452267e",
       "version_major": 2,
       "version_minor": 0
      },
      "text/plain": [
       "Downloading images for ACE:   0%|          | 0/50 [00:00<?, ?it/s]"
      ]
     },
     "metadata": {},
     "output_type": "display_data"
    },
    {
     "data": {
      "application/vnd.jupyter.widget-view+json": {
       "model_id": "134b6ba25eae4b388f2e0ae89a501d9c",
       "version_major": 2,
       "version_minor": 0
      },
      "text/plain": [
       "Downloading images for MELUSI:   0%|          | 0/50 [00:00<?, ?it/s]"
      ]
     },
     "metadata": {},
     "output_type": "display_data"
    },
    {
     "data": {
      "application/vnd.jupyter.widget-view+json": {
       "model_id": "95b594473f12493bae036624f3a46d8b",
       "version_major": 2,
       "version_minor": 0
      },
      "text/plain": [
       "Downloading images for ORYX:   0%|          | 0/50 [00:00<?, ?it/s]"
      ]
     },
     "metadata": {},
     "output_type": "display_data"
    },
    {
     "data": {
      "application/vnd.jupyter.widget-view+json": {
       "model_id": "a5b100de47d142319c95195fb6b0c1d9",
       "version_major": 2,
       "version_minor": 0
      },
      "text/plain": [
       "Downloading images for IANA:   0%|          | 0/50 [00:00<?, ?it/s]"
      ]
     },
     "metadata": {},
     "output_type": "display_data"
    },
    {
     "data": {
      "application/vnd.jupyter.widget-view+json": {
       "model_id": "db670127cfa9429e90b7ade1682fc75d",
       "version_major": 2,
       "version_minor": 0
      },
      "text/plain": [
       "Downloading images for WAMAI:   0%|          | 0/50 [00:00<?, ?it/s]"
      ]
     },
     "metadata": {},
     "output_type": "display_data"
    },
    {
     "data": {
      "application/vnd.jupyter.widget-view+json": {
       "model_id": "e736cf1c4eda4fce980eae34e5b64b3e",
       "version_major": 2,
       "version_minor": 0
      },
      "text/plain": [
       "Downloading images for KALI:   0%|          | 0/50 [00:00<?, ?it/s]"
      ]
     },
     "metadata": {},
     "output_type": "display_data"
    },
    {
     "data": {
      "application/vnd.jupyter.widget-view+json": {
       "model_id": "1b1eb11d0ac04d8f859ad37498978963",
       "version_major": 2,
       "version_minor": 0
      },
      "text/plain": [
       "Downloading images for AMARU:   0%|          | 0/50 [00:00<?, ?it/s]"
      ]
     },
     "metadata": {},
     "output_type": "display_data"
    },
    {
     "data": {
      "application/vnd.jupyter.widget-view+json": {
       "model_id": "eb5c3edcc9154d619e2ae7c52f88fd20",
       "version_major": 2,
       "version_minor": 0
      },
      "text/plain": [
       "Downloading images for GOYO:   0%|          | 0/50 [00:00<?, ?it/s]"
      ]
     },
     "metadata": {},
     "output_type": "display_data"
    },
    {
     "data": {
      "application/vnd.jupyter.widget-view+json": {
       "model_id": "663675595dfa41bb997b762df221f05a",
       "version_major": 2,
       "version_minor": 0
      },
      "text/plain": [
       "Downloading images for NØKK:   0%|          | 0/50 [00:00<?, ?it/s]"
      ]
     },
     "metadata": {},
     "output_type": "display_data"
    },
    {
     "data": {
      "application/vnd.jupyter.widget-view+json": {
       "model_id": "b08b659f666e44189cfc70a4450f3fac",
       "version_major": 2,
       "version_minor": 0
      },
      "text/plain": [
       "Downloading images for WARDEN:   0%|          | 0/50 [00:00<?, ?it/s]"
      ]
     },
     "metadata": {},
     "output_type": "display_data"
    },
    {
     "data": {
      "application/vnd.jupyter.widget-view+json": {
       "model_id": "dbbe7091a56f4256b31b55934152c7cf",
       "version_major": 2,
       "version_minor": 0
      },
      "text/plain": [
       "Downloading images for MOZZIE:   0%|          | 0/50 [00:00<?, ?it/s]"
      ]
     },
     "metadata": {},
     "output_type": "display_data"
    },
    {
     "data": {
      "application/vnd.jupyter.widget-view+json": {
       "model_id": "727237f307e247409ae6b1eaa611fd25",
       "version_major": 2,
       "version_minor": 0
      },
      "text/plain": [
       "Downloading images for GRIDLOCK:   0%|          | 0/50 [00:00<?, ?it/s]"
      ]
     },
     "metadata": {},
     "output_type": "display_data"
    },
    {
     "data": {
      "application/vnd.jupyter.widget-view+json": {
       "model_id": "7637bc2d671142ecbcd01d0f70defbd8",
       "version_major": 2,
       "version_minor": 0
      },
      "text/plain": [
       "Downloading images for NOMAD:   0%|          | 0/50 [00:00<?, ?it/s]"
      ]
     },
     "metadata": {},
     "output_type": "display_data"
    },
    {
     "data": {
      "application/vnd.jupyter.widget-view+json": {
       "model_id": "e7941b6013c64b818a1651c10c7ed676",
       "version_major": 2,
       "version_minor": 0
      },
      "text/plain": [
       "Downloading images for KAID:   0%|          | 0/50 [00:00<?, ?it/s]"
      ]
     },
     "metadata": {},
     "output_type": "display_data"
    },
    {
     "data": {
      "application/vnd.jupyter.widget-view+json": {
       "model_id": "319818c9c3b54a129ff541d3e6acefe9",
       "version_major": 2,
       "version_minor": 0
      },
      "text/plain": [
       "Downloading images for CLASH:   0%|          | 0/50 [00:00<?, ?it/s]"
      ]
     },
     "metadata": {},
     "output_type": "display_data"
    },
    {
     "data": {
      "application/vnd.jupyter.widget-view+json": {
       "model_id": "527737dbcbea4f919036ca215044ccbf",
       "version_major": 2,
       "version_minor": 0
      },
      "text/plain": [
       "Downloading images for MAVERICK:   0%|          | 0/50 [00:00<?, ?it/s]"
      ]
     },
     "metadata": {},
     "output_type": "display_data"
    },
    {
     "data": {
      "application/vnd.jupyter.widget-view+json": {
       "model_id": "a09e2138bb1d4438a96cb08068ad8fa6",
       "version_major": 2,
       "version_minor": 0
      },
      "text/plain": [
       "Downloading images for MAESTRO:   0%|          | 0/50 [00:00<?, ?it/s]"
      ]
     },
     "metadata": {},
     "output_type": "display_data"
    },
    {
     "data": {
      "application/vnd.jupyter.widget-view+json": {
       "model_id": "32452f2d6e8740f58648d6c4cb586962",
       "version_major": 2,
       "version_minor": 0
      },
      "text/plain": [
       "Downloading images for ALIBI:   0%|          | 0/50 [00:00<?, ?it/s]"
      ]
     },
     "metadata": {},
     "output_type": "display_data"
    },
    {
     "data": {
      "application/vnd.jupyter.widget-view+json": {
       "model_id": "7694e73d31fa4dfa92a30bab9ed7f35f",
       "version_major": 2,
       "version_minor": 0
      },
      "text/plain": [
       "Downloading images for LION:   0%|          | 0/50 [00:00<?, ?it/s]"
      ]
     },
     "metadata": {},
     "output_type": "display_data"
    },
    {
     "data": {
      "application/vnd.jupyter.widget-view+json": {
       "model_id": "a0cab3a730764c159db6b69016f9f97f",
       "version_major": 2,
       "version_minor": 0
      },
      "text/plain": [
       "Downloading images for FINKA:   0%|          | 0/50 [00:00<?, ?it/s]"
      ]
     },
     "metadata": {},
     "output_type": "display_data"
    },
    {
     "data": {
      "application/vnd.jupyter.widget-view+json": {
       "model_id": "896429025d0f411ca2b69e53613fc942",
       "version_major": 2,
       "version_minor": 0
      },
      "text/plain": [
       "Downloading images for VIGIL:   0%|          | 0/50 [00:00<?, ?it/s]"
      ]
     },
     "metadata": {},
     "output_type": "display_data"
    },
    {
     "data": {
      "application/vnd.jupyter.widget-view+json": {
       "model_id": "d32b12878342491486bcf55a64eeae58",
       "version_major": 2,
       "version_minor": 0
      },
      "text/plain": [
       "Downloading images for DOKKAEBI:   0%|          | 0/50 [00:00<?, ?it/s]"
      ]
     },
     "metadata": {},
     "output_type": "display_data"
    },
    {
     "data": {
      "application/vnd.jupyter.widget-view+json": {
       "model_id": "5d5b688ef3aa4ed4b240d36108a97adf",
       "version_major": 2,
       "version_minor": 0
      },
      "text/plain": [
       "Downloading images for ZOFIA:   0%|          | 0/50 [00:00<?, ?it/s]"
      ]
     },
     "metadata": {},
     "output_type": "display_data"
    },
    {
     "data": {
      "application/vnd.jupyter.widget-view+json": {
       "model_id": "f0373740bb80432187394aa7877f5de2",
       "version_major": 2,
       "version_minor": 0
      },
      "text/plain": [
       "Downloading images for ELA:   0%|          | 0/50 [00:00<?, ?it/s]"
      ]
     },
     "metadata": {},
     "output_type": "display_data"
    },
    {
     "data": {
      "application/vnd.jupyter.widget-view+json": {
       "model_id": "5ede6d3620d041afbc2810706ba2637c",
       "version_major": 2,
       "version_minor": 0
      },
      "text/plain": [
       "Downloading images for YING:   0%|          | 0/50 [00:00<?, ?it/s]"
      ]
     },
     "metadata": {},
     "output_type": "display_data"
    },
    {
     "data": {
      "application/vnd.jupyter.widget-view+json": {
       "model_id": "d0d40086f6de4105a2059a6c8f45f223",
       "version_major": 2,
       "version_minor": 0
      },
      "text/plain": [
       "Downloading images for LESION:   0%|          | 0/50 [00:00<?, ?it/s]"
      ]
     },
     "metadata": {},
     "output_type": "display_data"
    },
    {
     "data": {
      "application/vnd.jupyter.widget-view+json": {
       "model_id": "8628a31b193e4cce9eff16e900cd2239",
       "version_major": 2,
       "version_minor": 0
      },
      "text/plain": [
       "Downloading images for MIRA:   0%|          | 0/50 [00:00<?, ?it/s]"
      ]
     },
     "metadata": {},
     "output_type": "display_data"
    },
    {
     "data": {
      "application/vnd.jupyter.widget-view+json": {
       "model_id": "1428a90d70be437cb073a2d86a91b205",
       "version_major": 2,
       "version_minor": 0
      },
      "text/plain": [
       "Downloading images for JACKAL:   0%|          | 0/50 [00:00<?, ?it/s]"
      ]
     },
     "metadata": {},
     "output_type": "display_data"
    },
    {
     "data": {
      "application/vnd.jupyter.widget-view+json": {
       "model_id": "92c22488916d46b9860e543bd9fdea60",
       "version_major": 2,
       "version_minor": 0
      },
      "text/plain": [
       "Downloading images for HIBANA:   0%|          | 0/50 [00:00<?, ?it/s]"
      ]
     },
     "metadata": {},
     "output_type": "display_data"
    },
    {
     "data": {
      "application/vnd.jupyter.widget-view+json": {
       "model_id": "742d3a9356f345e1b690d45d5c040e8a",
       "version_major": 2,
       "version_minor": 0
      },
      "text/plain": [
       "Downloading images for ECHO:   0%|          | 0/50 [00:00<?, ?it/s]"
      ]
     },
     "metadata": {},
     "output_type": "display_data"
    },
    {
     "data": {
      "application/vnd.jupyter.widget-view+json": {
       "model_id": "4d0dcee47d314205ba2f39affdb7f4e5",
       "version_major": 2,
       "version_minor": 0
      },
      "text/plain": [
       "Downloading images for CAVEIRA:   0%|          | 0/50 [00:00<?, ?it/s]"
      ]
     },
     "metadata": {},
     "output_type": "display_data"
    },
    {
     "data": {
      "application/vnd.jupyter.widget-view+json": {
       "model_id": "952e6793672e4b90b5c43d61a8de2952",
       "version_major": 2,
       "version_minor": 0
      },
      "text/plain": [
       "Downloading images for CAPITÃO:   0%|          | 0/50 [00:00<?, ?it/s]"
      ]
     },
     "metadata": {},
     "output_type": "display_data"
    },
    {
     "data": {
      "application/vnd.jupyter.widget-view+json": {
       "model_id": "8e69b4e2538147148f8fb693e10ddda4",
       "version_major": 2,
       "version_minor": 0
      },
      "text/plain": [
       "Downloading images for BLACKBEARD:   0%|          | 0/50 [00:00<?, ?it/s]"
      ]
     },
     "metadata": {},
     "output_type": "display_data"
    },
    {
     "data": {
      "application/vnd.jupyter.widget-view+json": {
       "model_id": "e4f5dbe9f42749a280ea1662e4906287",
       "version_major": 2,
       "version_minor": 0
      },
      "text/plain": [
       "Downloading images for VALKYRIE:   0%|          | 0/50 [00:00<?, ?it/s]"
      ]
     },
     "metadata": {},
     "output_type": "display_data"
    },
    {
     "data": {
      "application/vnd.jupyter.widget-view+json": {
       "model_id": "78dc357ad79e4c35a59b849cfcd491fe",
       "version_major": 2,
       "version_minor": 0
      },
      "text/plain": [
       "Downloading images for BUCK:   0%|          | 0/50 [00:00<?, ?it/s]"
      ]
     },
     "metadata": {},
     "output_type": "display_data"
    },
    {
     "data": {
      "application/vnd.jupyter.widget-view+json": {
       "model_id": "fabb916bb8d644ff9f52fec361a2da76",
       "version_major": 2,
       "version_minor": 0
      },
      "text/plain": [
       "Downloading images for FROST:   0%|          | 0/50 [00:00<?, ?it/s]"
      ]
     },
     "metadata": {},
     "output_type": "display_data"
    },
    {
     "data": {
      "application/vnd.jupyter.widget-view+json": {
       "model_id": "e4655698262448d194e3c2b19af2791f",
       "version_major": 2,
       "version_minor": 0
      },
      "text/plain": [
       "Downloading images for MUTE:   0%|          | 0/50 [00:00<?, ?it/s]"
      ]
     },
     "metadata": {},
     "output_type": "display_data"
    },
    {
     "data": {
      "application/vnd.jupyter.widget-view+json": {
       "model_id": "e5fc49735b794ded8b9378f9b2933532",
       "version_major": 2,
       "version_minor": 0
      },
      "text/plain": [
       "Downloading images for SLEDGE:   0%|          | 0/50 [00:00<?, ?it/s]"
      ]
     },
     "metadata": {},
     "output_type": "display_data"
    },
    {
     "data": {
      "application/vnd.jupyter.widget-view+json": {
       "model_id": "2306aa4d21424bb1b2e01cf142fda509",
       "version_major": 2,
       "version_minor": 0
      },
      "text/plain": [
       "Downloading images for SMOKE:   0%|          | 0/50 [00:00<?, ?it/s]"
      ]
     },
     "metadata": {},
     "output_type": "display_data"
    },
    {
     "data": {
      "application/vnd.jupyter.widget-view+json": {
       "model_id": "65a8f3652e1e48e29fba84835351c59e",
       "version_major": 2,
       "version_minor": 0
      },
      "text/plain": [
       "Downloading images for THATCHER:   0%|          | 0/50 [00:00<?, ?it/s]"
      ]
     },
     "metadata": {},
     "output_type": "display_data"
    },
    {
     "data": {
      "application/vnd.jupyter.widget-view+json": {
       "model_id": "55db9ed7169944cea50857998f629d14",
       "version_major": 2,
       "version_minor": 0
      },
      "text/plain": [
       "Downloading images for ASH:   0%|          | 0/50 [00:00<?, ?it/s]"
      ]
     },
     "metadata": {},
     "output_type": "display_data"
    },
    {
     "data": {
      "application/vnd.jupyter.widget-view+json": {
       "model_id": "e61e672c94a947309d4411bafadfd78e",
       "version_major": 2,
       "version_minor": 0
      },
      "text/plain": [
       "Downloading images for CASTLE:   0%|          | 0/50 [00:00<?, ?it/s]"
      ]
     },
     "metadata": {},
     "output_type": "display_data"
    },
    {
     "data": {
      "application/vnd.jupyter.widget-view+json": {
       "model_id": "e004acbd007f454b9a40f58e0888391b",
       "version_major": 2,
       "version_minor": 0
      },
      "text/plain": [
       "Downloading images for PULSE:   0%|          | 0/50 [00:00<?, ?it/s]"
      ]
     },
     "metadata": {},
     "output_type": "display_data"
    },
    {
     "data": {
      "application/vnd.jupyter.widget-view+json": {
       "model_id": "56407aaaa87845c4a0da884c7ddec119",
       "version_major": 2,
       "version_minor": 0
      },
      "text/plain": [
       "Downloading images for THERMITE:   0%|          | 0/50 [00:00<?, ?it/s]"
      ]
     },
     "metadata": {},
     "output_type": "display_data"
    },
    {
     "data": {
      "application/vnd.jupyter.widget-view+json": {
       "model_id": "2b04cc7419a74b28a47a9792746f4b6e",
       "version_major": 2,
       "version_minor": 0
      },
      "text/plain": [
       "Downloading images for MONTAGNE:   0%|          | 0/50 [00:00<?, ?it/s]"
      ]
     },
     "metadata": {},
     "output_type": "display_data"
    },
    {
     "data": {
      "application/vnd.jupyter.widget-view+json": {
       "model_id": "f53683eb9b1846029801f24a3ae34609",
       "version_major": 2,
       "version_minor": 0
      },
      "text/plain": [
       "Downloading images for TWITCH:   0%|          | 0/50 [00:00<?, ?it/s]"
      ]
     },
     "metadata": {},
     "output_type": "display_data"
    },
    {
     "data": {
      "application/vnd.jupyter.widget-view+json": {
       "model_id": "707685ece58b4453af5f2326b9e29914",
       "version_major": 2,
       "version_minor": 0
      },
      "text/plain": [
       "Downloading images for DOC:   0%|          | 0/50 [00:00<?, ?it/s]"
      ]
     },
     "metadata": {},
     "output_type": "display_data"
    },
    {
     "data": {
      "application/vnd.jupyter.widget-view+json": {
       "model_id": "f398e1afdb134e71bade5d81c4103ff1",
       "version_major": 2,
       "version_minor": 0
      },
      "text/plain": [
       "Downloading images for ROOK:   0%|          | 0/50 [00:00<?, ?it/s]"
      ]
     },
     "metadata": {},
     "output_type": "display_data"
    },
    {
     "data": {
      "application/vnd.jupyter.widget-view+json": {
       "model_id": "56bf3de010be4b35bc20e27eb583fb1b",
       "version_major": 2,
       "version_minor": 0
      },
      "text/plain": [
       "Downloading images for JÄGER:   0%|          | 0/50 [00:00<?, ?it/s]"
      ]
     },
     "metadata": {},
     "output_type": "display_data"
    },
    {
     "data": {
      "application/vnd.jupyter.widget-view+json": {
       "model_id": "f156ba8f877b48ed8b814fe0143af054",
       "version_major": 2,
       "version_minor": 0
      },
      "text/plain": [
       "Downloading images for BANDIT:   0%|          | 0/50 [00:00<?, ?it/s]"
      ]
     },
     "metadata": {},
     "output_type": "display_data"
    },
    {
     "data": {
      "application/vnd.jupyter.widget-view+json": {
       "model_id": "7b87e94c0fee45c18e3254955848a629",
       "version_major": 2,
       "version_minor": 0
      },
      "text/plain": [
       "Downloading images for BLITZ:   0%|          | 0/50 [00:00<?, ?it/s]"
      ]
     },
     "metadata": {},
     "output_type": "display_data"
    },
    {
     "data": {
      "application/vnd.jupyter.widget-view+json": {
       "model_id": "da229a5ec750435e804e03fcb6f49679",
       "version_major": 2,
       "version_minor": 0
      },
      "text/plain": [
       "Downloading images for IQ:   0%|          | 0/50 [00:00<?, ?it/s]"
      ]
     },
     "metadata": {},
     "output_type": "display_data"
    },
    {
     "data": {
      "application/vnd.jupyter.widget-view+json": {
       "model_id": "37ad720508144f758a1d60d5f4b77d27",
       "version_major": 2,
       "version_minor": 0
      },
      "text/plain": [
       "Downloading images for FUZE:   0%|          | 0/50 [00:00<?, ?it/s]"
      ]
     },
     "metadata": {},
     "output_type": "display_data"
    },
    {
     "data": {
      "application/vnd.jupyter.widget-view+json": {
       "model_id": "c850c4d21a194f64bfa5662f134c88be",
       "version_major": 2,
       "version_minor": 0
      },
      "text/plain": [
       "Downloading images for GLAZ:   0%|          | 0/50 [00:00<?, ?it/s]"
      ]
     },
     "metadata": {},
     "output_type": "display_data"
    },
    {
     "data": {
      "application/vnd.jupyter.widget-view+json": {
       "model_id": "ec3535764dce449980f8c9ada959352e",
       "version_major": 2,
       "version_minor": 0
      },
      "text/plain": [
       "Downloading images for TACHANKA:   0%|          | 0/50 [00:00<?, ?it/s]"
      ]
     },
     "metadata": {},
     "output_type": "display_data"
    },
    {
     "data": {
      "application/vnd.jupyter.widget-view+json": {
       "model_id": "83ab75407983418f9913106e54381388",
       "version_major": 2,
       "version_minor": 0
      },
      "text/plain": [
       "Downloading images for KAPKAN:   0%|          | 0/50 [00:00<?, ?it/s]"
      ]
     },
     "metadata": {},
     "output_type": "display_data"
    },
    {
     "data": {
      "application/vnd.jupyter.widget-view+json": {
       "model_id": "6bedb6fe06cc43ab8c55d9db8ef789c5",
       "version_major": 2,
       "version_minor": 0
      },
      "text/plain": [
       "Downloading images for Albedo:   0%|          | 0/50 [00:00<?, ?it/s]"
      ]
     },
     "metadata": {},
     "output_type": "display_data"
    },
    {
     "data": {
      "application/vnd.jupyter.widget-view+json": {
       "model_id": "586f3c01b5ea41aa99c3ebf0e9a27fa3",
       "version_major": 2,
       "version_minor": 0
      },
      "text/plain": [
       "Downloading images for Alhaitham:   0%|          | 0/50 [00:00<?, ?it/s]"
      ]
     },
     "metadata": {},
     "output_type": "display_data"
    },
    {
     "data": {
      "application/vnd.jupyter.widget-view+json": {
       "model_id": "e6e5521ed4a0472296f9136e2d82e974",
       "version_major": 2,
       "version_minor": 0
      },
      "text/plain": [
       "Downloading images for Aloy:   0%|          | 0/50 [00:00<?, ?it/s]"
      ]
     },
     "metadata": {},
     "output_type": "display_data"
    },
    {
     "data": {
      "application/vnd.jupyter.widget-view+json": {
       "model_id": "946cb8283e644dce8ba6b6c0c09bdf60",
       "version_major": 2,
       "version_minor": 0
      },
      "text/plain": [
       "Downloading images for Amber:   0%|          | 0/50 [00:00<?, ?it/s]"
      ]
     },
     "metadata": {},
     "output_type": "display_data"
    },
    {
     "data": {
      "application/vnd.jupyter.widget-view+json": {
       "model_id": "6e4bb6c32b6a434e92fa66604b88507d",
       "version_major": 2,
       "version_minor": 0
      },
      "text/plain": [
       "Downloading images for Arataki Itto:   0%|          | 0/50 [00:00<?, ?it/s]"
      ]
     },
     "metadata": {},
     "output_type": "display_data"
    },
    {
     "data": {
      "application/vnd.jupyter.widget-view+json": {
       "model_id": "1291928c138a47bf8ef5393e5b611f9b",
       "version_major": 2,
       "version_minor": 0
      },
      "text/plain": [
       "Downloading images for Barbara:   0%|          | 0/50 [00:00<?, ?it/s]"
      ]
     },
     "metadata": {},
     "output_type": "display_data"
    },
    {
     "data": {
      "application/vnd.jupyter.widget-view+json": {
       "model_id": "82a583a0d5204214a9e903b91be6145e",
       "version_major": 2,
       "version_minor": 0
      },
      "text/plain": [
       "Downloading images for Beidou:   0%|          | 0/50 [00:00<?, ?it/s]"
      ]
     },
     "metadata": {},
     "output_type": "display_data"
    },
    {
     "data": {
      "application/vnd.jupyter.widget-view+json": {
       "model_id": "eb6a4587e769433482f549c5d4d621cb",
       "version_major": 2,
       "version_minor": 0
      },
      "text/plain": [
       "Downloading images for Bennett:   0%|          | 0/50 [00:00<?, ?it/s]"
      ]
     },
     "metadata": {},
     "output_type": "display_data"
    },
    {
     "data": {
      "application/vnd.jupyter.widget-view+json": {
       "model_id": "2ae368cc60f7490a9768d87b28af8563",
       "version_major": 2,
       "version_minor": 0
      },
      "text/plain": [
       "Downloading images for Candace:   0%|          | 0/50 [00:00<?, ?it/s]"
      ]
     },
     "metadata": {},
     "output_type": "display_data"
    },
    {
     "data": {
      "application/vnd.jupyter.widget-view+json": {
       "model_id": "13b93bef6a404c8ead43a620e77d2485",
       "version_major": 2,
       "version_minor": 0
      },
      "text/plain": [
       "Downloading images for Chongyun:   0%|          | 0/50 [00:00<?, ?it/s]"
      ]
     },
     "metadata": {},
     "output_type": "display_data"
    },
    {
     "data": {
      "application/vnd.jupyter.widget-view+json": {
       "model_id": "e454ad525bbd41bf8a1f168cecc73860",
       "version_major": 2,
       "version_minor": 0
      },
      "text/plain": [
       "Downloading images for Collei:   0%|          | 0/50 [00:00<?, ?it/s]"
      ]
     },
     "metadata": {},
     "output_type": "display_data"
    },
    {
     "data": {
      "application/vnd.jupyter.widget-view+json": {
       "model_id": "c63f29ef4b434cca92ff081c9009012c",
       "version_major": 2,
       "version_minor": 0
      },
      "text/plain": [
       "Downloading images for Cyno:   0%|          | 0/50 [00:00<?, ?it/s]"
      ]
     },
     "metadata": {},
     "output_type": "display_data"
    },
    {
     "data": {
      "application/vnd.jupyter.widget-view+json": {
       "model_id": "5bf08cae13e64f32baa22d756c6e77b3",
       "version_major": 2,
       "version_minor": 0
      },
      "text/plain": [
       "Downloading images for Diluc:   0%|          | 0/50 [00:00<?, ?it/s]"
      ]
     },
     "metadata": {},
     "output_type": "display_data"
    },
    {
     "data": {
      "application/vnd.jupyter.widget-view+json": {
       "model_id": "a2560262a09c4a2d85b97df133e213fa",
       "version_major": 2,
       "version_minor": 0
      },
      "text/plain": [
       "Downloading images for Diona:   0%|          | 0/50 [00:00<?, ?it/s]"
      ]
     },
     "metadata": {},
     "output_type": "display_data"
    },
    {
     "data": {
      "application/vnd.jupyter.widget-view+json": {
       "model_id": "57c5a5aaa42640fd9daf6fda5a1f7ac9",
       "version_major": 2,
       "version_minor": 0
      },
      "text/plain": [
       "Downloading images for Dori:   0%|          | 0/50 [00:00<?, ?it/s]"
      ]
     },
     "metadata": {},
     "output_type": "display_data"
    },
    {
     "data": {
      "application/vnd.jupyter.widget-view+json": {
       "model_id": "2d51de6a670e4efb909f96ffbe086586",
       "version_major": 2,
       "version_minor": 0
      },
      "text/plain": [
       "Downloading images for Eula:   0%|          | 0/50 [00:00<?, ?it/s]"
      ]
     },
     "metadata": {},
     "output_type": "display_data"
    },
    {
     "data": {
      "application/vnd.jupyter.widget-view+json": {
       "model_id": "3e51f0b9f4f4477b9cc9d2559834d584",
       "version_major": 2,
       "version_minor": 0
      },
      "text/plain": [
       "Downloading images for Faruzan:   0%|          | 0/50 [00:00<?, ?it/s]"
      ]
     },
     "metadata": {},
     "output_type": "display_data"
    },
    {
     "data": {
      "application/vnd.jupyter.widget-view+json": {
       "model_id": "48951368f453423c8c7693e1625c0a8a",
       "version_major": 2,
       "version_minor": 0
      },
      "text/plain": [
       "Downloading images for Fischl:   0%|          | 0/50 [00:00<?, ?it/s]"
      ]
     },
     "metadata": {},
     "output_type": "display_data"
    },
    {
     "data": {
      "application/vnd.jupyter.widget-view+json": {
       "model_id": "8b4c0d631a144a44a0a7a35148e12b1d",
       "version_major": 2,
       "version_minor": 0
      },
      "text/plain": [
       "Downloading images for Ganyu:   0%|          | 0/50 [00:00<?, ?it/s]"
      ]
     },
     "metadata": {},
     "output_type": "display_data"
    },
    {
     "data": {
      "application/vnd.jupyter.widget-view+json": {
       "model_id": "efa1e527f14f401ba076b6e3e0178066",
       "version_major": 2,
       "version_minor": 0
      },
      "text/plain": [
       "Downloading images for Gorou:   0%|          | 0/50 [00:00<?, ?it/s]"
      ]
     },
     "metadata": {},
     "output_type": "display_data"
    },
    {
     "data": {
      "application/vnd.jupyter.widget-view+json": {
       "model_id": "6b186790517f487a8152570d62c7d469",
       "version_major": 2,
       "version_minor": 0
      },
      "text/plain": [
       "Downloading images for Hu Tao:   0%|          | 0/50 [00:00<?, ?it/s]"
      ]
     },
     "metadata": {},
     "output_type": "display_data"
    },
    {
     "data": {
      "application/vnd.jupyter.widget-view+json": {
       "model_id": "13c27c5aa97441e8a9b58ba4f64c696e",
       "version_major": 2,
       "version_minor": 0
      },
      "text/plain": [
       "Downloading images for Jean:   0%|          | 0/50 [00:00<?, ?it/s]"
      ]
     },
     "metadata": {},
     "output_type": "display_data"
    },
    {
     "data": {
      "application/vnd.jupyter.widget-view+json": {
       "model_id": "63061dc477424f7a83f190ff4a1565b7",
       "version_major": 2,
       "version_minor": 0
      },
      "text/plain": [
       "Downloading images for Kaedehara Kazuha:   0%|          | 0/50 [00:00<?, ?it/s]"
      ]
     },
     "metadata": {},
     "output_type": "display_data"
    },
    {
     "data": {
      "application/vnd.jupyter.widget-view+json": {
       "model_id": "7173fb3939334669b5f6be0331333e3f",
       "version_major": 2,
       "version_minor": 0
      },
      "text/plain": [
       "Downloading images for Kaeya:   0%|          | 0/50 [00:00<?, ?it/s]"
      ]
     },
     "metadata": {},
     "output_type": "display_data"
    },
    {
     "data": {
      "application/vnd.jupyter.widget-view+json": {
       "model_id": "12ee0003b505452bbaf6a05669cd1577",
       "version_major": 2,
       "version_minor": 0
      },
      "text/plain": [
       "Downloading images for Kamisato Ayaka:   0%|          | 0/50 [00:00<?, ?it/s]"
      ]
     },
     "metadata": {},
     "output_type": "display_data"
    },
    {
     "data": {
      "application/vnd.jupyter.widget-view+json": {
       "model_id": "35ec43a67acf4c079868b6efa90fc379",
       "version_major": 2,
       "version_minor": 0
      },
      "text/plain": [
       "Downloading images for Kamisato Ayato:   0%|          | 0/50 [00:00<?, ?it/s]"
      ]
     },
     "metadata": {},
     "output_type": "display_data"
    },
    {
     "data": {
      "application/vnd.jupyter.widget-view+json": {
       "model_id": "34bb89218c50478fa078174fdbd86872",
       "version_major": 2,
       "version_minor": 0
      },
      "text/plain": [
       "Downloading images for Keqing:   0%|          | 0/50 [00:00<?, ?it/s]"
      ]
     },
     "metadata": {},
     "output_type": "display_data"
    },
    {
     "data": {
      "application/vnd.jupyter.widget-view+json": {
       "model_id": "4bd02227927942559677ba88fd475be5",
       "version_major": 2,
       "version_minor": 0
      },
      "text/plain": [
       "Downloading images for Klee:   0%|          | 0/50 [00:00<?, ?it/s]"
      ]
     },
     "metadata": {},
     "output_type": "display_data"
    },
    {
     "data": {
      "application/vnd.jupyter.widget-view+json": {
       "model_id": "081908004a24439990deb0c2dafa7a27",
       "version_major": 2,
       "version_minor": 0
      },
      "text/plain": [
       "Downloading images for Kujou Sara:   0%|          | 0/50 [00:00<?, ?it/s]"
      ]
     },
     "metadata": {},
     "output_type": "display_data"
    },
    {
     "data": {
      "application/vnd.jupyter.widget-view+json": {
       "model_id": "c7d89e718839464baa95019a51767055",
       "version_major": 2,
       "version_minor": 0
      },
      "text/plain": [
       "Downloading images for Kuki Shinobu:   0%|          | 0/50 [00:00<?, ?it/s]"
      ]
     },
     "metadata": {},
     "output_type": "display_data"
    },
    {
     "data": {
      "application/vnd.jupyter.widget-view+json": {
       "model_id": "1bd9eb18435046d8b64c159d9c8d90e0",
       "version_major": 2,
       "version_minor": 0
      },
      "text/plain": [
       "Downloading images for Layla:   0%|          | 0/50 [00:00<?, ?it/s]"
      ]
     },
     "metadata": {},
     "output_type": "display_data"
    },
    {
     "data": {
      "application/vnd.jupyter.widget-view+json": {
       "model_id": "e5f7b898d3824f0dbe5da2476efa8b49",
       "version_major": 2,
       "version_minor": 0
      },
      "text/plain": [
       "Downloading images for Lisa:   0%|          | 0/50 [00:00<?, ?it/s]"
      ]
     },
     "metadata": {},
     "output_type": "display_data"
    },
    {
     "data": {
      "application/vnd.jupyter.widget-view+json": {
       "model_id": "4600d984050b4cd493dc6da37551b55e",
       "version_major": 2,
       "version_minor": 0
      },
      "text/plain": [
       "Downloading images for Mona:   0%|          | 0/50 [00:00<?, ?it/s]"
      ]
     },
     "metadata": {},
     "output_type": "display_data"
    },
    {
     "data": {
      "application/vnd.jupyter.widget-view+json": {
       "model_id": "3144427c38d343a89bf09c5276255a16",
       "version_major": 2,
       "version_minor": 0
      },
      "text/plain": [
       "Downloading images for Nahida:   0%|          | 0/50 [00:00<?, ?it/s]"
      ]
     },
     "metadata": {},
     "output_type": "display_data"
    },
    {
     "data": {
      "application/vnd.jupyter.widget-view+json": {
       "model_id": "280fda9ec56440f3ade28af597296313",
       "version_major": 2,
       "version_minor": 0
      },
      "text/plain": [
       "Downloading images for Nilou:   0%|          | 0/50 [00:00<?, ?it/s]"
      ]
     },
     "metadata": {},
     "output_type": "display_data"
    },
    {
     "data": {
      "application/vnd.jupyter.widget-view+json": {
       "model_id": "a0f42d1639f8423ea9e97d5bcc456d51",
       "version_major": 2,
       "version_minor": 0
      },
      "text/plain": [
       "Downloading images for Ningguang:   0%|          | 0/50 [00:00<?, ?it/s]"
      ]
     },
     "metadata": {},
     "output_type": "display_data"
    },
    {
     "data": {
      "application/vnd.jupyter.widget-view+json": {
       "model_id": "ebb47630e2564f51b6deec751bf0a02d",
       "version_major": 2,
       "version_minor": 0
      },
      "text/plain": [
       "Downloading images for Noelle:   0%|          | 0/50 [00:00<?, ?it/s]"
      ]
     },
     "metadata": {},
     "output_type": "display_data"
    },
    {
     "data": {
      "application/vnd.jupyter.widget-view+json": {
       "model_id": "ef0a86bdd1d64ee6bbe9fc334933c55e",
       "version_major": 2,
       "version_minor": 0
      },
      "text/plain": [
       "Downloading images for Qiqi:   0%|          | 0/50 [00:00<?, ?it/s]"
      ]
     },
     "metadata": {},
     "output_type": "display_data"
    },
    {
     "data": {
      "application/vnd.jupyter.widget-view+json": {
       "model_id": "a08aecf6c98e47e6bacdf24341418d5d",
       "version_major": 2,
       "version_minor": 0
      },
      "text/plain": [
       "Downloading images for Raiden Shogun:   0%|          | 0/50 [00:00<?, ?it/s]"
      ]
     },
     "metadata": {},
     "output_type": "display_data"
    },
    {
     "data": {
      "application/vnd.jupyter.widget-view+json": {
       "model_id": "7c757fbc713840ca98eb916bc9d5612a",
       "version_major": 2,
       "version_minor": 0
      },
      "text/plain": [
       "Downloading images for Razor:   0%|          | 0/50 [00:00<?, ?it/s]"
      ]
     },
     "metadata": {},
     "output_type": "display_data"
    },
    {
     "data": {
      "application/vnd.jupyter.widget-view+json": {
       "model_id": "d07b34f4ddba465b8989a90314332ebe",
       "version_major": 2,
       "version_minor": 0
      },
      "text/plain": [
       "Downloading images for Rosaria:   0%|          | 0/50 [00:00<?, ?it/s]"
      ]
     },
     "metadata": {},
     "output_type": "display_data"
    },
    {
     "data": {
      "application/vnd.jupyter.widget-view+json": {
       "model_id": "d7e1554b4e2141019fe5fd6fde9ee2af",
       "version_major": 2,
       "version_minor": 0
      },
      "text/plain": [
       "Downloading images for Sangonomiya Kokomi:   0%|          | 0/50 [00:00<?, ?it/s]"
      ]
     },
     "metadata": {},
     "output_type": "display_data"
    },
    {
     "data": {
      "application/vnd.jupyter.widget-view+json": {
       "model_id": "2048438d14d946568aaf1a78ed746c60",
       "version_major": 2,
       "version_minor": 0
      },
      "text/plain": [
       "Downloading images for Sayu:   0%|          | 0/50 [00:00<?, ?it/s]"
      ]
     },
     "metadata": {},
     "output_type": "display_data"
    },
    {
     "data": {
      "application/vnd.jupyter.widget-view+json": {
       "model_id": "85d387fb9ced4dacbadf1fc730b946a6",
       "version_major": 2,
       "version_minor": 0
      },
      "text/plain": [
       "Downloading images for Shenhe:   0%|          | 0/50 [00:00<?, ?it/s]"
      ]
     },
     "metadata": {},
     "output_type": "display_data"
    },
    {
     "data": {
      "application/vnd.jupyter.widget-view+json": {
       "model_id": "3ca4dd865b544cd7a08ae30140c1f494",
       "version_major": 2,
       "version_minor": 0
      },
      "text/plain": [
       "Downloading images for Shikanoin Heizou:   0%|          | 0/50 [00:00<?, ?it/s]"
      ]
     },
     "metadata": {},
     "output_type": "display_data"
    },
    {
     "data": {
      "application/vnd.jupyter.widget-view+json": {
       "model_id": "6fbe0c9f107845dc80a397df35cc5d36",
       "version_major": 2,
       "version_minor": 0
      },
      "text/plain": [
       "Downloading images for Sucrose:   0%|          | 0/50 [00:00<?, ?it/s]"
      ]
     },
     "metadata": {},
     "output_type": "display_data"
    },
    {
     "data": {
      "application/vnd.jupyter.widget-view+json": {
       "model_id": "494713babe274660a518aa91418b9085",
       "version_major": 2,
       "version_minor": 0
      },
      "text/plain": [
       "Downloading images for Tartaglia (Childe):   0%|          | 0/50 [00:00<?, ?it/s]"
      ]
     },
     "metadata": {},
     "output_type": "display_data"
    },
    {
     "data": {
      "application/vnd.jupyter.widget-view+json": {
       "model_id": "399eb7f7e0f54797a310ef92b29a0ef0",
       "version_major": 2,
       "version_minor": 0
      },
      "text/plain": [
       "Downloading images for Thoma:   0%|          | 0/50 [00:00<?, ?it/s]"
      ]
     },
     "metadata": {},
     "output_type": "display_data"
    },
    {
     "data": {
      "application/vnd.jupyter.widget-view+json": {
       "model_id": "e8748611b6b84d9882eda2b69a9dc6a4",
       "version_major": 2,
       "version_minor": 0
      },
      "text/plain": [
       "Downloading images for Tighnari:   0%|          | 0/50 [00:00<?, ?it/s]"
      ]
     },
     "metadata": {},
     "output_type": "display_data"
    },
    {
     "data": {
      "application/vnd.jupyter.widget-view+json": {
       "model_id": "37725d155ed7415eba2ba776cab49437",
       "version_major": 2,
       "version_minor": 0
      },
      "text/plain": [
       "Downloading images for Venti:   0%|          | 0/50 [00:00<?, ?it/s]"
      ]
     },
     "metadata": {},
     "output_type": "display_data"
    },
    {
     "data": {
      "application/vnd.jupyter.widget-view+json": {
       "model_id": "1c983f221c65486eade47c922de33709",
       "version_major": 2,
       "version_minor": 0
      },
      "text/plain": [
       "Downloading images for Wanderer:   0%|          | 0/50 [00:00<?, ?it/s]"
      ]
     },
     "metadata": {},
     "output_type": "display_data"
    },
    {
     "data": {
      "application/vnd.jupyter.widget-view+json": {
       "model_id": "6b6f9be9b02a4821acd0be77bc142921",
       "version_major": 2,
       "version_minor": 0
      },
      "text/plain": [
       "Downloading images for Xiangling:   0%|          | 0/50 [00:00<?, ?it/s]"
      ]
     },
     "metadata": {},
     "output_type": "display_data"
    },
    {
     "data": {
      "application/vnd.jupyter.widget-view+json": {
       "model_id": "ba0ec34718674766b34d9578177f505f",
       "version_major": 2,
       "version_minor": 0
      },
      "text/plain": [
       "Downloading images for Xiao:   0%|          | 0/50 [00:00<?, ?it/s]"
      ]
     },
     "metadata": {},
     "output_type": "display_data"
    },
    {
     "data": {
      "application/vnd.jupyter.widget-view+json": {
       "model_id": "3f845015c0dd49f49c0be43137bb268d",
       "version_major": 2,
       "version_minor": 0
      },
      "text/plain": [
       "Downloading images for Xingqiu:   0%|          | 0/50 [00:00<?, ?it/s]"
      ]
     },
     "metadata": {},
     "output_type": "display_data"
    },
    {
     "data": {
      "application/vnd.jupyter.widget-view+json": {
       "model_id": "25ef0fb466e4478a9abba8b457116c62",
       "version_major": 2,
       "version_minor": 0
      },
      "text/plain": [
       "Downloading images for Xinyan:   0%|          | 0/50 [00:00<?, ?it/s]"
      ]
     },
     "metadata": {},
     "output_type": "display_data"
    },
    {
     "data": {
      "application/vnd.jupyter.widget-view+json": {
       "model_id": "000afa8dc7354a6989bea2155bce99e6",
       "version_major": 2,
       "version_minor": 0
      },
      "text/plain": [
       "Downloading images for Yae Miko:   0%|          | 0/50 [00:00<?, ?it/s]"
      ]
     },
     "metadata": {},
     "output_type": "display_data"
    },
    {
     "data": {
      "application/vnd.jupyter.widget-view+json": {
       "model_id": "47277571c15f4e5681097413d3421986",
       "version_major": 2,
       "version_minor": 0
      },
      "text/plain": [
       "Downloading images for Yanfei:   0%|          | 0/50 [00:00<?, ?it/s]"
      ]
     },
     "metadata": {},
     "output_type": "display_data"
    },
    {
     "data": {
      "application/vnd.jupyter.widget-view+json": {
       "model_id": "86383c8caa514aafb3f336f67a53353d",
       "version_major": 2,
       "version_minor": 0
      },
      "text/plain": [
       "Downloading images for Yaoyao:   0%|          | 0/50 [00:00<?, ?it/s]"
      ]
     },
     "metadata": {},
     "output_type": "display_data"
    },
    {
     "data": {
      "application/vnd.jupyter.widget-view+json": {
       "model_id": "d3b5355a6f4f41728e71efcffa47e956",
       "version_major": 2,
       "version_minor": 0
      },
      "text/plain": [
       "Downloading images for Yelan:   0%|          | 0/50 [00:00<?, ?it/s]"
      ]
     },
     "metadata": {},
     "output_type": "display_data"
    },
    {
     "data": {
      "application/vnd.jupyter.widget-view+json": {
       "model_id": "4c2f389f97a04a1bb6466cf8ccc66d65",
       "version_major": 2,
       "version_minor": 0
      },
      "text/plain": [
       "Downloading images for Yoimiya:   0%|          | 0/50 [00:00<?, ?it/s]"
      ]
     },
     "metadata": {},
     "output_type": "display_data"
    },
    {
     "data": {
      "application/vnd.jupyter.widget-view+json": {
       "model_id": "db5204961ead4049901db12c052fef3b",
       "version_major": 2,
       "version_minor": 0
      },
      "text/plain": [
       "Downloading images for Yun Jin:   0%|          | 0/50 [00:00<?, ?it/s]"
      ]
     },
     "metadata": {},
     "output_type": "display_data"
    },
    {
     "data": {
      "application/vnd.jupyter.widget-view+json": {
       "model_id": "5c20e00c10a648c0b9430e2635a250e6",
       "version_major": 2,
       "version_minor": 0
      },
      "text/plain": [
       "Downloading images for Zhongli:   0%|          | 0/50 [00:00<?, ?it/s]"
      ]
     },
     "metadata": {},
     "output_type": "display_data"
    },
    {
     "data": {
      "application/vnd.jupyter.widget-view+json": {
       "model_id": "e4c77b6c32a34275af3d7d91134c52f4",
       "version_major": 2,
       "version_minor": 0
      },
      "text/plain": [
       "Downloading images for Master Chief:   0%|          | 0/50 [00:00<?, ?it/s]"
      ]
     },
     "metadata": {},
     "output_type": "display_data"
    },
    {
     "data": {
      "application/vnd.jupyter.widget-view+json": {
       "model_id": "b73314505f464a35819aef5108aa2b3b",
       "version_major": 2,
       "version_minor": 0
      },
      "text/plain": [
       "Downloading images for Cortana:   0%|          | 0/50 [00:00<?, ?it/s]"
      ]
     },
     "metadata": {},
     "output_type": "display_data"
    },
    {
     "data": {
      "application/vnd.jupyter.widget-view+json": {
       "model_id": "e1aa9535972e4b1d9496bb6d97e57ea8",
       "version_major": 2,
       "version_minor": 0
      },
      "text/plain": [
       "Downloading images for Avery Johnson:   0%|          | 0/50 [00:00<?, ?it/s]"
      ]
     },
     "metadata": {},
     "output_type": "display_data"
    },
    {
     "data": {
      "application/vnd.jupyter.widget-view+json": {
       "model_id": "f88b1a0328d24c47a02ccfb4af021aeb",
       "version_major": 2,
       "version_minor": 0
      },
      "text/plain": [
       "Downloading images for Jacob Keyes:   0%|          | 0/50 [00:00<?, ?it/s]"
      ]
     },
     "metadata": {},
     "output_type": "display_data"
    },
    {
     "data": {
      "application/vnd.jupyter.widget-view+json": {
       "model_id": "ddd4ec8150f64b869452ab69645ce9e1",
       "version_major": 2,
       "version_minor": 0
      },
      "text/plain": [
       "Downloading images for Miranda Keyes:   0%|          | 0/50 [00:00<?, ?it/s]"
      ]
     },
     "metadata": {},
     "output_type": "display_data"
    },
    {
     "data": {
      "application/vnd.jupyter.widget-view+json": {
       "model_id": "ef9e9beb8cf244e39ab6e58eb460eb3f",
       "version_major": 2,
       "version_minor": 0
      },
      "text/plain": [
       "Downloading images for Dr. Catherine Halsey:   0%|          | 0/50 [00:00<?, ?it/s]"
      ]
     },
     "metadata": {},
     "output_type": "display_data"
    },
    {
     "data": {
      "application/vnd.jupyter.widget-view+json": {
       "model_id": "f989a73fe5fc4be49b73d7a01bdc2a52",
       "version_major": 2,
       "version_minor": 0
      },
      "text/plain": [
       "Downloading images for James Ackerson:   0%|          | 0/50 [00:00<?, ?it/s]"
      ]
     },
     "metadata": {},
     "output_type": "display_data"
    },
    {
     "data": {
      "application/vnd.jupyter.widget-view+json": {
       "model_id": "86591a66f5014b479b1832afab417faf",
       "version_major": 2,
       "version_minor": 0
      },
      "text/plain": [
       "Downloading images for Franklin Mendez:   0%|          | 0/50 [00:00<?, ?it/s]"
      ]
     },
     "metadata": {},
     "output_type": "display_data"
    },
    {
     "data": {
      "application/vnd.jupyter.widget-view+json": {
       "model_id": "f942a4bc8ad647eb90aa0cd8860ad34e",
       "version_major": 2,
       "version_minor": 0
      },
      "text/plain": [
       "Downloading images for Terrence Hood:   0%|          | 0/50 [00:00<?, ?it/s]"
      ]
     },
     "metadata": {},
     "output_type": "display_data"
    },
    {
     "data": {
      "application/vnd.jupyter.widget-view+json": {
       "model_id": "870283b33719488dbeb76181ce4082c4",
       "version_major": 2,
       "version_minor": 0
      },
      "text/plain": [
       "Downloading images for Serin Osman:   0%|          | 0/50 [00:00<?, ?it/s]"
      ]
     },
     "metadata": {},
     "output_type": "display_data"
    },
    {
     "data": {
      "application/vnd.jupyter.widget-view+json": {
       "model_id": "e224f94d74c940339e3035ef1aee5029",
       "version_major": 2,
       "version_minor": 0
      },
      "text/plain": [
       "Downloading images for Thomas Lasky:   0%|          | 0/50 [00:00<?, ?it/s]"
      ]
     },
     "metadata": {},
     "output_type": "display_data"
    },
    {
     "data": {
      "application/vnd.jupyter.widget-view+json": {
       "model_id": "a2ea8aaec67b47fab21d545e847c6704",
       "version_major": 2,
       "version_minor": 0
      },
      "text/plain": [
       "Downloading images for Roland:   0%|          | 0/50 [00:00<?, ?it/s]"
      ]
     },
     "metadata": {},
     "output_type": "display_data"
    },
    {
     "data": {
      "application/vnd.jupyter.widget-view+json": {
       "model_id": "51d61e5cf8ba4cccb1563b71cbde3d2c",
       "version_major": 2,
       "version_minor": 0
      },
      "text/plain": [
       "Downloading images for The Weapon:   0%|          | 0/50 [00:00<?, ?it/s]"
      ]
     },
     "metadata": {},
     "output_type": "display_data"
    },
    {
     "data": {
      "application/vnd.jupyter.widget-view+json": {
       "model_id": "09fe9c2fe3e34453997d879effb9ca8a",
       "version_major": 2,
       "version_minor": 0
      },
      "text/plain": [
       "Downloading images for Echo-216:   0%|          | 0/50 [00:00<?, ?it/s]"
      ]
     },
     "metadata": {},
     "output_type": "display_data"
    },
    {
     "data": {
      "application/vnd.jupyter.widget-view+json": {
       "model_id": "efc17fdcd7ef4905ba8a808b282c1635",
       "version_major": 2,
       "version_minor": 0
      },
      "text/plain": [
       "Downloading images for Fred-104:   0%|          | 0/50 [00:00<?, ?it/s]"
      ]
     },
     "metadata": {},
     "output_type": "display_data"
    },
    {
     "data": {
      "application/vnd.jupyter.widget-view+json": {
       "model_id": "b82148d0eb56464497a4b71da7bc08c5",
       "version_major": 2,
       "version_minor": 0
      },
      "text/plain": [
       "Downloading images for Linda-058:   0%|          | 0/50 [00:00<?, ?it/s]"
      ]
     },
     "metadata": {},
     "output_type": "display_data"
    },
    {
     "data": {
      "application/vnd.jupyter.widget-view+json": {
       "model_id": "45f48409a7ce4facb2103af4c4bfa4b6",
       "version_major": 2,
       "version_minor": 0
      },
      "text/plain": [
       "Downloading images for Kelly-087:   0%|          | 0/50 [00:00<?, ?it/s]"
      ]
     },
     "metadata": {},
     "output_type": "display_data"
    },
    {
     "data": {
      "application/vnd.jupyter.widget-view+json": {
       "model_id": "a535a9b57d9f4f7ab3b7f93a61640ab4",
       "version_major": 2,
       "version_minor": 0
      },
      "text/plain": [
       "Downloading images for Sarah Palmer:   0%|          | 0/50 [00:00<?, ?it/s]"
      ]
     },
     "metadata": {},
     "output_type": "display_data"
    },
    {
     "data": {
      "application/vnd.jupyter.widget-view+json": {
       "model_id": "9f5f469aaac3409fb07d2b36f448a5b9",
       "version_major": 2,
       "version_minor": 0
      },
      "text/plain": [
       "Downloading images for Edward Buck:   0%|          | 0/50 [00:00<?, ?it/s]"
      ]
     },
     "metadata": {},
     "output_type": "display_data"
    },
    {
     "data": {
      "application/vnd.jupyter.widget-view+json": {
       "model_id": "9849dca1950144e8a92bae9fe341194b",
       "version_major": 2,
       "version_minor": 0
      },
      "text/plain": [
       "Downloading images for Noble Six:   0%|          | 0/50 [00:00<?, ?it/s]"
      ]
     },
     "metadata": {},
     "output_type": "display_data"
    },
    {
     "data": {
      "application/vnd.jupyter.widget-view+json": {
       "model_id": "2f789c1fb1e640528b6bbc9abf78b38a",
       "version_major": 2,
       "version_minor": 0
      },
      "text/plain": [
       "Downloading images for Jameson Locke:   0%|          | 0/50 [00:00<?, ?it/s]"
      ]
     },
     "metadata": {},
     "output_type": "display_data"
    },
    {
     "data": {
      "application/vnd.jupyter.widget-view+json": {
       "model_id": "6458dde588a74177b4b0668e5b5785c4",
       "version_major": 2,
       "version_minor": 0
      },
      "text/plain": [
       "Downloading images for Mickey Crespo:   0%|          | 0/50 [00:00<?, ?it/s]"
      ]
     },
     "metadata": {},
     "output_type": "display_data"
    },
    {
     "data": {
      "application/vnd.jupyter.widget-view+json": {
       "model_id": "c11d4e1b980842649f6f3eeee9f10a33",
       "version_major": 2,
       "version_minor": 0
      },
      "text/plain": [
       "Downloading images for Romeo Agusto:   0%|          | 0/50 [00:00<?, ?it/s]"
      ]
     },
     "metadata": {},
     "output_type": "display_data"
    },
    {
     "data": {
      "application/vnd.jupyter.widget-view+json": {
       "model_id": "6c00491ba7d4426ab17a09b4d1d39d74",
       "version_major": 2,
       "version_minor": 0
      },
      "text/plain": [
       "Downloading images for Dutch Miles:   0%|          | 0/50 [00:00<?, ?it/s]"
      ]
     },
     "metadata": {},
     "output_type": "display_data"
    },
    {
     "data": {
      "application/vnd.jupyter.widget-view+json": {
       "model_id": "4781c07b31ca4af3b99cd1a919952df2",
       "version_major": 2,
       "version_minor": 0
      },
      "text/plain": [
       "Downloading images for The Arbiter:   0%|          | 0/50 [00:00<?, ?it/s]"
      ]
     },
     "metadata": {},
     "output_type": "display_data"
    },
    {
     "data": {
      "application/vnd.jupyter.widget-view+json": {
       "model_id": "46714ccd04e84f5f932b50747548596f",
       "version_major": 2,
       "version_minor": 0
      },
      "text/plain": [
       "Downloading images for Tartarus:   0%|          | 0/50 [00:00<?, ?it/s]"
      ]
     },
     "metadata": {},
     "output_type": "display_data"
    },
    {
     "data": {
      "application/vnd.jupyter.widget-view+json": {
       "model_id": "5b3d7352d44643fda57eb4866037519a",
       "version_major": 2,
       "version_minor": 0
      },
      "text/plain": [
       "Downloading images for Gravemind:   0%|          | 0/50 [00:00<?, ?it/s]"
      ]
     },
     "metadata": {},
     "output_type": "display_data"
    },
    {
     "data": {
      "application/vnd.jupyter.widget-view+json": {
       "model_id": "5bdf5392f700496ebaa894662b05a12b",
       "version_major": 2,
       "version_minor": 0
      },
      "text/plain": [
       "Downloading images for 343 Guilty Spark:   0%|          | 0/50 [00:00<?, ?it/s]"
      ]
     },
     "metadata": {},
     "output_type": "display_data"
    },
    {
     "data": {
      "application/vnd.jupyter.widget-view+json": {
       "model_id": "18df8b9dbb864e24b89ee4e5b4274b50",
       "version_major": 2,
       "version_minor": 0
      },
      "text/plain": [
       "Downloading images for Rtas 'Vadum:   0%|          | 0/50 [00:00<?, ?it/s]"
      ]
     },
     "metadata": {},
     "output_type": "display_data"
    },
    {
     "data": {
      "application/vnd.jupyter.widget-view+json": {
       "model_id": "83adff9a961f4615b3a61c96ea76d877",
       "version_major": 2,
       "version_minor": 0
      },
      "text/plain": [
       "Downloading images for Thel 'Vadam:   0%|          | 0/50 [00:00<?, ?it/s]"
      ]
     },
     "metadata": {},
     "output_type": "display_data"
    },
    {
     "data": {
      "application/vnd.jupyter.widget-view+json": {
       "model_id": "357f88b54058465bb62f8404f4480992",
       "version_major": 2,
       "version_minor": 0
      },
      "text/plain": [
       "Downloading images for Vor' Donnie 'Atin:   0%|          | 0/50 [00:00<?, ?it/s]"
      ]
     },
     "metadata": {},
     "output_type": "display_data"
    },
    {
     "data": {
      "application/vnd.jupyter.widget-view+json": {
       "model_id": "5d121d768de74e74a6b1b2569f3bd9df",
       "version_major": 2,
       "version_minor": 0
      },
      "text/plain": [
       "Downloading images for Anarki:   0%|          | 0/50 [00:00<?, ?it/s]"
      ]
     },
     "metadata": {},
     "output_type": "display_data"
    },
    {
     "data": {
      "application/vnd.jupyter.widget-view+json": {
       "model_id": "97b53adab56a4e359dfcffdf2c55d1fd",
       "version_major": 2,
       "version_minor": 0
      },
      "text/plain": [
       "Downloading images for Doomguy:   0%|          | 0/50 [00:00<?, ?it/s]"
      ]
     },
     "metadata": {},
     "output_type": "display_data"
    },
    {
     "data": {
      "application/vnd.jupyter.widget-view+json": {
       "model_id": "c672db2e0e9a45049497d7b8d159516a",
       "version_major": 2,
       "version_minor": 0
      },
      "text/plain": [
       "Downloading images for B.j. blazkowicz:   0%|          | 0/50 [00:00<?, ?it/s]"
      ]
     },
     "metadata": {},
     "output_type": "display_data"
    },
    {
     "data": {
      "application/vnd.jupyter.widget-view+json": {
       "model_id": "12aefddc6fa24b1790640cae4fbbee97",
       "version_major": 2,
       "version_minor": 0
      },
      "text/plain": [
       "Downloading images for Sorlag:   0%|          | 0/50 [00:00<?, ?it/s]"
      ]
     },
     "metadata": {},
     "output_type": "display_data"
    },
    {
     "data": {
      "application/vnd.jupyter.widget-view+json": {
       "model_id": "c2744ff05f1b4870ac9b7eacf3c4f30a",
       "version_major": 2,
       "version_minor": 0
      },
      "text/plain": [
       "Downloading images for Galena:   0%|          | 0/50 [00:00<?, ?it/s]"
      ]
     },
     "metadata": {},
     "output_type": "display_data"
    },
    {
     "data": {
      "application/vnd.jupyter.widget-view+json": {
       "model_id": "3ec62e3cf8574d948610902b785d85d3",
       "version_major": 2,
       "version_minor": 0
      },
      "text/plain": [
       "Downloading images for Scalebearer:   0%|          | 0/50 [00:00<?, ?it/s]"
      ]
     },
     "metadata": {},
     "output_type": "display_data"
    },
    {
     "data": {
      "application/vnd.jupyter.widget-view+json": {
       "model_id": "cf23689f23e7427088932a80f1ba974a",
       "version_major": 2,
       "version_minor": 0
      },
      "text/plain": [
       "Downloading images for Athena:   0%|          | 0/50 [00:00<?, ?it/s]"
      ]
     },
     "metadata": {},
     "output_type": "display_data"
    },
    {
     "data": {
      "application/vnd.jupyter.widget-view+json": {
       "model_id": "b3bf7e88ed2748749a0dc28a2a5d0432",
       "version_major": 2,
       "version_minor": 0
      },
      "text/plain": [
       "Downloading images for Bitterman:   0%|          | 0/50 [00:00<?, ?it/s]"
      ]
     },
     "metadata": {},
     "output_type": "display_data"
    },
    {
     "data": {
      "application/vnd.jupyter.widget-view+json": {
       "model_id": "dc707c92447746adac184d63996b9315",
       "version_major": 2,
       "version_minor": 0
      },
      "text/plain": [
       "Downloading images for Sarge:   0%|          | 0/50 [00:00<?, ?it/s]"
      ]
     },
     "metadata": {},
     "output_type": "display_data"
    },
    {
     "data": {
      "application/vnd.jupyter.widget-view+json": {
       "model_id": "87c6e473badc4996a587151cc9f72820",
       "version_major": 2,
       "version_minor": 0
      },
      "text/plain": [
       "Downloading images for H u n t e r:   0%|          | 0/50 [00:00<?, ?it/s]"
      ]
     },
     "metadata": {},
     "output_type": "display_data"
    },
    {
     "data": {
      "application/vnd.jupyter.widget-view+json": {
       "model_id": "85aa304e98144d7291ffb7cf941aaadb",
       "version_major": 2,
       "version_minor": 0
      },
      "text/plain": [
       "Downloading images for Strogg & peeker:   0%|          | 0/50 [00:00<?, ?it/s]"
      ]
     },
     "metadata": {},
     "output_type": "display_data"
    },
    {
     "data": {
      "application/vnd.jupyter.widget-view+json": {
       "model_id": "300c3da28f8e45b287ca6cb4c4a52db6",
       "version_major": 2,
       "version_minor": 0
      },
      "text/plain": [
       "Downloading images for Quake Guy:   0%|          | 0/50 [00:00<?, ?it/s]"
      ]
     },
     "metadata": {},
     "output_type": "display_data"
    },
    {
     "data": {
      "application/vnd.jupyter.widget-view+json": {
       "model_id": "f725277a576840128d22a3a6547f2ff4",
       "version_major": 2,
       "version_minor": 0
      },
      "text/plain": [
       "Downloading images for Mynx:   0%|          | 0/50 [00:00<?, ?it/s]"
      ]
     },
     "metadata": {},
     "output_type": "display_data"
    },
    {
     "data": {
      "application/vnd.jupyter.widget-view+json": {
       "model_id": "04647c6f43644cc6b09400ac52cbbb49",
       "version_major": 2,
       "version_minor": 0
      },
      "text/plain": [
       "Downloading images for Dire Orb:   0%|          | 0/50 [00:00<?, ?it/s]"
      ]
     },
     "metadata": {},
     "output_type": "display_data"
    },
    {
     "data": {
      "application/vnd.jupyter.widget-view+json": {
       "model_id": "25554efbd7eb469aad17728d400f963f",
       "version_major": 2,
       "version_minor": 0
      },
      "text/plain": [
       "Downloading images for Chthon:   0%|          | 0/50 [00:00<?, ?it/s]"
      ]
     },
     "metadata": {},
     "output_type": "display_data"
    },
    {
     "data": {
      "application/vnd.jupyter.widget-view+json": {
       "model_id": "67a13ea80d0846d8b0d5ca9147637532",
       "version_major": 2,
       "version_minor": 0
      },
      "text/plain": [
       "Downloading images for Strogg:   0%|          | 0/50 [00:00<?, ?it/s]"
      ]
     },
     "metadata": {},
     "output_type": "display_data"
    },
    {
     "data": {
      "application/vnd.jupyter.widget-view+json": {
       "model_id": "3f88b263a50f41cb96b27b81e8db791f",
       "version_major": 2,
       "version_minor": 0
      },
      "text/plain": [
       "Downloading images for Xaero:   0%|          | 0/50 [00:00<?, ?it/s]"
      ]
     },
     "metadata": {},
     "output_type": "display_data"
    },
    {
     "data": {
      "application/vnd.jupyter.widget-view+json": {
       "model_id": "f98c6397e8544207aeec88cae9023698",
       "version_major": 2,
       "version_minor": 0
      },
      "text/plain": [
       "Downloading images for Tank jr:   0%|          | 0/50 [00:00<?, ?it/s]"
      ]
     },
     "metadata": {},
     "output_type": "display_data"
    },
    {
     "data": {
      "application/vnd.jupyter.widget-view+json": {
       "model_id": "e9683bb082194fbaafd4f057fe09ac96",
       "version_major": 2,
       "version_minor": 0
      },
      "text/plain": [
       "Downloading images for Phobos:   0%|          | 0/50 [00:00<?, ?it/s]"
      ]
     },
     "metadata": {},
     "output_type": "display_data"
    },
    {
     "data": {
      "application/vnd.jupyter.widget-view+json": {
       "model_id": "8a97882e699748e88840f598652a30ca",
       "version_major": 2,
       "version_minor": 0
      },
      "text/plain": [
       "Downloading images for Duke Nukem:   0%|          | 0/50 [00:00<?, ?it/s]"
      ]
     },
     "metadata": {},
     "output_type": "display_data"
    },
    {
     "data": {
      "application/vnd.jupyter.widget-view+json": {
       "model_id": "bc92d9cfaa32415baf50c7c495f1a3a2",
       "version_major": 2,
       "version_minor": 0
      },
      "text/plain": [
       "Downloading images for Makron:   0%|          | 0/50 [00:00<?, ?it/s]"
      ]
     },
     "metadata": {},
     "output_type": "display_data"
    },
    {
     "data": {
      "application/vnd.jupyter.widget-view+json": {
       "model_id": "106b8e6e4c3f4e40ac77fc5fddf13137",
       "version_major": 2,
       "version_minor": 0
      },
      "text/plain": [
       "Downloading images for Kane:   0%|          | 0/50 [00:00<?, ?it/s]"
      ]
     },
     "metadata": {},
     "output_type": "display_data"
    },
    {
     "data": {
      "application/vnd.jupyter.widget-view+json": {
       "model_id": "a696aaa721e64e83b941a57123c96a37",
       "version_major": 2,
       "version_minor": 0
      },
      "text/plain": [
       "Downloading images for Caleb:   0%|          | 0/50 [00:00<?, ?it/s]"
      ]
     },
     "metadata": {},
     "output_type": "display_data"
    },
    {
     "data": {
      "application/vnd.jupyter.widget-view+json": {
       "model_id": "c79584bc478c42599acb170f053747d9",
       "version_major": 2,
       "version_minor": 0
      },
      "text/plain": [
       "Downloading images for Eleena:   0%|          | 0/50 [00:00<?, ?it/s]"
      ]
     },
     "metadata": {},
     "output_type": "display_data"
    },
    {
     "data": {
      "application/vnd.jupyter.widget-view+json": {
       "model_id": "e5a963fcff1f4380a59938fc41524e71",
       "version_major": 2,
       "version_minor": 0
      },
      "text/plain": [
       "Downloading images for Dusa:   0%|          | 0/50 [00:00<?, ?it/s]"
      ]
     },
     "metadata": {},
     "output_type": "display_data"
    },
    {
     "data": {
      "application/vnd.jupyter.widget-view+json": {
       "model_id": "ec27f894326d42f391147bdaf8a1db77",
       "version_major": 2,
       "version_minor": 0
      },
      "text/plain": [
       "Downloading images for Asterius:   0%|          | 0/50 [00:00<?, ?it/s]"
      ]
     },
     "metadata": {},
     "output_type": "display_data"
    },
    {
     "data": {
      "application/vnd.jupyter.widget-view+json": {
       "model_id": "663fcdf5a8684b38b2473361c659c305",
       "version_major": 2,
       "version_minor": 0
      },
      "text/plain": [
       "Downloading images for Megaera:   0%|          | 0/50 [00:00<?, ?it/s]"
      ]
     },
     "metadata": {},
     "output_type": "display_data"
    },
    {
     "data": {
      "application/vnd.jupyter.widget-view+json": {
       "model_id": "186afeee71a14395bd6b4712ee8a9255",
       "version_major": 2,
       "version_minor": 0
      },
      "text/plain": [
       "Downloading images for Thanatos:   0%|          | 0/50 [00:00<?, ?it/s]"
      ]
     },
     "metadata": {},
     "output_type": "display_data"
    },
    {
     "data": {
      "application/vnd.jupyter.widget-view+json": {
       "model_id": "b117b7fab2e949df90e336707b3f4f80",
       "version_major": 2,
       "version_minor": 0
      },
      "text/plain": [
       "Downloading images for Artemis:   0%|          | 0/50 [00:00<?, ?it/s]"
      ]
     },
     "metadata": {},
     "output_type": "display_data"
    },
    {
     "data": {
      "application/vnd.jupyter.widget-view+json": {
       "model_id": "7120b505426547e7b085c0810060a9ff",
       "version_major": 2,
       "version_minor": 0
      },
      "text/plain": [
       "Downloading images for Alecto:   0%|          | 0/50 [00:00<?, ?it/s]"
      ]
     },
     "metadata": {},
     "output_type": "display_data"
    },
    {
     "data": {
      "application/vnd.jupyter.widget-view+json": {
       "model_id": "7506fc94c1de432897ca9046beba0419",
       "version_major": 2,
       "version_minor": 0
      },
      "text/plain": [
       "Downloading images for Dionysus:   0%|          | 0/50 [00:00<?, ?it/s]"
      ]
     },
     "metadata": {},
     "output_type": "display_data"
    },
    {
     "data": {
      "application/vnd.jupyter.widget-view+json": {
       "model_id": "a3c5787d964e4411a08487432810201a",
       "version_major": 2,
       "version_minor": 0
      },
      "text/plain": [
       "Downloading images for Hypnos:   0%|          | 0/50 [00:00<?, ?it/s]"
      ]
     },
     "metadata": {},
     "output_type": "display_data"
    },
    {
     "data": {
      "application/vnd.jupyter.widget-view+json": {
       "model_id": "612ae96ad381463f897f3c1e6cb208ca",
       "version_major": 2,
       "version_minor": 0
      },
      "text/plain": [
       "Downloading images for Zagreus:   0%|          | 0/50 [00:00<?, ?it/s]"
      ]
     },
     "metadata": {},
     "output_type": "display_data"
    },
    {
     "data": {
      "application/vnd.jupyter.widget-view+json": {
       "model_id": "642d615601c2447fb7a73b4211104679",
       "version_major": 2,
       "version_minor": 0
      },
      "text/plain": [
       "Downloading images for Aphrodite:   0%|          | 0/50 [00:00<?, ?it/s]"
      ]
     },
     "metadata": {},
     "output_type": "display_data"
    },
    {
     "data": {
      "application/vnd.jupyter.widget-view+json": {
       "model_id": "7d962cf8ad97415e89ba571a5832616b",
       "version_major": 2,
       "version_minor": 0
      },
      "text/plain": [
       "Downloading images for Pain and Panic:   0%|          | 0/50 [00:00<?, ?it/s]"
      ]
     },
     "metadata": {},
     "output_type": "display_data"
    },
    {
     "data": {
      "application/vnd.jupyter.widget-view+json": {
       "model_id": "45c1c3e009494d3692cf09c7b905630f",
       "version_major": 2,
       "version_minor": 0
      },
      "text/plain": [
       "Downloading images for Hercules:   0%|          | 0/50 [00:00<?, ?it/s]"
      ]
     },
     "metadata": {},
     "output_type": "display_data"
    },
    {
     "data": {
      "application/vnd.jupyter.widget-view+json": {
       "model_id": "9f86ed0520864268b5483fee926577ed",
       "version_major": 2,
       "version_minor": 0
      },
      "text/plain": [
       "Downloading images for Megara:   0%|          | 0/50 [00:00<?, ?it/s]"
      ]
     },
     "metadata": {},
     "output_type": "display_data"
    },
    {
     "data": {
      "application/vnd.jupyter.widget-view+json": {
       "model_id": "5319f94097284a88bfd1b7a6fe3a5168",
       "version_major": 2,
       "version_minor": 0
      },
      "text/plain": [
       "Downloading images for Fates:   0%|          | 0/50 [00:00<?, ?it/s]"
      ]
     },
     "metadata": {},
     "output_type": "display_data"
    },
    {
     "data": {
      "application/vnd.jupyter.widget-view+json": {
       "model_id": "71e116ddf1734919b1d383ec2fdfbdcc",
       "version_major": 2,
       "version_minor": 0
      },
      "text/plain": [
       "Downloading images for Melinoë:   0%|          | 0/50 [00:00<?, ?it/s]"
      ]
     },
     "metadata": {},
     "output_type": "display_data"
    },
    {
     "data": {
      "application/vnd.jupyter.widget-view+json": {
       "model_id": "e40f30b0123b4da9994cad10164f7e77",
       "version_major": 2,
       "version_minor": 0
      },
      "text/plain": [
       "Downloading images for Price:   0%|          | 0/50 [00:00<?, ?it/s]"
      ]
     },
     "metadata": {},
     "output_type": "display_data"
    },
    {
     "data": {
      "application/vnd.jupyter.widget-view+json": {
       "model_id": "10f3de32c7054830aaaf39c097b4c9d8",
       "version_major": 2,
       "version_minor": 0
      },
      "text/plain": [
       "Downloading images for John McClane:   0%|          | 0/50 [00:00<?, ?it/s]"
      ]
     },
     "metadata": {},
     "output_type": "display_data"
    },
    {
     "data": {
      "application/vnd.jupyter.widget-view+json": {
       "model_id": "7126fc6283fc4f80804bb093399011bb",
       "version_major": 2,
       "version_minor": 0
      },
      "text/plain": [
       "Downloading images for Khaled Al-Asad:   0%|          | 0/50 [00:00<?, ?it/s]"
      ]
     },
     "metadata": {},
     "output_type": "display_data"
    },
    {
     "data": {
      "application/vnd.jupyter.widget-view+json": {
       "model_id": "08b5d4c908c9411793542791dea66415",
       "version_major": 2,
       "version_minor": 0
      },
      "text/plain": [
       "Downloading images for Russell Adler:   0%|          | 0/50 [00:00<?, ?it/s]"
      ]
     },
     "metadata": {},
     "output_type": "display_data"
    },
    {
     "data": {
      "application/vnd.jupyter.widget-view+json": {
       "model_id": "40aa8d327bd74cd897a5c6ca1192b865",
       "version_major": 2,
       "version_minor": 0
      },
      "text/plain": [
       "Downloading images for Arthur Kingsley:   0%|          | 0/50 [00:00<?, ?it/s]"
      ]
     },
     "metadata": {},
     "output_type": "display_data"
    },
    {
     "data": {
      "application/vnd.jupyter.widget-view+json": {
       "model_id": "ba86db5136ce434695342734d3057dbd",
       "version_major": 2,
       "version_minor": 0
      },
      "text/plain": [
       "Downloading images for Simon \"Ghost\" Riley:   0%|          | 0/50 [00:00<?, ?it/s]"
      ]
     },
     "metadata": {},
     "output_type": "display_data"
    },
    {
     "data": {
      "application/vnd.jupyter.widget-view+json": {
       "model_id": "59f96622508348bfa00d1d6b25b052b1",
       "version_major": 2,
       "version_minor": 0
      },
      "text/plain": [
       "Downloading images for Ghostface:   0%|          | 0/50 [00:00<?, ?it/s]"
      ]
     },
     "metadata": {},
     "output_type": "display_data"
    },
    {
     "data": {
      "application/vnd.jupyter.widget-view+json": {
       "model_id": "bb24e4a7ded04077ac14b6c43f7b2900",
       "version_major": 2,
       "version_minor": 0
      },
      "text/plain": [
       "Downloading images for David Mason:   0%|          | 0/50 [00:00<?, ?it/s]"
      ]
     },
     "metadata": {},
     "output_type": "display_data"
    },
    {
     "data": {
      "application/vnd.jupyter.widget-view+json": {
       "model_id": "3dcc2c78de6f4312bd25cab294cdcf88",
       "version_major": 2,
       "version_minor": 0
      },
      "text/plain": [
       "Downloading images for Frank Woods:   0%|          | 0/50 [00:00<?, ?it/s]"
      ]
     },
     "metadata": {},
     "output_type": "display_data"
    },
    {
     "data": {
      "application/vnd.jupyter.widget-view+json": {
       "model_id": "50f7f00a9a3a4b03b251338e9ac154c4",
       "version_major": 2,
       "version_minor": 0
      },
      "text/plain": [
       "Downloading images for John Rambo:   0%|          | 0/50 [00:00<?, ?it/s]"
      ]
     },
     "metadata": {},
     "output_type": "display_data"
    },
    {
     "data": {
      "application/vnd.jupyter.widget-view+json": {
       "model_id": "3708a2b1c10848c891b4ef5dc54d53e0",
       "version_major": 2,
       "version_minor": 0
      },
      "text/plain": [
       "Downloading images for Dimitri Petrenko:   0%|          | 0/50 [00:00<?, ?it/s]"
      ]
     },
     "metadata": {},
     "output_type": "display_data"
    },
    {
     "data": {
      "application/vnd.jupyter.widget-view+json": {
       "model_id": "0f0d130a16ec43fc88a8cc18850d5a47",
       "version_major": 2,
       "version_minor": 0
      },
      "text/plain": [
       "Downloading images for Norman Delaney:   0%|          | 0/50 [00:00<?, ?it/s]"
      ]
     },
     "metadata": {},
     "output_type": "display_data"
    },
    {
     "data": {
      "application/vnd.jupyter.widget-view+json": {
       "model_id": "0675ff1bfa824367a780aaac95e359e8",
       "version_major": 2,
       "version_minor": 0
      },
      "text/plain": [
       "Downloading images for Sarah Leary:   0%|          | 0/50 [00:00<?, ?it/s]"
      ]
     },
     "metadata": {},
     "output_type": "display_data"
    },
    {
     "data": {
      "application/vnd.jupyter.widget-view+json": {
       "model_id": "afa19602a70745b4bf608ca16cf09829",
       "version_major": 2,
       "version_minor": 0
      },
      "text/plain": [
       "Downloading images for Grigori Weaver:   0%|          | 0/50 [00:00<?, ?it/s]"
      ]
     },
     "metadata": {},
     "output_type": "display_data"
    },
    {
     "data": {
      "application/vnd.jupyter.widget-view+json": {
       "model_id": "29290c912d6b49afbeb374aa29d03643",
       "version_major": 2,
       "version_minor": 0
      },
      "text/plain": [
       "Downloading images for Blake:   0%|          | 0/50 [00:00<?, ?it/s]"
      ]
     },
     "metadata": {},
     "output_type": "display_data"
    },
    {
     "data": {
      "application/vnd.jupyter.widget-view+json": {
       "model_id": "e6326a97b69943b980aab8c828ffc4df",
       "version_major": 2,
       "version_minor": 0
      },
      "text/plain": [
       "Downloading images for Booth:   0%|          | 0/50 [00:00<?, ?it/s]"
      ]
     },
     "metadata": {},
     "output_type": "display_data"
    },
    {
     "data": {
      "application/vnd.jupyter.widget-view+json": {
       "model_id": "7e67047fcc934439878c5d924fc29052",
       "version_major": 2,
       "version_minor": 0
      },
      "text/plain": [
       "Downloading images for Vladimir Makarov:   0%|          | 0/50 [00:00<?, ?it/s]"
      ]
     },
     "metadata": {},
     "output_type": "display_data"
    },
    {
     "data": {
      "application/vnd.jupyter.widget-view+json": {
       "model_id": "96f8da2242e74a459c380cc4a8121319",
       "version_major": 2,
       "version_minor": 0
      },
      "text/plain": [
       "Downloading images for Wade Jackson:   0%|          | 0/50 [00:00<?, ?it/s]"
      ]
     },
     "metadata": {},
     "output_type": "display_data"
    },
    {
     "data": {
      "application/vnd.jupyter.widget-view+json": {
       "model_id": "a08889a075554ddd98abfe78b3b59f3d",
       "version_major": 2,
       "version_minor": 0
      },
      "text/plain": [
       "Downloading images for Alex Mason:   0%|          | 0/50 [00:00<?, ?it/s]"
      ]
     },
     "metadata": {},
     "output_type": "display_data"
    },
    {
     "data": {
      "application/vnd.jupyter.widget-view+json": {
       "model_id": "9a3e3f3f9b814caa8c2fda8237f55fca",
       "version_major": 2,
       "version_minor": 0
      },
      "text/plain": [
       "Downloading images for Nikolai Belinski:   0%|          | 0/50 [00:00<?, ?it/s]"
      ]
     },
     "metadata": {},
     "output_type": "display_data"
    },
    {
     "data": {
      "application/vnd.jupyter.widget-view+json": {
       "model_id": "a095702138c0417aaecfcbc6db1e6254",
       "version_major": 2,
       "version_minor": 0
      },
      "text/plain": [
       "Downloading images for Neitsch:   0%|          | 0/50 [00:00<?, ?it/s]"
      ]
     },
     "metadata": {},
     "output_type": "display_data"
    },
    {
     "data": {
      "application/vnd.jupyter.widget-view+json": {
       "model_id": "74e7ee0ca64943f4b6a7b658ef31c932",
       "version_major": 2,
       "version_minor": 0
      },
      "text/plain": [
       "Downloading images for Bohater Wojciech:   0%|          | 0/50 [00:00<?, ?it/s]"
      ]
     },
     "metadata": {},
     "output_type": "display_data"
    },
    {
     "data": {
      "application/vnd.jupyter.widget-view+json": {
       "model_id": "25e5561ac0574e1c96e5bb0657876876",
       "version_major": 2,
       "version_minor": 0
      },
      "text/plain": [
       "Downloading images for Helen Park:   0%|          | 0/50 [00:00<?, ?it/s]"
      ]
     },
     "metadata": {},
     "output_type": "display_data"
    },
    {
     "data": {
      "application/vnd.jupyter.widget-view+json": {
       "model_id": "0770eb485126438f9410a0216f105562",
       "version_major": 2,
       "version_minor": 0
      },
      "text/plain": [
       "Downloading images for Black Noir:   0%|          | 0/50 [00:00<?, ?it/s]"
      ]
     },
     "metadata": {},
     "output_type": "display_data"
    },
    {
     "data": {
      "application/vnd.jupyter.widget-view+json": {
       "model_id": "49cf8de6dbd44c7c9108801ed1b20406",
       "version_major": 2,
       "version_minor": 0
      },
      "text/plain": [
       "Downloading images for Paul Jackson:   0%|          | 0/50 [00:00<?, ?it/s]"
      ]
     },
     "metadata": {},
     "output_type": "display_data"
    },
    {
     "data": {
      "application/vnd.jupyter.widget-view+json": {
       "model_id": "5d57e69ef6ed40cc97988a141b44d355",
       "version_major": 2,
       "version_minor": 0
      },
      "text/plain": [
       "Downloading images for John Davis:   0%|          | 0/50 [00:00<?, ?it/s]"
      ]
     },
     "metadata": {},
     "output_type": "display_data"
    },
    {
     "data": {
      "application/vnd.jupyter.widget-view+json": {
       "model_id": "5bcb32093f7b42718320dfc6774133dc",
       "version_major": 2,
       "version_minor": 0
      },
      "text/plain": [
       "Downloading images for Brock:   0%|          | 0/50 [00:00<?, ?it/s]"
      ]
     },
     "metadata": {},
     "output_type": "display_data"
    },
    {
     "data": {
      "application/vnd.jupyter.widget-view+json": {
       "model_id": "ae150d4240ea4696bfe505363276608a",
       "version_major": 2,
       "version_minor": 0
      },
      "text/plain": [
       "Downloading images for Sergei Konstantinov:   0%|          | 0/50 [00:00<?, ?it/s]"
      ]
     },
     "metadata": {},
     "output_type": "display_data"
    },
    {
     "data": {
      "application/vnd.jupyter.widget-view+json": {
       "model_id": "54168c9c8306491f9c35e1b9b7e4f5d4",
       "version_major": 2,
       "version_minor": 0
      },
      "text/plain": [
       "Downloading images for Jason Hudson:   0%|          | 0/50 [00:00<?, ?it/s]"
      ]
     },
     "metadata": {},
     "output_type": "display_data"
    },
    {
     "data": {
      "application/vnd.jupyter.widget-view+json": {
       "model_id": "1fc0ea0e7be040aebae75255a4b7d01d",
       "version_major": 2,
       "version_minor": 0
      },
      "text/plain": [
       "Downloading images for Farid:   0%|          | 0/50 [00:00<?, ?it/s]"
      ]
     },
     "metadata": {},
     "output_type": "display_data"
    },
    {
     "data": {
      "application/vnd.jupyter.widget-view+json": {
       "model_id": "1a1d7786fa5b4286b793e341cfcd7eaa",
       "version_major": 2,
       "version_minor": 0
      },
      "text/plain": [
       "Downloading images for T-1000:   0%|          | 0/50 [00:00<?, ?it/s]"
      ]
     },
     "metadata": {},
     "output_type": "display_data"
    },
    {
     "data": {
      "application/vnd.jupyter.widget-view+json": {
       "model_id": "872c382117374563b5d05b8149ddf56a",
       "version_major": 2,
       "version_minor": 0
      },
      "text/plain": [
       "Downloading images for 21 Savage:   0%|          | 0/50 [00:00<?, ?it/s]"
      ]
     },
     "metadata": {},
     "output_type": "display_data"
    },
    {
     "data": {
      "application/vnd.jupyter.widget-view+json": {
       "model_id": "d8aef2c670d34061a22d2bcb85a019f8",
       "version_major": 2,
       "version_minor": 0
      },
      "text/plain": [
       "Downloading images for Billy Handsome:   0%|          | 0/50 [00:00<?, ?it/s]"
      ]
     },
     "metadata": {},
     "output_type": "display_data"
    },
    {
     "data": {
      "application/vnd.jupyter.widget-view+json": {
       "model_id": "de892cc0978e49d5bc42214066e954bb",
       "version_major": 2,
       "version_minor": 0
      },
      "text/plain": [
       "Downloading images for Nikolai Badanov:   0%|          | 0/50 [00:00<?, ?it/s]"
      ]
     },
     "metadata": {},
     "output_type": "display_data"
    },
    {
     "data": {
      "application/vnd.jupyter.widget-view+json": {
       "model_id": "295953dab9004d1a9179eeb873eb2ae2",
       "version_major": 2,
       "version_minor": 0
      },
      "text/plain": [
       "Downloading images for Gary:   0%|          | 0/50 [00:00<?, ?it/s]"
      ]
     },
     "metadata": {},
     "output_type": "display_data"
    },
    {
     "data": {
      "application/vnd.jupyter.widget-view+json": {
       "model_id": "aea47a6472a0449c817f208b37f6009b",
       "version_major": 2,
       "version_minor": 0
      },
      "text/plain": [
       "Downloading images for Logan Walker:   0%|          | 0/50 [00:00<?, ?it/s]"
      ]
     },
     "metadata": {},
     "output_type": "display_data"
    },
    {
     "data": {
      "application/vnd.jupyter.widget-view+json": {
       "model_id": "79168ed9a82b4157b8b072b4aebabbb0",
       "version_major": 2,
       "version_minor": 0
      },
      "text/plain": [
       "Downloading images for Joseph Allen:   0%|          | 0/50 [00:00<?, ?it/s]"
      ]
     },
     "metadata": {},
     "output_type": "display_data"
    },
    {
     "data": {
      "application/vnd.jupyter.widget-view+json": {
       "model_id": "2489ac71056b4b38aff4114d6ad2e38d",
       "version_major": 2,
       "version_minor": 0
      },
      "text/plain": [
       "Downloading images for Robert McNamara:   0%|          | 0/50 [00:00<?, ?it/s]"
      ]
     },
     "metadata": {},
     "output_type": "display_data"
    },
    {
     "data": {
      "application/vnd.jupyter.widget-view+json": {
       "model_id": "03b3d375160d4a68b7bbb19eb93543a0",
       "version_major": 2,
       "version_minor": 0
      },
      "text/plain": [
       "Downloading images for Lucas Riggs:   0%|          | 0/50 [00:00<?, ?it/s]"
      ]
     },
     "metadata": {},
     "output_type": "display_data"
    },
    {
     "data": {
      "application/vnd.jupyter.widget-view+json": {
       "model_id": "5e3312d4cf4d4dc2b62d28d0e00dd857",
       "version_major": 2,
       "version_minor": 0
      },
      "text/plain": [
       "Downloading images for Edward Carlyle:   0%|          | 0/50 [00:00<?, ?it/s]"
      ]
     },
     "metadata": {},
     "output_type": "display_data"
    },
    {
     "data": {
      "application/vnd.jupyter.widget-view+json": {
       "model_id": "3608a522c2b84a93aa6d38f42f99f4aa",
       "version_major": 2,
       "version_minor": 0
      },
      "text/plain": [
       "Downloading images for Viktor Reznov:   0%|          | 0/50 [00:00<?, ?it/s]"
      ]
     },
     "metadata": {},
     "output_type": "display_data"
    },
    {
     "data": {
      "application/vnd.jupyter.widget-view+json": {
       "model_id": "c9138039ab87423aa6f294ba82e6a7ff",
       "version_major": 2,
       "version_minor": 0
      },
      "text/plain": [
       "Downloading images for Fidel Castro:   0%|          | 0/50 [00:00<?, ?it/s]"
      ]
     },
     "metadata": {},
     "output_type": "display_data"
    },
    {
     "data": {
      "application/vnd.jupyter.widget-view+json": {
       "model_id": "2a20cde13f354001a852808ecbf4e605",
       "version_major": 2,
       "version_minor": 0
      },
      "text/plain": [
       "Downloading images for George Barkley:   0%|          | 0/50 [00:00<?, ?it/s]"
      ]
     },
     "metadata": {},
     "output_type": "display_data"
    },
    {
     "data": {
      "application/vnd.jupyter.widget-view+json": {
       "model_id": "6e1365c5c93a4bb6a8320662a5a26b41",
       "version_major": 2,
       "version_minor": 0
      },
      "text/plain": [
       "Downloading images for Marcus Burns:   0%|          | 0/50 [00:00<?, ?it/s]"
      ]
     },
     "metadata": {},
     "output_type": "display_data"
    },
    {
     "data": {
      "application/vnd.jupyter.widget-view+json": {
       "model_id": "86d74749e5e14011ae93b834319debcd",
       "version_major": 2,
       "version_minor": 0
      },
      "text/plain": [
       "Downloading images for Yasir Al-Fulani:   0%|          | 0/50 [00:00<?, ?it/s]"
      ]
     },
     "metadata": {},
     "output_type": "display_data"
    },
    {
     "data": {
      "application/vnd.jupyter.widget-view+json": {
       "model_id": "a1f222c074d7465a820064980cfed581",
       "version_major": 2,
       "version_minor": 0
      },
      "text/plain": [
       "Downloading images for Abigail \"Misty\" Briarton:   0%|          | 0/50 [00:00<?, ?it/s]"
      ]
     },
     "metadata": {},
     "output_type": "display_data"
    },
    {
     "data": {
      "application/vnd.jupyter.widget-view+json": {
       "model_id": "4e70df329cb444b9ad61105fc2023013",
       "version_major": 2,
       "version_minor": 0
      },
      "text/plain": [
       "Downloading images for Sergei Kozin:   0%|          | 0/50 [00:00<?, ?it/s]"
      ]
     },
     "metadata": {},
     "output_type": "display_data"
    },
    {
     "data": {
      "application/vnd.jupyter.widget-view+json": {
       "model_id": "870caa0d535e4639b97c559dc1ebe615",
       "version_major": 2,
       "version_minor": 0
      },
      "text/plain": [
       "Downloading images for Castro's Double:   0%|          | 0/50 [00:00<?, ?it/s]"
      ]
     },
     "metadata": {},
     "output_type": "display_data"
    },
    {
     "data": {
      "application/vnd.jupyter.widget-view+json": {
       "model_id": "e52f44bdeb784e43a71b672df198ce69",
       "version_major": 2,
       "version_minor": 0
      },
      "text/plain": [
       "Downloading images for Gaines:   0%|          | 0/50 [00:00<?, ?it/s]"
      ]
     },
     "metadata": {},
     "output_type": "display_data"
    },
    {
     "data": {
      "application/vnd.jupyter.widget-view+json": {
       "model_id": "8bd351c3ac48472b9c13fa6dd0b5930f",
       "version_major": 2,
       "version_minor": 0
      },
      "text/plain": [
       "Downloading images for Miko:   0%|          | 0/50 [00:00<?, ?it/s]"
      ]
     },
     "metadata": {},
     "output_type": "display_data"
    },
    {
     "data": {
      "application/vnd.jupyter.widget-view+json": {
       "model_id": "fc1f64f32b054983842c590f351b6157",
       "version_major": 2,
       "version_minor": 0
      },
      "text/plain": [
       "Downloading images for Orendi:   0%|          | 0/50 [00:00<?, ?it/s]"
      ]
     },
     "metadata": {},
     "output_type": "display_data"
    },
    {
     "data": {
      "application/vnd.jupyter.widget-view+json": {
       "model_id": "3ff2b67395f14c47b1eb3aedf5f9d170",
       "version_major": 2,
       "version_minor": 0
      },
      "text/plain": [
       "Downloading images for El Dragón:   0%|          | 0/50 [00:00<?, ?it/s]"
      ]
     },
     "metadata": {},
     "output_type": "display_data"
    },
    {
     "data": {
      "application/vnd.jupyter.widget-view+json": {
       "model_id": "734704cd290a4a6a9fe995dd20fff712",
       "version_major": 2,
       "version_minor": 0
      },
      "text/plain": [
       "Downloading images for Galilea:   0%|          | 0/50 [00:00<?, ?it/s]"
      ]
     },
     "metadata": {},
     "output_type": "display_data"
    },
    {
     "data": {
      "application/vnd.jupyter.widget-view+json": {
       "model_id": "1068c307b87e47ca88d5532bd24bae78",
       "version_major": 2,
       "version_minor": 0
      },
      "text/plain": [
       "Downloading images for Kleese:   0%|          | 0/50 [00:00<?, ?it/s]"
      ]
     },
     "metadata": {},
     "output_type": "display_data"
    },
    {
     "data": {
      "application/vnd.jupyter.widget-view+json": {
       "model_id": "179841c3559a464cb961b90b5245d7b4",
       "version_major": 2,
       "version_minor": 0
      },
      "text/plain": [
       "Downloading images for R a t h:   0%|          | 0/50 [00:00<?, ?it/s]"
      ]
     },
     "metadata": {},
     "output_type": "display_data"
    },
    {
     "data": {
      "application/vnd.jupyter.widget-view+json": {
       "model_id": "9ff451ed1d0044298dd421c7aa3d348b",
       "version_major": 2,
       "version_minor": 0
      },
      "text/plain": [
       "Downloading images for Reyna:   0%|          | 0/50 [00:00<?, ?it/s]"
      ]
     },
     "metadata": {},
     "output_type": "display_data"
    },
    {
     "data": {
      "application/vnd.jupyter.widget-view+json": {
       "model_id": "68bfbcb87a90412ca325d3f79b1f08df",
       "version_major": 2,
       "version_minor": 0
      },
      "text/plain": [
       "Downloading images for Battleborn:   0%|          | 0/50 [00:00<?, ?it/s]"
      ]
     },
     "metadata": {},
     "output_type": "display_data"
    },
    {
     "data": {
      "application/vnd.jupyter.widget-view+json": {
       "model_id": "7dc7083abd6c451093d2e701e0afb6a0",
       "version_major": 2,
       "version_minor": 0
      },
      "text/plain": [
       "Downloading images for Beatrix:   0%|          | 0/50 [00:00<?, ?it/s]"
      ]
     },
     "metadata": {},
     "output_type": "display_data"
    },
    {
     "data": {
      "application/vnd.jupyter.widget-view+json": {
       "model_id": "ea56ef97df044206bd36bcc48686a87a",
       "version_major": 2,
       "version_minor": 0
      },
      "text/plain": [
       "Downloading images for Benedict:   0%|          | 0/50 [00:00<?, ?it/s]"
      ]
     },
     "metadata": {},
     "output_type": "display_data"
    },
    {
     "data": {
      "application/vnd.jupyter.widget-view+json": {
       "model_id": "f76798c666134932ac3bfd4decb3ce22",
       "version_major": 2,
       "version_minor": 0
      },
      "text/plain": [
       "Downloading images for Kelvin:   0%|          | 0/50 [00:00<?, ?it/s]"
      ]
     },
     "metadata": {},
     "output_type": "display_data"
    },
    {
     "data": {
      "application/vnd.jupyter.widget-view+json": {
       "model_id": "1c7f3d7b70c945ef9d825b40f50f091a",
       "version_major": 2,
       "version_minor": 0
      },
      "text/plain": [
       "Downloading images for Montana:   0%|          | 0/50 [00:00<?, ?it/s]"
      ]
     },
     "metadata": {},
     "output_type": "display_data"
    },
    {
     "data": {
      "application/vnd.jupyter.widget-view+json": {
       "model_id": "ea7b17078006401bbcb346399e48ae02",
       "version_major": 2,
       "version_minor": 0
      },
      "text/plain": [
       "Downloading images for Oscar Mike:   0%|          | 0/50 [00:00<?, ?it/s]"
      ]
     },
     "metadata": {},
     "output_type": "display_data"
    },
    {
     "data": {
      "application/vnd.jupyter.widget-view+json": {
       "model_id": "e774977cb8824390953d43538fba7baf",
       "version_major": 2,
       "version_minor": 0
      },
      "text/plain": [
       "Downloading images for Phoebe:   0%|          | 0/50 [00:00<?, ?it/s]"
      ]
     },
     "metadata": {},
     "output_type": "display_data"
    },
    {
     "data": {
      "application/vnd.jupyter.widget-view+json": {
       "model_id": "399546add9b74303805857befb130df1",
       "version_major": 2,
       "version_minor": 0
      },
      "text/plain": [
       "Downloading images for Shayne and Aurox:   0%|          | 0/50 [00:00<?, ?it/s]"
      ]
     },
     "metadata": {},
     "output_type": "display_data"
    },
    {
     "data": {
      "application/vnd.jupyter.widget-view+json": {
       "model_id": "a4b7af6e95a54e3cb01c1fece2cbbed8",
       "version_major": 2,
       "version_minor": 0
      },
      "text/plain": [
       "Downloading images for Toby:   0%|          | 0/50 [00:00<?, ?it/s]"
      ]
     },
     "metadata": {},
     "output_type": "display_data"
    },
    {
     "data": {
      "application/vnd.jupyter.widget-view+json": {
       "model_id": "4666f3266c6c4328a04df1d2bae71da6",
       "version_major": 2,
       "version_minor": 0
      },
      "text/plain": [
       "Downloading images for Whiskey foxtrot:   0%|          | 0/50 [00:00<?, ?it/s]"
      ]
     },
     "metadata": {},
     "output_type": "display_data"
    },
    {
     "data": {
      "application/vnd.jupyter.widget-view+json": {
       "model_id": "5a089c01662a4467b68ec70eb0f5e6fc",
       "version_major": 2,
       "version_minor": 0
      },
      "text/plain": [
       "Downloading images for Marquis:   0%|          | 0/50 [00:00<?, ?it/s]"
      ]
     },
     "metadata": {},
     "output_type": "display_data"
    },
    {
     "data": {
      "application/vnd.jupyter.widget-view+json": {
       "model_id": "4207f2ff734e47aba6603e268c8e56e6",
       "version_major": 2,
       "version_minor": 0
      },
      "text/plain": [
       "Downloading images for Kerillian:   0%|          | 0/50 [00:00<?, ?it/s]"
      ]
     },
     "metadata": {},
     "output_type": "display_data"
    },
    {
     "data": {
      "application/vnd.jupyter.widget-view+json": {
       "model_id": "bba1fc59b5d04bfe9e5bc85915226e5c",
       "version_major": 2,
       "version_minor": 0
      },
      "text/plain": [
       "Downloading images for Victor Saltzpyre:   0%|          | 0/50 [00:00<?, ?it/s]"
      ]
     },
     "metadata": {},
     "output_type": "display_data"
    },
    {
     "data": {
      "application/vnd.jupyter.widget-view+json": {
       "model_id": "3ecaa9af2c7243eca3b741a7c946f54c",
       "version_major": 2,
       "version_minor": 0
      },
      "text/plain": [
       "Downloading images for Markus Kruber:   0%|          | 0/50 [00:00<?, ?it/s]"
      ]
     },
     "metadata": {},
     "output_type": "display_data"
    },
    {
     "data": {
      "application/vnd.jupyter.widget-view+json": {
       "model_id": "828bb7981a154ae4b191a70475a74b2f",
       "version_major": 2,
       "version_minor": 0
      },
      "text/plain": [
       "Downloading images for Franz Lohner:   0%|          | 0/50 [00:00<?, ?it/s]"
      ]
     },
     "metadata": {},
     "output_type": "display_data"
    },
    {
     "data": {
      "application/vnd.jupyter.widget-view+json": {
       "model_id": "8ef77cead058433591f595cbf713e8a6",
       "version_major": 2,
       "version_minor": 0
      },
      "text/plain": [
       "Downloading images for Bardin Goreksson:   0%|          | 0/50 [00:00<?, ?it/s]"
      ]
     },
     "metadata": {},
     "output_type": "display_data"
    }
   ],
   "source": [
    "resume_row_id = 216\n",
    "\n",
    "for index, row in df.iterrows():\n",
    "    if index >= resume_row_id:\n",
    "        character = row['Character']\n",
    "        # Replace characters that are invalid for directory names\n",
    "        safe_character = ''.join(c for c in character if c.isalnum() or c in (' ','_')).rstrip()\n",
    "        character_dir = os.path.join(base_dir, safe_character.replace(' ', '_'))\n",
    "        \n",
    "        # Ensure the character's directory exists\n",
    "        if not os.path.exists(character_dir):\n",
    "            os.makedirs(character_dir)\n",
    "        \n",
    "        # Get the list of images that have already been downloaded to avoid re-downloading\n",
    "        existing_images = set(os.listdir(character_dir))\n",
    "        \n",
    "        # Download each image from the 'urls' list\n",
    "        for image_number, url in enumerate(tqdm(row['urls'], desc=f\"Downloading images for {character}\")):\n",
    "            # Check if the image already exists\n",
    "            image_filename = f'image_{image_number:03}.jpg'\n",
    "            if image_filename not in existing_images:\n",
    "                if download_image(url, character_dir, image_number):\n",
    "                    existing_images.add(image_filename) "
   ]
  },
  {
   "cell_type": "code",
   "execution_count": null,
   "id": "877f92e2",
   "metadata": {},
   "outputs": [],
   "source": []
  }
 ],
 "metadata": {
  "kernelspec": {
   "display_name": "GPU",
   "language": "python",
   "name": "gpu"
  },
  "language_info": {
   "codemirror_mode": {
    "name": "ipython",
    "version": 3
   },
   "file_extension": ".py",
   "mimetype": "text/x-python",
   "name": "python",
   "nbconvert_exporter": "python",
   "pygments_lexer": "ipython3",
   "version": "3.9.16"
  }
 },
 "nbformat": 4,
 "nbformat_minor": 5
}
